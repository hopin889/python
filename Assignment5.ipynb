{
 "cells": [
  {
   "cell_type": "markdown",
   "metadata": {},
   "source": [
    "##1. 클래스와 모듈의 공통점과 차이점에 대해 설명하시오."
   ]
  },
  {
   "cell_type": "markdown",
   "metadata": {},
   "source": [
    "클래스와 모듈은 정의된 항목을 캡슐화하는 참조 형식이지만 다른 프로시저에서 항목을 엑세스하는 방법이 서로 다릅니다. 또한 클래스는 인스턴스화가 가능하지만 모듈은 그렇지 않습니다."
   ]
  },
  {
   "cell_type": "markdown",
   "metadata": {},
   "source": [
    "##2. 다형성에 대해 설명하고 다형성을 보여주는 자신만의 파이썬 코드 예제를 제시하시오."
   ]
  },
  {
   "cell_type": "code",
   "execution_count": 1,
   "metadata": {
    "collapsed": false
   },
   "outputs": [
    {
     "name": "stdout",
     "output_type": "stream",
     "text": [
      "야구공\n",
      "축구공\n",
      "농구공\n",
      "테니스공\n"
     ]
    }
   ],
   "source": [
    "class sports:\n",
    "    def using_ball(self):\n",
    "        print '해당 종목에서 사용하는 공'\n",
    "    \n",
    "class baseball(sports):\n",
    "    def using_ball(self):\n",
    "        print '야구공'\n",
    "\n",
    "class football(sports):\n",
    "    def using_ball(self):\n",
    "        print '축구공'\n",
    "        \n",
    "class basketball(sports):\n",
    "    def using_ball(self):\n",
    "        print '농구공'\n",
    "    \n",
    "class tennis(sports):\n",
    "    def using_ball(self):\n",
    "        print '테니스공'\n",
    "        \n",
    "for ele in (baseball(), football(), basketball(), tennis()):\n",
    "    ele.using_ball();"
   ]
  },
  {
   "cell_type": "markdown",
   "metadata": {},
   "source": [
    "##3. 다음 각 요구사항 모두를 만족시키는 Counter 클래스를 코딩하시오 (정답을 각 요구사항별로 입력할 필요 없이 3번 문제에 대해 1개의 클래스 정의 코드를 제시하면 된다.)"
   ]
  },
  {
   "cell_type": "code",
   "execution_count": 2,
   "metadata": {
    "collapsed": false
   },
   "outputs": [
    {
     "name": "stdout",
     "output_type": "stream",
     "text": [
      "[Count(step:1)] 10\n",
      "[Count(step:2)] 10\n",
      "[Count(step:1)] 11\n",
      "[Count(step:2)] 12\n",
      "[Count(step:1)] 12\n",
      "[Count(step:2)] 14\n",
      "17\n",
      "9\n",
      "True\n",
      "False\n",
      "False\n",
      "True\n",
      "True\n",
      "False\n"
     ]
    }
   ],
   "source": [
    "class Counter:\n",
    "    def __init__(self, _count, _step=1):\n",
    "        self.count=_count\n",
    "        self.step=_step\n",
    "    def __str__(self):\n",
    "        return '[Count(step:' + str(self.step) + ')] ' + str(self.count)\n",
    "    def incr(self):\n",
    "        self.count+=self.step\n",
    "    def __call__(self):\n",
    "        self.incr()\n",
    "    def __add__(self, other):\n",
    "        return self.count+other\n",
    "    def __sub__(self, other):\n",
    "        return self.count-other\n",
    "    def __cmp__(self, other):\n",
    "        if self.count>=other:\n",
    "            return true\n",
    "        else:\n",
    "            return false\n",
    "\n",
    "c = Counter(10)\n",
    "d = Counter(10,2)\n",
    "\n",
    "print c\n",
    "print d\n",
    "\n",
    "c.incr()\n",
    "d.incr()\n",
    "print c\n",
    "print d\n",
    "\n",
    "c()\n",
    "d()\n",
    "\n",
    "print c\n",
    "print d\n",
    "\n",
    "c = c + 5\n",
    "d = d - 5\n",
    "print c\n",
    "print d\n",
    "\n",
    "print c > 10\n",
    "print d > 10\n",
    "print c < 10\n",
    "print d < 10\n",
    "print c == 17\n",
    "print d != 9"
   ]
  },
  {
   "cell_type": "markdown",
   "metadata": {},
   "source": [
    "##4. 다음은 내장 자료형 list를 서브클래싱하여 만든 MySet 클래스 정의 내용이다. 다음 클래스 정의에서 init(), str()(), elimicate_duplicate()의 세 개의 메소드 코드 내용을 자신이 다른 사람에게 가르친다고 생각하며 설명해보시오."
   ]
  },
  {
   "cell_type": "code",
   "execution_count": 3,
   "metadata": {
    "collapsed": false
   },
   "outputs": [
    {
     "name": "stdout",
     "output_type": "stream",
     "text": [
      "MySet: {1 ,2 ,3}\n",
      "MySet: {2 ,3 ,4 ,5 ,6 ,7 ,8 ,9}\n"
     ]
    }
   ],
   "source": [
    "class MySet(list):\n",
    "    def __init__(self, l): #생성자\n",
    "        for e in l: #'l'이라는 리스트를 입력받아서 그 원소들을 새로운 클래스 Myset의 메소드로 사용합니다.\n",
    "            self.append(e)\n",
    "        MySet.eliminate_duplicate(self) #미리 생성되있던 스태틱 메소드를 불러온다. \n",
    "    \n",
    "    def __str__(self): #__str()__메소드\n",
    "        result = \"MySet: {\"\n",
    "        for e in self: #class MySet의 메소드 l을 형식에 맞추어 출력한다.\n",
    "            result = result + str(e) + \" ,\"\n",
    "        result = result[0:len(result)-2] + \"}\"\n",
    "        return result\n",
    "\n",
    "    @staticmethod #static method는 class가 선언되기 전에도 사용할 수 있다.(미리 메모리에 load되어 있다.)   \n",
    "    def eliminate_duplicate(l):\n",
    "        s = [] #s 리스트 초기화\n",
    "        for e in l: \n",
    "            if e not in s: #l리스트에서 원소들을 중복없이 s리스트에 저장한다.(ex. aaabbc -> abc) / 임시저장의 개념\n",
    "                s.append(e)\n",
    "        l[:] = [] #l 리스트 초기화\n",
    "        for e in s: #s리스트의 모든 원소를 l리스트로 옮긴다.(즉, class Myset의 멤버가 된다.)\n",
    "            l.append(e)\n",
    "    \n",
    "if __name__ == \"__main__\":\n",
    "    s = MySet([1, 2, 2, 3])\n",
    "    print s\n",
    "    t = MySet([2, 3, 4, 5, 6, 7, 8, 8, 8, 8, 8, 9])\n",
    "    print t"
   ]
  },
  {
   "cell_type": "markdown",
   "metadata": {},
   "source": [
    "##5. 4번 문제에 정의된 MySet 클래스에 메소드를 추가하여 다음 각 요구사항 모두를 만족시키는 코딩을 제시하시오 (정답을 각 요구사항별로 입력할 필요 없이 5번 문제에 대해 1개의 MySet 클래스 정의 코드를 제시하면 된다.)"
   ]
  },
  {
   "cell_type": "code",
   "execution_count": 4,
   "metadata": {
    "collapsed": false
   },
   "outputs": [
    {
     "name": "stdout",
     "output_type": "stream",
     "text": [
      "MySet: {1 ,2 ,3}\n",
      "MySet: {2 ,3 ,4 ,5 ,6 ,7 ,8 ,9}\n",
      "[1, 2, 3, 2, 3, 4, 5, 6, 7, 8, 9]\n",
      "[3]\n",
      "[1, 2]\n"
     ]
    }
   ],
   "source": [
    "class MySet(list):\n",
    "    def __init__(self, l): #생성자\n",
    "        for e in l: #'l'이라는 리스트를 입력받아서 그 원소들을 새로운 클래스 Myset의 메소드로 사용합니다.\n",
    "            self.append(e)\n",
    "        MySet.eliminate_duplicate(self) #미리 생성되있던 스태틱 메소드를 불러온다. \n",
    "    \n",
    "    def __str__(self): #__str()__메소드\n",
    "        result = \"MySet: {\"\n",
    "        for e in self: #class MySet의 메소드 l을 형식에 맞추어 출력한다.\n",
    "            result = result + str(e) + \" ,\"\n",
    "        result = result[0:len(result)-2] + \"}\"\n",
    "        return result\n",
    "    def __or__(self, other):\n",
    "        return self+other\n",
    "    def __and__(self, other):\n",
    "        result=[]\n",
    "        for ele in self:\n",
    "            if ele in other:\n",
    "                result.append(ele)\n",
    "        return result\n",
    "    def __sub__(self, other):\n",
    "        result=[]\n",
    "        for ele in self:\n",
    "            if ele not in self&other:\n",
    "                result.append(ele)\n",
    "        return result\n",
    "    \n",
    "    @staticmethod #static method는 class가 선언되기 전에도 사용할 수 있다.(미리 메모리에 load되어 있다.)   \n",
    "    def eliminate_duplicate(l):\n",
    "        s = [] #s 리스트 초기화\n",
    "        for e in l: \n",
    "            if e not in s: #l리스트에서 원소들을 중복없이 s리스트에 저장한다.(ex. aaabbc -> abc) / 임시저장의 개념\n",
    "                s.append(e)\n",
    "        l[:] = [] #l 리스트 초기화\n",
    "        for e in s: #s리스트의 모든 원소를 l리스트로 옮긴다.(즉, class Myset의 멤버가 된다.)\n",
    "            l.append(e)\n",
    "    \n",
    "    \n",
    "    \n",
    "if __name__ == \"__main__\":\n",
    "    s = MySet([1, 2, 2, 3])\n",
    "    print s\n",
    "    t = MySet([2, 3, 4, 5, 6, 7, 8, 8, 8, 8, 8, 9])\n",
    "    print t\n",
    "    \n",
    "    s = s|t\n",
    "    print s\n",
    "    \n",
    "    s = MySet([1,2,3])\n",
    "    t = MySet([3,4,5])\n",
    "    s = s&t\n",
    "    print s\n",
    "    \n",
    "    s = MySet([1,2,3])\n",
    "    t = MySet([3,4,5])\n",
    "    s = s - t\n",
    "    print s"
   ]
  },
  {
   "cell_type": "markdown",
   "metadata": {},
   "source": [
    "##6. 5번 문제에서 정의한 MySet 클래스에 대해 다음 예제를 수행하면 오류없이 올바르게 동작하는 것을 확인할 수 있다. 다음 예제 내에 있는 len(), bool() 내장함수와 in 키워드 사용 예제가 별다른 메소드 정의를 하지 않았는 데도 올바르게 수행되는 이유를 설명하시오."
   ]
  },
  {
   "cell_type": "code",
   "execution_count": 5,
   "metadata": {
    "collapsed": false
   },
   "outputs": [
    {
     "name": "stdout",
     "output_type": "stream",
     "text": [
      "6\n",
      "True\n",
      "True\n"
     ]
    }
   ],
   "source": [
    "class MySet(list):\n",
    "    def __init__(self, l): #생성자\n",
    "        for e in l: #'l'이라는 리스트를 입력받아서 그 원소들을 새로운 클래스 Myset의 메소드로 사용합니다.\n",
    "            self.append(e)\n",
    "        MySet.eliminate_duplicate(self) #미리 생성되있던 스태틱 메소드를 불러온다. \n",
    "    \n",
    "    def __str__(self): #__str()__메소드\n",
    "        result = \"MySet: {\"\n",
    "        for e in self: #class MySet의 메소드 l을 형식에 맞추어 출력한다.\n",
    "            result = result + str(e) + \" ,\"\n",
    "        result = result[0:len(result)-2] + \"}\"\n",
    "        return result\n",
    "    def __or__(self, other):\n",
    "        return self+other\n",
    "    def __and__(self, other):\n",
    "        result=[]\n",
    "        for ele in self:\n",
    "            if ele in other:\n",
    "                result.append(ele)\n",
    "        return result\n",
    "    def __sub__(self, other):\n",
    "        result=[]\n",
    "        for ele in self:\n",
    "            if ele not in self&other:\n",
    "            #if ele not in __add__(other):\n",
    "                result.append(ele)\n",
    "        return result\n",
    "    \n",
    "    @staticmethod #static method는 class가 선언되기 전에도 사용할 수 있다.(미리 메모리에 load되어 있다.)   \n",
    "    def eliminate_duplicate(l):\n",
    "        s = [] #s 리스트 초기화\n",
    "        for e in l: \n",
    "            if e not in s: #l리스트에서 원소들을 중복없이 s리스트에 저장한다.(ex. aaabbc -> abc) / 임시저장의 개념\n",
    "                s.append(e)\n",
    "        l[:] = [] #l 리스트 초기화\n",
    "        for e in s: #s리스트의 모든 원소를 l리스트로 옮긴다.(즉, class Myset의 멤버가 된다.)\n",
    "            l.append(e)\n",
    "        \n",
    "if __name__ == \"__main__\":\n",
    "    s = MySet([1,2,3,4,5,6])\n",
    "    \n",
    "    print len(s)\n",
    "    \n",
    "    print bool(s)\n",
    "    \n",
    "    print 2 in s  "
   ]
  },
  {
   "cell_type": "markdown",
   "metadata": {},
   "source": [
    "이유 : MySet 클래스가 부모 클래스 list의 메소드 len(), bool(), in 등을 물려 받았기 때문이다.(부모 클래스에 정의된 메소드를 참조함)"
   ]
  },
  {
   "cell_type": "markdown",
   "metadata": {},
   "source": [
    "##7. 프로젝트 오일러 16번 문제"
   ]
  },
  {
   "cell_type": "code",
   "execution_count": 6,
   "metadata": {
    "collapsed": false
   },
   "outputs": [
    {
     "name": "stdout",
     "output_type": "stream",
     "text": [
      "1366\n"
     ]
    }
   ],
   "source": [
    "puissance = str(2**1000)\n",
    "resultat = 0\n",
    "for i in puissance:\n",
    "    resultat += int(i)\n",
    "print(resultat)"
   ]
  },
  {
   "cell_type": "markdown",
   "metadata": {},
   "source": [
    "##8. 프로젝트 오일러 17번 문제"
   ]
  },
  {
   "cell_type": "code",
   "execution_count": 7,
   "metadata": {
    "collapsed": false
   },
   "outputs": [
    {
     "name": "stdout",
     "output_type": "stream",
     "text": [
      "21124\n"
     ]
    }
   ],
   "source": [
    "ones = {'1': 'one', '2': 'two', '3': 'three', '4': 'four', '5': 'five',\n",
    "        '6': 'six', '7': 'seven', '8': 'eight', '9': 'nine', '0': ''}\n",
    " \n",
    "tens = {'2': 'twenty', '3': 'thirty', '4': 'forty', '5': 'fifty',\n",
    "        '6': 'sixty', '7': 'seventy', '8': 'eighty', '9': 'ninety'}\n",
    " \n",
    "teens = {'10': 'ten', '11': 'eleven', '12': 'twelve', '13': 'thriteen',\n",
    "         '14': 'fourteen', '15': 'fifteen', '16': 'sixteen', '17': 'seventeen',\n",
    "         '18': 'eighteen', '19': 'nineteen'}\n",
    " \n",
    "hundreds = {0: 0, 1: \"onehundredand\", 2: \"twohundredand\",\n",
    "            3: \"threehundredand\", 4: \"fourhundredand\",\n",
    "            5: \"fivehundredand\", 6: \"sixhundredand\",\n",
    "            7: \"sevenhundredand\", 8: \"eighthundredand\",\n",
    "            9: \"ninehundredand\" }\n",
    " \n",
    "if __name__ == \"__main__\":\n",
    "    tot = 0\n",
    "    for h in xrange(10):\n",
    "        for y in xrange(1,100):\n",
    "            try:\n",
    "                t,o = tuple(str(y))\n",
    "                if t is '1':\n",
    "                    tot += len(\"{h}{t}\".format(h=hundreds[h], t=teens[t + o]))\n",
    "                else:\n",
    "                    tot += len(\"{h}{t}{o}\".format(h=hundreds[h], t=tens[t],\n",
    "                                                  o=ones[o]))\n",
    "            except ValueError:\n",
    "                    tot += len(\"{h}{o}\".format(h=hundreds[h], o=ones[str(y)]))\n",
    "    tot += len('onethousand')\n",
    "    print tot"
   ]
  },
  {
   "cell_type": "markdown",
   "metadata": {},
   "source": [
    "##9. 프로젝트 오일러 18번 문제"
   ]
  },
  {
   "cell_type": "code",
   "execution_count": 9,
   "metadata": {
    "collapsed": false
   },
   "outputs": [
    {
     "name": "stdout",
     "output_type": "stream",
     "text": [
      "1074\n"
     ]
    }
   ],
   "source": [
    "def max_path_sum(triangle):\n",
    "    triangle = [[int(j) for j in i.split()] for i in triangle.split(\"\\n\")]\n",
    "    triangle.reverse()\n",
    "    for i in range(1, len(triangle)):\n",
    "        for j, k in enumerate(triangle[i]):\n",
    "            triangle[i][j] = k + max([triangle[i-1][j], triangle[i-1][j+1]])\n",
    "    return triangle[-1][0]\n",
    "\n",
    "triangle = \"\"\"75\n",
    "95 64\n",
    "17 47 82\n",
    "18 35 87 10\n",
    "20 04 82 47 65\n",
    "19 01 23 75 03 34\n",
    "88 02 77 73 07 63 67\n",
    "99 65 04 28 06 16 70 92\n",
    "41 41 26 56 83 40 80 70 33\n",
    "41 48 72 33 47 32 37 16 94 29\n",
    "53 71 44 65 25 43 91 52 97 51 14\n",
    "70 11 33 28 77 73 17 78 39 68 17 57\n",
    "91 71 52 38 17 14 91 43 58 50 27 29 48\n",
    "63 66 04 68 89 53 67 30 73 16 69 87 40 31\n",
    "04 62 98 27 23 09 70 98 73 93 38 53 60 04 23\"\"\"\n",
    "print(max_path_sum(triangle))"
   ]
  },
  {
   "cell_type": "markdown",
   "metadata": {},
   "source": [
    "##10. 프로젝트 오일러 19번 문제"
   ]
  },
  {
   "cell_type": "code",
   "execution_count": 10,
   "metadata": {
    "collapsed": false
   },
   "outputs": [
    {
     "name": "stdout",
     "output_type": "stream",
     "text": [
      "171\n"
     ]
    }
   ],
   "source": [
    "import datetime\n",
    "resultat = 0\n",
    "for i in range(1901, 2001):\n",
    "    for j in range(1, 13):\n",
    "        if datetime.date(i, j, 1).weekday() == 6:\n",
    "            resultat += 1\n",
    "print(resultat)"
   ]
  },
  {
   "cell_type": "markdown",
   "metadata": {},
   "source": [
    "##11. 프로젝트 오일러 20번 문제"
   ]
  },
  {
   "cell_type": "code",
   "execution_count": 11,
   "metadata": {
    "collapsed": false
   },
   "outputs": [
    {
     "name": "stdout",
     "output_type": "stream",
     "text": [
      "648\n"
     ]
    }
   ],
   "source": [
    "import math\n",
    "fact = str(math.factorial(100))\n",
    "resultat = 0\n",
    "for i in fact:\n",
    "    resultat += int(i)\n",
    "print(resultat)"
   ]
  },
  {
   "cell_type": "markdown",
   "metadata": {},
   "source": [
    "##12. 프로젝트 오일러 21번 문제"
   ]
  },
  {
   "cell_type": "code",
   "execution_count": 12,
   "metadata": {
    "collapsed": false
   },
   "outputs": [
    {
     "name": "stdout",
     "output_type": "stream",
     "text": [
      "31626\n"
     ]
    }
   ],
   "source": [
    "def divisors(nb, extremum = False):\n",
    "    divisors = []\n",
    "    inf = 1 if extremum else 2\n",
    "    for i in range(inf, int(nb**0.5)+1):\n",
    "        q, r = divmod(nb, i)\n",
    "        if r == 0:\n",
    "            if q >= i:\n",
    "                divisors.append(i)\n",
    "                if q > i:\n",
    "                    divisors.append(nb//i)\n",
    "    return divisors\n",
    "\n",
    "def d(nb):\n",
    "    return 1 + sum(divisors(nb))\n",
    "resultat = 0\n",
    "for a in range(1, 10000):\n",
    "    b = d(a)\n",
    "    if d(b) == a and a != b:\n",
    "        resultat += a\n",
    "print(resultat)"
   ]
  },
  {
   "cell_type": "markdown",
   "metadata": {},
   "source": [
    "##13. 이전 Assignment 3 (Assignment 4가 아님)의 마지막 문제는 웹 URL로 지정된 웹페이지를 문자열로 가져와 모든 HTML 태그 및 CSS와 Javascript를 제외한 순수 텍스트를 얻어내고 그 안에 존재하는 단어를 추출하여 각 단어들에 대해 출현빈도를 사전형태({'world': 2, 'hello': 1, 'python': 1})로 저장하여 출력하는 것이었다. 이번에는 Assignment 3을 다시 확장/변형하여 다음과 같은 조건을 만족하도록 구현하시오."
   ]
  },
  {
   "cell_type": "code",
   "execution_count": 2,
   "metadata": {
    "collapsed": false
   },
   "outputs": [
    {
     "name": "stdout",
     "output_type": "stream",
     "text": [
      "http://www.bbc.com\n",
      "http://www.amazon.com\n",
      "http://www.apple.com\n",
      "http://www.bbc.com\n",
      "{'Canada': 15, 'Sell': 5, 'all': 5, 'Pathfinder': 2, '\\xe2\\x80\\x98guardian': 4, 'Madras': 2, 'Unlocked': 1, 'gwftGrdesktopherosoftlines': 1, 'global': 2, 'focus': 2, 'Desktop': 2, 'browsers': 2, 'talks': 2, 'follow': 1, 'Kyrgyz': 2, 'hate': 2, 'children': 4, '160160160Women': 1, 'Notice': 1, 'Liverpool': 6, 'Retina': 1, 'zone': 2, 'Kids\\xe2\\x80\\x99': 1, 'Sellers': 1, 'Watch': 7, 'languages': 2, 'to': 57, 'Doucet': 2, 'voted': 4, 'Converter': 1, 'under': 2, 'health': 2, 'women': 4, 'worth': 4, 'started': 1, 'League': 2, 'updated': 1, 'GAHUZA': 2, 'rescue': 6, 'Pros': 1, 'Lookcom': 1, 'Garden': 1, 'reserved': 1, 'swallows': 4, 'television': 1, 'Improvement': 1, 'Where': 2, 'missionary': 4, 'expats': 4, 'Pope': 2, 'Investors': 1, '\\xe6\\x97\\xa5\\xe6\\x9c\\xac\\xe8\\xaa\\x9e': 2, 'stimulus': 2, 'qu\\xe1\\xbb\\x91c': 2, 'rights': 1, 'list': 4, 'MUNDO': 2, 'deals': 7, 'Does': 6, 'Dremel': 1, 'scores': 2, 'Go': 1, 'obsess': 2, '\\xc4\\x91\\xe1\\xba\\xa7u': 2, 'Turkey': 4, 'work': 4, 'says': 2, 'colossal': 1, 'Terms': 3, 'sign': 6, 'go': 1, 'State': 4, 'video': 2, 'Easy': 3, '800horsepower': 2, 'semifinals': 2, 'Discounts': 2, '\\xd9\\xbe\\xd8\\xb3': 2, 'Latin': 2, 'iCloudcom': 1, 'Subscriptions': 1, 'saved': 4, '64m': 4, 'favour': 2, 'shares': 4, 'find': 1, 'access': 1, 'lights': 4, 'Explore': 2, 'version': 2, 'Hamilton': 6, 'goes': 4, 'new': 3, 'Line': 1, 'America': 2, 'Vaswani': 2, 'Indie': 2, 'wwwamazoncomaccess': 1, 'Kingdom': 1, 'Made': 3, 'Appliances': 1, 'Gift': 9, '\\xd9\\xbe\\xda\\x9a\\xd8\\xaa\\xd9\\x88': 2, 'We': 1, 'Departments': 1, 'hours': 6, 'wild': 4, 'Chennai': 10, 'them': 4, '6pm': 1, 'Our': 2, 'Knitting': 1, 'hightech': 2, 'teacher': 2, 'Instruments': 1, 'landmarks': 1, 'search': 6, 'kids': 5, 'Business': 14, 'Chinese': 4, 'Open': 8, '30': 2, 'Back': 1, 'experience': 1, 'Your': 15, '29degC': 2, 'TenMarkscom': 1, 'postParis': 4, 'menu': 1, 'action': 6, 'Home': 6, 'Arabic': 8, 'Kimchi': 4, 'navigation': 2, 'genuinely': 2, 'love': 3, 'Privacy': 5, 'Inc': 2, 'Top': 2, 'Outdoors': 1, 'Visit': 1, 'Relations': 1, 'Handpicked': 1, 'Languages': 2, 'Genius': 1, 'Book': 2, 'Health': 2, 'Nico': 2, 'England\\xe2\\x80\\x99s': 4, 'Brazilian': 2, 'patrol': 4, 'should': 2, 'armed': 2, 'Europe': 10, 'Customers': 1, 'Australia': 7, 'from': 16, 'Russias': 4, 'Vietnamese': 4, 'Lawn': 1, 'Scientific': 1, 'CBBC': 4, 'sports': 2, 'Sopel': 2, 'few': 4, 'Membership': 1, 'going': 2, 'music': 1, 'iPhone': 4, 'VI\\xe1\\xbb\\x86T': 2, 'mysterious': 2, 'Cities': 4, 'Adler': 2, 'today': 1, 'more': 15, 'Financing': 1, 'Casacom': 1, '\\xd8\\xaf\\xd9\\x88': 2, 'brings': 2, '\\xd9\\x86\\xd9\\x81\\xd8\\xb1': 2, 'Devices': 2, 'cooperate': 2, '99': 2, 'Affiliate': 1, 'iPod': 1, 'Latest': 5, 'me': 4, 'Content': 1, 'Marketplace': 1, 'valued': 2, 'Can': 2, 'heavyweight': 2, 'Jongun': 2, 'this': 6, 'car': 2, 'package': 2, 'poet\\xe2\\x80\\x99s': 2, 'reviews': 1, 'movies': 1, 'Score': 1, 'Video': 4, 'angel\\xe2\\x80\\x99': 4, 'of': 69, 'following': 2, 'making': 2, 'male': 2, 'my': 4, 'could': 2, 'T\\xc3\\x9cRK\\xc3\\x87E': 2, 'Police': 4, 'links': 6, 'give': 4, 'Celebrities': 1, 'BMWs': 4, 'in': 68, 'Grocery': 1, 'Gear': 2, 'Diaperscom': 1, 'MYHABIT': 1, 'Netherlands': 1, 'numbers': 4, 'Digital': 9, 'Policy': 3, 'Cultures': 4, 'Australian': 2, 'Audiobook': 1, '65bn': 6, 'information': 4, 'Putin': 6, 'end': 2, '\\xd0\\xa3\\xd0\\x9a\\xd0\\xa0\\xd0\\x90\\xd0\\x87\\xd0\\x9d\\xd0\\xa1\\xd0\\xac\\xd0\\x9aA': 2, 'optimised': 2, 'plans': 8, 'holds': 2, 'UKs': 4, '1': 4, 'how': 6, 'glowing': 2, 'UN': 4, 'scifi': 2, 'Jungleecom': 1, 'Tyson': 2, 'Why': 4, 'Zika': 2, 'A': 9, 'product': 1, 'fever': 4, 'tried': 2, 'Five': 2, 'after': 10, 'southern': 4, 'Product': 1, 'British': 2, 'Ocean': 2, 'dinosaurs': 4, 'MH370': 6, '\\xe4\\xb8\\xad\\xe6\\x96\\x87\\xe7\\xbd\\x91': 2, 'adventure': 4, 'what\\xe2\\x80\\x99s': 2, 'Swiss': 2, 'president': 4, 'Corporate': 1, 'man': 4, 'a': 41, 'All': 4, 'Outdoor': 1, 'attempt': 2, 'Shoes': 3, 'reseller': 1, 'Tools': 1, 'Fury': 6, 'Kamal': 2, 'Probe': 4, 'After': 2, 'Kinyarwanda': 2, 'Middle': 8, 'Weather': 6, 'Radio': 4, 'Best': 1, 'Direct': 1, 'Politics': 4, 'Ship': 1, 'playing': 4, 'talk': 2, 'Swahili': 2, 'responsible': 2, 'Burmese': 2, 'over': 2, 'Katya': 2, 'AIDS': 1, 'Opportunities': 1, 'Download': 1, '\\xe1\\xbb\\x9f': 2, 'nbsp': 12, 'pitch': 2, 'headings': 1, 'Supplies': 1, '\\xd9\\x81\\xd8\\xa7\\xd8\\xb1\\xd8\\xb3\\xdb\\x8c': 2, 'Cameras': 1, 'its': 1, 'Ads': 1, 'RAF': 2, '20': 2, 'Oneminute': 4, 'Parental': 2, 'No': 1, 'CBeebies': 4, 'Soapcom': 1, 'Actionable': 1, 'Putting': 2, '\\xd0\\xa0\\xd0\\xa3\\xd0\\xa1\\xd0\\xa1\\xd0\\x9a\\xd0\\x9e\\xd0\\x9c': 2, 'ginormous': 1, '2015': 3, 'World': 12, 'weeks': 4, 'Tamil': 2, 'into': 2, 'Spain': 1, 'Reuse': 1, 'coffee': 6, 'Kids': 2, 'Payment': 2, 'rsaquo': 1, 'than': 2, 'Shenanigans': 1, '\\xd8\\xa7\\xd8\\xb2': 2, 'Returns': 1, 'Pashto': 2, 'Youth': 1, 'Bag': 2, 'Right': 1, 'Replacements': 1, 'effects': 2, 'they': 2, 'party': 4, 'not': 6, 'iD': 2, 'linking': 2, 'killed': 2, '160160160Girls': 1, 'Environment': 3, 'Products': 3, 'San': 8, 'BeautyBarcom': 1, 'Everything': 5, 'Macabre': 2, 'fully': 2, 'Pro': 1, 'Investor': 1, 'India': 8, 'Accessories': 3, '24degC': 2, 'blackvote': 2, '\\xe1\\x80\\x99\\xe1\\x80\\xbc\\xe1\\x80\\x94\\xe1\\x80\\xba\\xe1\\x80\\x99\\xe1\\x80\\xac': 2, 'applecom': 1, '\\xe0\\xb7\\x83\\xe0\\xb7\\x92\\xe0\\xb6\\x82\\xe0\\xb7\\x84\\xe0\\xb6\\xbd': 2, 'Bangla': 2, 'iPlayer': 4, '\\xd8\\xa2\\xd9\\x88\\xd8\\xb1': 2, 'Sport': 6, 'exquisite': 2, 'Sat': 2, 'Arts': 5, 'storage': 1, 'From': 3, 'Fabric': 1, 'peacekeepers': 2, 'About': 4, 'Legal': 1, 'Sports': 2, 'Damascus': 8, 'Live': 3, 'oil': 6, '397': 2, '160160160Boys': 1, 'year': 6, 'Print': 1, 'our': 2, 'operation': 2, 'Caroline': 2, 'now': 1, 'special': 2, 'out': 2, 'Learn': 5, 'ACX': 1, 'Door': 1, 'banking': 6, 'Promo': 1, 'announces': 6, 'since': 4, 'factory': 2, 'Press': 1, 'content': 2, 'include': 1, 'Job': 1, 'China': 9, 'socalled': 4, 'Key': 8, 'reader': 1, 'Baby': 2, 'newly': 2, 'devolves': 2, 'Jon': 2, 'shows': 3, 'minitornado': 4, 'Join': 1, 'Hour': 1, 'This': 2, '\\xd8\\xa7\\xdb\\x8c\\xda\\xa9': 2, 'free': 1, 'Picks': 2, 'bungled': 2, 'But': 1, 'Thin': 1, 'members': 1, 'put': 2, 'Iran': 2, 'Quilting': 1, 'patronage': 4, 'mosquitoborne': 2, 'owners': 4, 'Education': 3, 'ministry': 2, 'Money': 1, 'refugee': 2, 'ritual': 4, '160160160Baby': 1, 'days': 2, 'Sign': 3, 'Currency': 1, 'choices': 2, 'place': 4, 'massive': 2, 'SOMALI': 2, 'AmazonGlobal': 1, 'first': 14, 'Brazil': 5, 'SWAHILI': 2, 'features': 1, 'Copyright': 3, 'Fri': 2, 'Please': 1, 'scene': 4, 'Asia': 8, 'one': 5, 'Cell': 2, '\\xd8\\xad\\xd9\\x85\\xd9\\x84\\xdb\\x81': 2, 'Indian': 8, 'Rates': 1, 'defects': 4, 'Syria': 18, 'carry': 2, 'Smartwatches': 1, 'Local': 4, 'Careers': 1, 'city': 8, 'story': 10, 'ancient': 4, 'North': 4, 'ECB': 2, 'Monday': 1, 'Nature': 4, 'top': 1, 'girls': 4, 'ripples': 4, 'ID': 1, 'VampA': 4, 'paint': 2, 'attack': 2, '2': 2, 'Epic': 1, 'IMDb': 1, 'View': 8, 'really': 4, 'Workshops': 1, 'TwoDay': 1, 'Search': 3, 'INDONESIA': 2, 'Rare': 1, 'way': 2, 'Deals': 3, 'that': 2, 'season': 2, 'hotel': 2, 'BBC': 30, 'kh\\xc3\\xb4ng': 2, 'released': 2, 'Trumps': 2, 'Stylish': 1, 'believe': 4, 'haven': 2, 'Hausa': 2, 'Seven': 4, 'UNs': 2, 'Love': 1, '14': 4, '16': 4, '\\xd8\\xb4\\xd9\\x86\\xd8\\xa7\\xd8\\xae\\xd8\\xaa': 2, 'Mexico': 1, 'likely': 2, 'Cyber': 1, 'Joy': 1, 'Analytics': 1, 'Featured': 2, 'future': 1, 'DVDs': 1, 'Advertise': 3, 'Sinhala': 2, 'and': 36, 'mini': 1, 'fashion': 1, 'false': 2, 'modern': 2, 'Ahmed': 2, 'Japanese': 4, 'say': 2, 'unlikely': 6, 'have': 3, 'miserable': 4, 'confirms': 4, 'TI\\xe1\\xba\\xbeNG': 2, 'their': 8, 'option': 2, 'Eurozone': 2, 'Europe\\xe2\\x80\\x99s': 4, 'East': 9, 'Ukrainian': 2, 'Food': 5, 'Editor\\xe2\\x80\\x99s': 2, 'Carrie': 2, '\\xd9\\x81\\xd8\\xa7\\xd8\\xa6\\xd8\\xb1\\xd9\\x86\\xda\\xaf': 2, 'Germany': 1, 'InterestBased': 1, 'Kim': 6, 'brace': 2, 'Activities': 1, 'Become': 2, 'V8i': 2, 'Refunds': 1, 'price': 4, 'who': 2, 'reach': 4, 'Indonesian': 2, 'paid': 2, 'Vtech': 6, 'rematch': 6, 'virus': 2, 'Games': 3, 'but': 2, 'Mercedes': 2, 'The': 40, 'Portuguese': 2, 'AfterSchoolcom': 1, '\\xd9\\x85\\xdb\\x8c\\xda\\xba': 2, '\\xd8\\xb3\\xdb\\x92': 2, 'Lewis': 2, 'gwftGrdesktopheropiv': 1, 'stranded': 2, 'Inclusion': 1, 'Aseki': 2, 'ways': 1, 'Donald': 2, '160160160Men': 1, 'aunt': 6, 'Automotive': 1, 'Earth': 10, 'left': 2, 'physics': 2, '\\xe0\\xae\\xa4\\xe0\\xae\\xae\\xe0\\xae\\xbf\\xe0\\xae\\xb4\\xe0\\xaf\\x8d': 2, 'Cloud': 1, 'Gracie': 2, 'shop': 1, 'Web': 2, 'changed\\xc2\\xa0is\\xc2\\xa0everything': 1, 'exclusive': 1, 'Paris': 6, 'Wladimir': 2, 'iTunes': 1, 'bring': 4, 'United': 2, 'hack': 6, 'debate': 8, 'Math': 1, 'MoD': 2, 'impact': 2, 'giant': 2, 'copy': 2, 'based': 2, 'Internationally': 1, 'title': 2, '30degC': 6, '223': 2, 'Photography': 1, '\\xd8\\xaf\\xd8\\xb1': 2, 'French': 2, 'Origi': 2, 'here': 1, 'Gourmet': 1, 'only': 1, 'experiment': 2, 'Studio': 4, 'come\\xc2\\xa0many': 1, 'photo': 1, 'Services': 5, 'Gabura': 2, 'Christmas\\xe2\\x80\\x9d': 2, '\\xd9\\x85\\xd8\\xb4\\xd8\\xaa\\xd8\\xa8\\xdb\\x81': 2, 'personality': 4, 'Prime': 8, 'Account': 5, 'his': 10, 'Nepali': 2, 'get': 4, 'watch': 2, 'Lyse': 2, 'Magazine': 5, 'Code': 1, 'sues': 4, '\\xd8\\xb9\\xd8\\xb1\\xd8\\xa8\\xd9\\x8a': 2, 'Quick': 1, 'For': 5, 'BestSelling': 1, 'Fifa': 6, 'homegrown': 2, 'Help': 8, 'shopping': 1, '\\xda\\xa9\\xd8\\xb4\\xd8\\xaa\\xd8\\xa7\\xd8\\xb1': 2, 'Recycling': 1, 'privacy': 2, 'she': 2, 'recommendations': 1, 'Urdu': 4, 'bought': 1, 'See': 9, 'Guarantee': 1, 'iPad': 5, 'Caribbean': 2, 'Essentials': 1, '\\xd8\\xac\\xd9\\x86\\xd9\\x88\\xd8\\xa8': 2, 'Pet': 2, '\\xe0\\xa4\\xb9\\xe0\\xa4\\xbf\\xe0\\xa4\\xa8\\xe0\\xa5\\x8d\\xe0\\xa4\\xa6\\xe0\\xa5\\x80': 2, 'Guidance': 2, 'Jonguns': 4, 'Apps': 2, 'France': 3, 'Supplier': 1, 'Recommended': 2, 'officials': 4, 'are': 8, 'seal': 4, 'Formula': 2, 'kimchi': 2, 'Worldwide': 1, 'suspects': 6, 'Shopping': 4, 'Bernardino': 8, 'pictures': 10, 'away': 2, 'sites': 2, 'genius': 4, '3': 2, 'Mighty': 1, 'between': 2, 'it': 2, 'Bitesize': 4, 'Happy': 1, '\\xe3\\x82\\xa4\\xe3\\x83\\xb3\\xe3\\x83\\x89\\xe3\\x80\\x81\\xe7\\x9f\\xb3\\xe7\\x82\\xad\\xe3\\x81\\xae\\xe4\\xbd\\xbf\\xe7\\x94\\xa8\\xe5\\x89\\x8a\\xe6\\xb8\\x9b\\xe3\\x82\\x92\\xe7\\xa4\\xba\\xe5\\x94\\x86': 2, 'approach': 2, 'Kitchen': 2, 'Info': 2, 'Southampton': 6, 'Uzbek': 2, 'infrastructure': 2, 'recently': 1, 'god': 4, 'missing': 2, 'Harbor': 4, 'screen': 1, 'Toys': 2, '\\xd0\\x9d\\xd0\\x90': 2, 'S': 4, 'Race': 4, 'affiliates': 1, 'extent': 2, 'African': 2, 'jets': 2, 'police': 4, 'Dane': 1, 'cities': 2, 'lawsuit': 2, 'improve': 1, 'Designer': 3, 'climate': 4, 'Aerial': 4, 'reported': 2, 'secrets': 2, 'country': 4, 'taking': 2, 'equal': 4, 'against': 7, 'Malaysia': 2, 'Contact': 3, 'Ad': 2, 'Green': 1, 'Happiness': 1, 'Lisa': 2, 'DPReview': 1, 'among': 2, 'Guess': 4, 'wear': 1, '\\xd0\\x9a\\xd1\\x8b\\xd1\\x80\\xd0\\xb3\\xd1\\x8b\\xd0\\xb7': 2, 'Turkish': 2, 'Pictures': 6, 'Travel': 15, 'Dance': 5, 'accusation': 2, 'Pearl': 4, 'Amazoncom': 6, 'M6s': 4, 'Music': 7, 'Online': 2, 'kings': 4, 'bizarre': 4, 'Holiday': 2, 'Events': 1, 'expensive': 4, 'Publishing': 4, 'Rewards': 1, 'teammate': 2, 'second': 2, 'Get': 3, 'Cards': 4, 'Sewing': 2, 'three': 2, 'Cart': 1, 'Hello': 1, 'Most': 3, 'Responsibility': 1, 'recognised': 2, 'California': 2, 'KIRUNDI': 2, 'Newsday': 2, 'Schools': 1, 'Theres': 1, 'Card': 3, '\\xda\\xa9\\xdb\\x8c\\xd9\\x84\\xdb\\x8c\\xd9\\x81\\xd9\\x88\\xd8\\xb1\\xd9\\x86\\xdb\\x8c\\xd8\\xa7': 2, 'website': 1, 'life': 8, 'Peace': 1, 'flight': 2, 'champion': 4, 'Footer': 1, 'Textbooks': 1, 'Groceries': 1, 'gwftGrdesktopherokindleB': 1, 'great': 4, 'FREE': 1, 'gwftGrdesktopherokindleA': 1, 'Credit': 3, 'Points': 1, 'tense': 2, 'external': 4, 'CDs': 1, 'last': 2, 'thing': 1, 'Autos': 8, 'OZBEK': 2, 'Software': 1, 'Todays': 1, 'look': 1, 'To': 3, 'launches': 6, 'Warehouse': 1, 'Manage': 2, 'Anh': 2, 'Sales': 2, 'air': 16, 'will': 4, 'Culture': 10, 'Persian': 4, 'College': 1, 'Phones': 2, 'thrash': 2, 'Cyprus': 2, 'guide': 4, 'coolest': 4, 'mistake': 4, 'Zurcher': 2, 'Collectibles': 1, 'Woot': 1, 'Italy': 1, 'Additional': 1, 'Depository': 1, 'Menu': 18, 'is': 24, 'site': 2, 'Mens': 1, 'weighed': 2, '\\xd8\\xa7\\xd8\\xb1\\xd8\\xaf\\xd9\\x88': 2, 'Capital': 10, 'Bar': 1, 'You': 1, 'technology': 4, 'around': 2, 'Visa': 1, 'memorial': 4, 'floodhit': 2, 'BRASIL': 2, 'sanitary': 6, 'Tornado': 2, 'make': 6, 'authorise': 2, 'defectors': 6, 'bows': 2, 'inquiry': 4, 'Vinyl': 1, 'iMac': 1, 'V8': 4, 'Unesco': 6, 'isle': 2, 'Hackney': 4, 'week': 2, 'i8': 4, 'satellite': 2, 'used': 2, 'Luggage': 1, 'Ramayana': 4, 'App': 1, 'IS': 10, 'beast': 2, 'Movies': 3, 'Values': 1, 'Apparel': 1, 'yuan': 2, 'Order': 1, 'Patio': 1, 'Try': 2, 'off': 4, 'ComiXology': 1, 'Amazon': 16, 'Technology': 3, 'It': 4, 'Julia': 4, 'States': 1, 'Read': 2, 'practices': 2, 'In': 10, 'claims': 2, 'the': 99, 'Jerusalem': 4, 'Clothing': 3, 'Kirundi': 2, 'charged': 2, 'Light': 1, 'world': 6, 'agency': 2, 'traditions': 2, 'Service': 2, 'heavily': 2, 'moments': 8, 'money': 2, 'enjoy': 1, 'Boxing': 2, 'Handmade': 1, 'Wagcom': 1, 'arrests': 6, 'books': 1, 'human': 2, 'Internet': 2, 'Markets': 2, 'Now': 1, 'Belgian': 2, 'gt': 1, 'web': 2, 'generous': 4, 'cut': 2, 'Azeri': 2, 'Islamic': 8, 'Football': 4, 'royal': 4, 'Zuckerberg': 4, 'Margaret': 4, 'spread': 2, '4': 3, 'Diversity': 1, 'Brands': 1, 'News': 19, 'Support': 1, 'has': 2, 'By': 16, 'details': 1, 'jihad': 2, 'On': 6, 'victims': 4, 'complains': 4, 'Programs': 1, 'big': 2, 'k\\xc3\\xadch': 2, 'unlimited': 1, 'Shipping': 2, 'Air': 2, 'dark': 4, 'cultural': 2, 'Let': 1, 'makes': 2, 'birth': 4, 'Crafts': 1, 'amp': 19, 'unique': 4, 'Correspondents': 2, 'Audible': 1, 'Watched': 2, 'Wine': 1, 'Shop': 12, 'SelfPublish': 1, 'Cookies': 2, 'Fashion': 3, 'standstill': 4, 'Tron': 4, 'success': 2, 'Computing': 1, 'With': 3, 'Accessibility': 7, 'Karishma': 2, 'true': 2, 'Learning': 1, 'night': 4, 'Refurbished': 1, 'Fine': 1, 'Find': 2, 'Witness': 2, 'Hindi': 2, 'right': 5, 'Jewelry': 1, 'deal': 2, 'people': 4, 'Sun': 2, 'footage': 4, 'dead': 6, 'Quiz': 4, '\\xd9\\x85\\xd8\\xb8\\xd9\\x86\\xd9\\x88\\xd9\\x86': 2, 'Department': 1, 'images': 2, 'Wearables': 1, 'hattrick': 2, '\\xe2\\x80\\x9cSomeday': 2, 'Included': 1, 'hipsters': 2, 'Zappos': 1, '\\xc2\\xa343bn': 2, 'Vladimir': 6, 'for': 33, 'Singapore': 2, 'Conditions': 1, '\\xda\\xa9\\xdb\\x8c': 2, 'pad': 6, 'Scalable': 1, 'Gifts': 3, 'does': 2, 'Facebook': 2, '\\xdb\\x81\\xd9\\x84\\xd8\\xa7\\xda\\xa9\\xd8\\x8c': 2, 'leader': 2, 'Shariacompliant': 2, 'regain': 2, 'Status': 1, 'fullyquot': 2, 'Computers': 2, 'OpenBox': 1, 'CreateSpace': 1, '\\xe0\\xa4\\xa8\\xe0\\xa5\\x87\\xe0\\xa4\\xaa\\xe0\\xa4\\xbe\\xe0\\xa4\\xb2\\xe0\\xa5\\x80': 2, 'Comics': 1, 'Yacht': 4, 'Us': 4, 'gwftGrdesktopheroH': 1, 'Storage': 1, 'Place': 1, 'MPs': 4, 'Policies': 1, 'found': 4, 'Kindle': 3, 'loans': 2, 'by': 13, 'gwftGrdesktopheroG': 1, 'Explorer': 2, 'Somali': 2, 'on': 11, 'about': 7, 'Beauty': 4, '25degC': 6, 'most': 12, 'attacks': 6, 'island': 4, 'optimized': 1, 'US': 26, '\\xda\\xa9\\xd8\\xa7\\xd9\\x84\\xdb\\x8c\\xd9\\x81\\xd8\\xb1\\xd9\\x86\\xdb\\x8c\\xd8\\xa7': 2, 'VineMarketcom': 1, 'weaponry': 4, 'Americans': 2, 'that\\xe2\\x80\\x99s': 1, 'UK': 22, 'Cameron': 4, 'Japan': 1, 'Hot': 1, 'or': 3, 'road': 2, 'pollution': 2, '\\xdb\\xb1\\xdb\\xb4': 2, 'Use': 4, 'Private': 1, 'film': 2, 'Cup': 2, 'Make': 5, 'Electrically': 2, 'Two': 6, 'vacation': 2, 'down': 2, 'brands': 1, 'weather': 2, 'Art': 1, 'Luxury': 1, 'female': 2, 'Korean': 4, 'next': 2, 'shrinking': 4, 'your': 12, 'Store': 7, 'Cost': 1, 'Week': 4, 'Alexa': 1, 'her': 2, 'Phone': 1, 'support': 2, '\\xc2\\xa9': 2, 'gift': 5, 'Lists': 1, 'fight': 1, 'Anthony': 2, 'start': 2, 'much': 4, 'quotcontinue': 2, 'lot': 4, 'Shopbop': 1, 'call': 1, 'Prestige': 1, '1800MYAPPLE': 1, 'files': 2, '\\xd9\\x82\\xd8\\xaa\\xd9\\x84': 2, 'Thousands': 1, 'Science': 2, '19962015': 1, 'strikes': 28, 'Thu': 2, 'Russian': 6, 'link': 3, 'b\\xe1\\xba\\xaft': 2, 'Small': 1, 'technologies': 2, 'Whos': 4, 'with': 25, 'Guide': 6, 'AFRIQUE': 2, 'he': 2, 'quotcomplains': 2, 'also': 2, 'Industrial': 1, 'Office': 1, 'Africa': 12, 'up': 7, 'lifespan': 2, 'Yoyocom': 1, 'Books': 5, 'ruling': 2, '\\xe0\\xa6\\xac\\xe0\\xa6\\xbe\\xe0\\xa6\\x82\\xe0\\xa6\\xb2\\xe0\\xa6\\xbe': 2, 'Close': 8, 'problem': 1, 'Care': 1, 'Divock': 2, 'Delivered': 1, 'looms': 2, 'lotquot': 2, 'Personal': 1, 'Nuclear': 2, 'Free': 1, 'AbeBooks': 1, 'Airlines': 2, 'an': 7, 'How': 12, 'as': 10, 'AZ\\xc6\\x8fRBAYCAN': 2, 'at': 15, 'families': 2, 'Electronics': 2, 'shooting': 18, 'Homepage': 4, 'China\\xe2\\x80\\x99s': 4, 'HAUSA': 2, 'Goodreads': 1, 'Map': 1, 'yoga': 2, 'us': 3, 'TV': 10, 'hybrid': 2, 'iWonder': 4, 'Delivery': 1, 'flood': 4, 'Mac': 3, 'other': 2, '5': 2, 'Know': 1, 'test': 6, 'tech': 4, 'More': 6, 'Apple': 17, 'poor': 2, 'Red': 1, 'mummies': 2, 'Lost': 4, 'Klitschko': 6, 'Edit': 2, 'Floods': 4, 'Spanish': 2, 'Life': 1, 'gifts': 9, 'loading': 1, 'Future': 8, '\\xe2\\x80\\xa6': 2, 'tackle': 2, 'Vendor': 1, 'Audio': 1, 'Musical': 1, 'South': 2, 'building': 2, 'Wyatt': 2, '\\xe2\\x80\\x93': 2, 'AmazonFresh': 1, 'Biblical': 4, 'Rosberg': 6, 'space': 4, 'Site': 3, 'Pantry': 1, 'An': 2, '6s': 1, 'mass': 6, 'time': 4, 'gwftGrdesktopheroprime': 1, 'Orders': 2}\n",
      "\n",
      "the\n",
      "the\n"
     ]
    }
   ],
   "source": [
    "import urllib\n",
    "import re #특수문자 제거를 위함\n",
    "dic={} #각 단어들의 출현빈도를 사전형태로 저장\n",
    "\n",
    "class WebWordsFrequency(list):\n",
    "    \n",
    "    def __init__(self, *args):\n",
    "        for ele in args:\n",
    "            self.append(ele)\n",
    "    def addUrl(self, url):\n",
    "        self.append(url)\n",
    "    def removeUrl(self, url):\n",
    "        i = self.index(url) #url이 가장 먼저 나오는 인덱스 값\n",
    "        self = self[:i]+self[i:]\n",
    "    def listUrls(self):\n",
    "        for ele in self:\n",
    "            print ele\n",
    "            \n",
    "    #@staticmethod\n",
    "    def getWordsFrequency(self):        \n",
    "        if self!=None:\n",
    "            for url in self:\n",
    "                source = urllib.urlopen(url).read()\n",
    "                len_source = len(source)\n",
    "\n",
    "                source_new = None\n",
    "                i = 0\n",
    "                while (i < len_source):\n",
    "                    found = False\n",
    "                    if (found != True and source[i] == \"<\" and source[i+1 : i+7].lower() == \"script\"):\n",
    "                        found = True;\n",
    "                        j = i + 7;\n",
    "                        while (True):\n",
    "                            if (source[j] == \"<\" and source[j+1] == \"/\" and source[j+2 : j+8].lower() == \"script\"):\n",
    "                                #print \"found - script\"\n",
    "                                source = source[:i] + ' ' + source[j+9:]\n",
    "                                break\n",
    "                            j = j + 1\n",
    "                            if (j > len_source):\n",
    "                                break\n",
    "                        len_source = len(source)\n",
    "                    i = i + 1\n",
    "\n",
    "                len_source = len(source)\n",
    "\n",
    "                i = 0\n",
    "                while (i < len_source):\n",
    "                    found = False\n",
    "                    if (found != True and source[i] == \"<\" and source[i+1 : i+6].lower() == \"style\"):\n",
    "                        found = True;\n",
    "                        j = i + 6;\n",
    "                        while (True):\n",
    "                            if (source[j] == \"<\" and source[j+1] == \"/\" and source[j+2 : j+7].lower() == \"style\"):\n",
    "                                #print \"found - style\"\n",
    "                                source = source[:i] + ' ' + source[j+8:]\n",
    "                                break\n",
    "                            j = j + 1\n",
    "                            if (j > len_source):\n",
    "                                break\n",
    "                        len_source = len(source)\n",
    "                    i = i + 1\n",
    "\n",
    "                len_source = len(source)\n",
    "\n",
    "                i = 0\n",
    "                while (i < len_source):\n",
    "                    found = False\n",
    "                    if (found != True and source[i] == \"<\"):\n",
    "                        found = True;\n",
    "                        j = i + 1;\n",
    "                        while (True):\n",
    "                            if (source[j] == \">\"):\n",
    "                                #print \"found - HTML tag\"\n",
    "                                source = source[:i] + ' ' + source[j+1:]\n",
    "                                break\n",
    "                            j = j + 1\n",
    "                            if (j > len_source):\n",
    "                                break\n",
    "                        len_source = len(source)\n",
    "                    i = i + 1\n",
    "\n",
    "                words = source.split()\n",
    "                \n",
    "                for word in words:\n",
    "                    word=re.sub('[^가-힝0-9a-zA-Z\\\\s]', '', word) #특수문자 제거\n",
    "                    if word!='':\n",
    "                        if(dic.get(word) == None):\n",
    "                            dic[word] = 1\n",
    "                        else:\n",
    "                            dic[word] += 1\n",
    "        print dic\n",
    "\n",
    "    def getMaxFrequencyWords(self):\n",
    "        max_keys=[] #value가 가장 큰 키값의 모임\n",
    "        L= dic.items() #사전의 items 저장\n",
    "        L.sort(reverse=True, key=lambda item:item[1]) #value값에 따라 오름차순으로 정렬\n",
    "        for ele in L:\n",
    "            if ele[1]==L[0][1]:\n",
    "                max_keys.append(ele[0]) #내림차순 정렬을 하였으므로 첫 번째 인자가 가장 크다. \n",
    "            else: #더이상 L[0]와 같은 값이 없으면 종료\n",
    "                break\n",
    "        for ele in max_keys:\n",
    "            print ele    \n",
    "\n",
    "w1=WebWordsFrequency('http://www.bbc.com', 'http://www.amazon.com', 'http://www.apple.com')\n",
    "w2=WebWordsFrequency('http://www.bbc.com', 'http://www.amazon.com')\n",
    "w3=WebWordsFrequency('http://www.bbc.com')\n",
    "\n",
    "w1.addUrl('http://www.bbc.com')\n",
    "w2.addUrl('http://www.fcc.gov')\n",
    "\n",
    "w1.removeUrl('http://www.bbc.com')\n",
    "w2.removeUrl('http://www.amazon.com')\n",
    "\n",
    "w1.listUrls()\n",
    "\n",
    "w1.getWordsFrequency()\n",
    "\n",
    "print \n",
    "\n",
    "w1.getMaxFrequencyWords()\n",
    "w2.getMaxFrequencyWords()"
   ]
  },
  {
   "cell_type": "markdown",
   "metadata": {},
   "source": [
    "##14. 13번 문제에서 정의한 WebWordsFrequency 클래스를 상속하여 OrderedWebWordsFrequency 클래스를 정의하고 슈퍼클래스에 정의된 getWordsFrequency() 메소드를 오버라이드 하여 단어 출현 빈도를 내림 차순으로 정렬하여 리스트로 출력하시오."
   ]
  },
  {
   "cell_type": "code",
   "execution_count": 3,
   "metadata": {
    "collapsed": false
   },
   "outputs": [
    {
     "name": "stdout",
     "output_type": "stream",
     "text": [
      "[('the', 99), ('of', 69), ('in', 68), ('to', 57), ('a', 41), ('The', 40), ('and', 36), ('for', 33), ('BBC', 30), ('strikes', 28), ('US', 26), ('with', 25), ('is', 24), ('UK', 22), ('News', 19), ('amp', 19), ('Syria', 18), ('Menu', 18), ('shooting', 18), ('Apple', 17), ('from', 16), ('air', 16), ('Amazon', 16), ('By', 16), ('Canada', 15), ('Your', 15), ('more', 15), ('Travel', 15), ('at', 15), ('Business', 14), ('first', 14), ('by', 13), ('nbsp', 12), ('World', 12), ('Shop', 12), ('most', 12), ('your', 12), ('Africa', 12), ('How', 12), ('on', 11), ('Chennai', 10), ('Europe', 10), ('after', 10), ('story', 10), ('Earth', 10), ('his', 10), ('pictures', 10), ('Culture', 10), ('Capital', 10), ('IS', 10), ('In', 10), ('as', 10), ('TV', 10), ('Gift', 9), ('Digital', 9), ('A', 9), ('China', 9), ('East', 9), ('See', 9), ('gifts', 9), ('Open', 8), ('Arabic', 8), ('plans', 8), ('Middle', 8), ('San', 8), ('India', 8), ('Damascus', 8), ('Key', 8), ('Asia', 8), ('Indian', 8), ('city', 8), ('View', 8), ('their', 8), ('debate', 8), ('Prime', 8), ('Help', 8), ('are', 8), ('Bernardino', 8), ('life', 8), ('Autos', 8), ('moments', 8), ('Islamic', 8), ('Close', 8), ('Future', 8), ('Watch', 7), ('deals', 7), ('Australia', 7), ('against', 7), ('Music', 7), ('Accessibility', 7), ('about', 7), ('Store', 7), ('up', 7), ('an', 7), ('Liverpool', 6), ('rescue', 6), ('Does', 6), ('sign', 6), ('Hamilton', 6), ('hours', 6), ('search', 6), ('action', 6), ('Home', 6), ('this', 6), ('links', 6), ('65bn', 6), ('Putin', 6), ('how', 6), ('MH370', 6), ('Fury', 6), ('Weather', 6), ('coffee', 6), ('not', 6), ('Sport', 6), ('oil', 6), ('year', 6), ('banking', 6), ('announces', 6), ('unlikely', 6), ('Kim', 6), ('Vtech', 6), ('rematch', 6), ('aunt', 6), ('Paris', 6), ('hack', 6), ('30degC', 6), ('Fifa', 6), ('suspects', 6), ('Southampton', 6), ('Pictures', 6), ('Amazoncom', 6), ('launches', 6), ('sanitary', 6), ('make', 6), ('defectors', 6), ('Unesco', 6), ('world', 6), ('arrests', 6), ('On', 6), ('dead', 6), ('Vladimir', 6), ('pad', 6), ('25degC', 6), ('attacks', 6), ('Two', 6), ('Russian', 6), ('Guide', 6), ('test', 6), ('More', 6), ('Klitschko', 6), ('Rosberg', 6), ('mass', 6), ('Sell', 5), ('all', 5), ('kids', 5), ('Privacy', 5), ('Latest', 5), ('Everything', 5), ('Arts', 5), ('Learn', 5), ('Brazil', 5), ('one', 5), ('Food', 5), ('Services', 5), ('Account', 5), ('Magazine', 5), ('For', 5), ('iPad', 5), ('Dance', 5), ('right', 5), ('Make', 5), ('gift', 5), ('Books', 5), ('\\xe2\\x80\\x98guardian', 4), ('children', 4), ('voted', 4), ('women', 4), ('worth', 4), ('swallows', 4), ('missionary', 4), ('expats', 4), ('list', 4), ('Turkey', 4), ('work', 4), ('State', 4), ('saved', 4), ('64m', 4), ('shares', 4), ('lights', 4), ('goes', 4), ('wild', 4), ('them', 4), ('Chinese', 4), ('postParis', 4), ('Kimchi', 4), ('England\\xe2\\x80\\x99s', 4), ('patrol', 4), ('Russias', 4), ('Vietnamese', 4), ('CBBC', 4), ('few', 4), ('iPhone', 4), ('Cities', 4), ('me', 4), ('Video', 4), ('angel\\xe2\\x80\\x99', 4), ('my', 4), ('Police', 4), ('give', 4), ('BMWs', 4), ('numbers', 4), ('Cultures', 4), ('information', 4), ('UKs', 4), ('1', 4), ('UN', 4), ('Why', 4), ('fever', 4), ('southern', 4), ('dinosaurs', 4), ('adventure', 4), ('president', 4), ('man', 4), ('All', 4), ('Probe', 4), ('Radio', 4), ('Politics', 4), ('playing', 4), ('Oneminute', 4), ('CBeebies', 4), ('weeks', 4), ('party', 4), ('iPlayer', 4), ('About', 4), ('since', 4), ('socalled', 4), ('minitornado', 4), ('patronage', 4), ('owners', 4), ('ritual', 4), ('place', 4), ('scene', 4), ('defects', 4), ('Local', 4), ('ancient', 4), ('North', 4), ('Nature', 4), ('girls', 4), ('ripples', 4), ('VampA', 4), ('really', 4), ('believe', 4), ('Seven', 4), ('14', 4), ('16', 4), ('Japanese', 4), ('miserable', 4), ('confirms', 4), ('Europe\\xe2\\x80\\x99s', 4), ('price', 4), ('reach', 4), ('bring', 4), ('Studio', 4), ('personality', 4), ('get', 4), ('sues', 4), ('Urdu', 4), ('Jonguns', 4), ('officials', 4), ('seal', 4), ('Shopping', 4), ('genius', 4), ('Bitesize', 4), ('god', 4), ('Harbor', 4), ('S', 4), ('Race', 4), ('police', 4), ('climate', 4), ('Aerial', 4), ('country', 4), ('equal', 4), ('Guess', 4), ('Pearl', 4), ('M6s', 4), ('kings', 4), ('bizarre', 4), ('expensive', 4), ('Publishing', 4), ('Cards', 4), ('champion', 4), ('great', 4), ('external', 4), ('will', 4), ('Persian', 4), ('guide', 4), ('coolest', 4), ('mistake', 4), ('technology', 4), ('memorial', 4), ('inquiry', 4), ('V8', 4), ('Hackney', 4), ('i8', 4), ('Ramayana', 4), ('off', 4), ('It', 4), ('Julia', 4), ('Jerusalem', 4), ('generous', 4), ('Football', 4), ('royal', 4), ('Zuckerberg', 4), ('Margaret', 4), ('victims', 4), ('complains', 4), ('dark', 4), ('birth', 4), ('unique', 4), ('standstill', 4), ('Tron', 4), ('night', 4), ('people', 4), ('footage', 4), ('Quiz', 4), ('Yacht', 4), ('Us', 4), ('MPs', 4), ('found', 4), ('Beauty', 4), ('island', 4), ('weaponry', 4), ('Cameron', 4), ('Use', 4), ('Korean', 4), ('shrinking', 4), ('Week', 4), ('much', 4), ('lot', 4), ('Whos', 4), ('Homepage', 4), ('China\\xe2\\x80\\x99s', 4), ('iWonder', 4), ('flood', 4), ('tech', 4), ('Lost', 4), ('Floods', 4), ('Biblical', 4), ('space', 4), ('time', 4), ('Terms', 3), ('Easy', 3), ('new', 3), ('Made', 3), ('love', 3), ('Policy', 3), ('Shoes', 3), ('2015', 3), ('Environment', 3), ('Products', 3), ('Accessories', 3), ('From', 3), ('Live', 3), ('shows', 3), ('Education', 3), ('Sign', 3), ('Copyright', 3), ('Search', 3), ('Deals', 3), ('Advertise', 3), ('have', 3), ('Games', 3), ('France', 3), ('Designer', 3), ('Contact', 3), ('Get', 3), ('Most', 3), ('Card', 3), ('Credit', 3), ('To', 3), ('Movies', 3), ('Technology', 3), ('Clothing', 3), ('4', 3), ('Fashion', 3), ('With', 3), ('Gifts', 3), ('Kindle', 3), ('or', 3), ('link', 3), ('us', 3), ('Mac', 3), ('Site', 3), ('Pathfinder', 2), ('Madras', 2), ('global', 2), ('focus', 2), ('Desktop', 2), ('browsers', 2), ('talks', 2), ('Kyrgyz', 2), ('hate', 2), ('zone', 2), ('languages', 2), ('Doucet', 2), ('under', 2), ('health', 2), ('League', 2), ('GAHUZA', 2), ('Where', 2), ('Pope', 2), ('\\xe6\\x97\\xa5\\xe6\\x9c\\xac\\xe8\\xaa\\x9e', 2), ('stimulus', 2), ('qu\\xe1\\xbb\\x91c', 2), ('MUNDO', 2), ('scores', 2), ('obsess', 2), ('\\xc4\\x91\\xe1\\xba\\xa7u', 2), ('says', 2), ('video', 2), ('800horsepower', 2), ('semifinals', 2), ('Discounts', 2), ('\\xd9\\xbe\\xd8\\xb3', 2), ('Latin', 2), ('favour', 2), ('Explore', 2), ('version', 2), ('America', 2), ('Vaswani', 2), ('Indie', 2), ('\\xd9\\xbe\\xda\\x9a\\xd8\\xaa\\xd9\\x88', 2), ('Our', 2), ('hightech', 2), ('teacher', 2), ('30', 2), ('29degC', 2), ('navigation', 2), ('genuinely', 2), ('Inc', 2), ('Top', 2), ('Languages', 2), ('Book', 2), ('Health', 2), ('Nico', 2), ('Brazilian', 2), ('should', 2), ('armed', 2), ('sports', 2), ('Sopel', 2), ('going', 2), ('VI\\xe1\\xbb\\x86T', 2), ('mysterious', 2), ('Adler', 2), ('\\xd8\\xaf\\xd9\\x88', 2), ('brings', 2), ('\\xd9\\x86\\xd9\\x81\\xd8\\xb1', 2), ('Devices', 2), ('cooperate', 2), ('99', 2), ('valued', 2), ('Can', 2), ('heavyweight', 2), ('Jongun', 2), ('car', 2), ('package', 2), ('poet\\xe2\\x80\\x99s', 2), ('following', 2), ('making', 2), ('male', 2), ('could', 2), ('T\\xc3\\x9cRK\\xc3\\x87E', 2), ('Gear', 2), ('Australian', 2), ('end', 2), ('\\xd0\\xa3\\xd0\\x9a\\xd0\\xa0\\xd0\\x90\\xd0\\x87\\xd0\\x9d\\xd0\\xa1\\xd0\\xac\\xd0\\x9aA', 2), ('optimised', 2), ('holds', 2), ('glowing', 2), ('scifi', 2), ('Tyson', 2), ('Zika', 2), ('tried', 2), ('Five', 2), ('British', 2), ('Ocean', 2), ('\\xe4\\xb8\\xad\\xe6\\x96\\x87\\xe7\\xbd\\x91', 2), ('what\\xe2\\x80\\x99s', 2), ('Swiss', 2), ('attempt', 2), ('Kamal', 2), ('After', 2), ('Kinyarwanda', 2), ('talk', 2), ('Swahili', 2), ('responsible', 2), ('Burmese', 2), ('over', 2), ('Katya', 2), ('\\xe1\\xbb\\x9f', 2), ('pitch', 2), ('\\xd9\\x81\\xd8\\xa7\\xd8\\xb1\\xd8\\xb3\\xdb\\x8c', 2), ('RAF', 2), ('20', 2), ('Parental', 2), ('Putting', 2), ('\\xd0\\xa0\\xd0\\xa3\\xd0\\xa1\\xd0\\xa1\\xd0\\x9a\\xd0\\x9e\\xd0\\x9c', 2), ('Tamil', 2), ('into', 2), ('Kids', 2), ('Payment', 2), ('than', 2), ('\\xd8\\xa7\\xd8\\xb2', 2), ('Pashto', 2), ('Bag', 2), ('effects', 2), ('they', 2), ('iD', 2), ('linking', 2), ('killed', 2), ('Macabre', 2), ('fully', 2), ('24degC', 2), ('blackvote', 2), ('\\xe1\\x80\\x99\\xe1\\x80\\xbc\\xe1\\x80\\x94\\xe1\\x80\\xba\\xe1\\x80\\x99\\xe1\\x80\\xac', 2), ('\\xe0\\xb7\\x83\\xe0\\xb7\\x92\\xe0\\xb6\\x82\\xe0\\xb7\\x84\\xe0\\xb6\\xbd', 2), ('Bangla', 2), ('\\xd8\\xa2\\xd9\\x88\\xd8\\xb1', 2), ('exquisite', 2), ('Sat', 2), ('peacekeepers', 2), ('Sports', 2), ('397', 2), ('our', 2), ('operation', 2), ('Caroline', 2), ('special', 2), ('out', 2), ('factory', 2), ('content', 2), ('Baby', 2), ('newly', 2), ('devolves', 2), ('Jon', 2), ('This', 2), ('\\xd8\\xa7\\xdb\\x8c\\xda\\xa9', 2), ('Picks', 2), ('bungled', 2), ('put', 2), ('Iran', 2), ('mosquitoborne', 2), ('ministry', 2), ('refugee', 2), ('days', 2), ('choices', 2), ('massive', 2), ('SOMALI', 2), ('SWAHILI', 2), ('Fri', 2), ('Cell', 2), ('\\xd8\\xad\\xd9\\x85\\xd9\\x84\\xdb\\x81', 2), ('carry', 2), ('ECB', 2), ('paint', 2), ('attack', 2), ('2', 2), ('INDONESIA', 2), ('way', 2), ('that', 2), ('season', 2), ('hotel', 2), ('kh\\xc3\\xb4ng', 2), ('released', 2), ('Trumps', 2), ('haven', 2), ('Hausa', 2), ('UNs', 2), ('\\xd8\\xb4\\xd9\\x86\\xd8\\xa7\\xd8\\xae\\xd8\\xaa', 2), ('likely', 2), ('Featured', 2), ('Sinhala', 2), ('false', 2), ('modern', 2), ('Ahmed', 2), ('say', 2), ('TI\\xe1\\xba\\xbeNG', 2), ('option', 2), ('Eurozone', 2), ('Ukrainian', 2), ('Editor\\xe2\\x80\\x99s', 2), ('Carrie', 2), ('\\xd9\\x81\\xd8\\xa7\\xd8\\xa6\\xd8\\xb1\\xd9\\x86\\xda\\xaf', 2), ('brace', 2), ('Become', 2), ('V8i', 2), ('who', 2), ('Indonesian', 2), ('paid', 2), ('virus', 2), ('but', 2), ('Mercedes', 2), ('Portuguese', 2), ('\\xd9\\x85\\xdb\\x8c\\xda\\xba', 2), ('\\xd8\\xb3\\xdb\\x92', 2), ('Lewis', 2), ('stranded', 2), ('Aseki', 2), ('Donald', 2), ('left', 2), ('physics', 2), ('\\xe0\\xae\\xa4\\xe0\\xae\\xae\\xe0\\xae\\xbf\\xe0\\xae\\xb4\\xe0\\xaf\\x8d', 2), ('Gracie', 2), ('Web', 2), ('Wladimir', 2), ('United', 2), ('MoD', 2), ('impact', 2), ('giant', 2), ('copy', 2), ('based', 2), ('title', 2), ('223', 2), ('\\xd8\\xaf\\xd8\\xb1', 2), ('French', 2), ('Origi', 2), ('experiment', 2), ('Gabura', 2), ('Christmas\\xe2\\x80\\x9d', 2), ('\\xd9\\x85\\xd8\\xb4\\xd8\\xaa\\xd8\\xa8\\xdb\\x81', 2), ('Nepali', 2), ('watch', 2), ('Lyse', 2), ('\\xd8\\xb9\\xd8\\xb1\\xd8\\xa8\\xd9\\x8a', 2), ('homegrown', 2), ('\\xda\\xa9\\xd8\\xb4\\xd8\\xaa\\xd8\\xa7\\xd8\\xb1', 2), ('privacy', 2), ('she', 2), ('Caribbean', 2), ('\\xd8\\xac\\xd9\\x86\\xd9\\x88\\xd8\\xa8', 2), ('Pet', 2), ('\\xe0\\xa4\\xb9\\xe0\\xa4\\xbf\\xe0\\xa4\\xa8\\xe0\\xa5\\x8d\\xe0\\xa4\\xa6\\xe0\\xa5\\x80', 2), ('Guidance', 2), ('Apps', 2), ('Recommended', 2), ('Formula', 2), ('kimchi', 2), ('away', 2), ('sites', 2), ('3', 2), ('between', 2), ('it', 2), ('\\xe3\\x82\\xa4\\xe3\\x83\\xb3\\xe3\\x83\\x89\\xe3\\x80\\x81\\xe7\\x9f\\xb3\\xe7\\x82\\xad\\xe3\\x81\\xae\\xe4\\xbd\\xbf\\xe7\\x94\\xa8\\xe5\\x89\\x8a\\xe6\\xb8\\x9b\\xe3\\x82\\x92\\xe7\\xa4\\xba\\xe5\\x94\\x86', 2), ('approach', 2), ('Kitchen', 2), ('Info', 2), ('Uzbek', 2), ('infrastructure', 2), ('missing', 2), ('Toys', 2), ('\\xd0\\x9d\\xd0\\x90', 2), ('extent', 2), ('African', 2), ('jets', 2), ('cities', 2), ('lawsuit', 2), ('reported', 2), ('secrets', 2), ('taking', 2), ('Malaysia', 2), ('Ad', 2), ('Lisa', 2), ('among', 2), ('\\xd0\\x9a\\xd1\\x8b\\xd1\\x80\\xd0\\xb3\\xd1\\x8b\\xd0\\xb7', 2), ('Turkish', 2), ('accusation', 2), ('Online', 2), ('Holiday', 2), ('teammate', 2), ('second', 2), ('Sewing', 2), ('three', 2), ('recognised', 2), ('California', 2), ('KIRUNDI', 2), ('Newsday', 2), ('\\xda\\xa9\\xdb\\x8c\\xd9\\x84\\xdb\\x8c\\xd9\\x81\\xd9\\x88\\xd8\\xb1\\xd9\\x86\\xdb\\x8c\\xd8\\xa7', 2), ('flight', 2), ('tense', 2), ('last', 2), ('OZBEK', 2), ('Manage', 2), ('Anh', 2), ('Sales', 2), ('Phones', 2), ('thrash', 2), ('Cyprus', 2), ('Zurcher', 2), ('site', 2), ('weighed', 2), ('\\xd8\\xa7\\xd8\\xb1\\xd8\\xaf\\xd9\\x88', 2), ('around', 2), ('floodhit', 2), ('BRASIL', 2), ('Tornado', 2), ('authorise', 2), ('bows', 2), ('isle', 2), ('week', 2), ('satellite', 2), ('used', 2), ('beast', 2), ('yuan', 2), ('Try', 2), ('Read', 2), ('practices', 2), ('claims', 2), ('Kirundi', 2), ('charged', 2), ('agency', 2), ('traditions', 2), ('Service', 2), ('heavily', 2), ('money', 2), ('Boxing', 2), ('human', 2), ('Internet', 2), ('Markets', 2), ('Belgian', 2), ('web', 2), ('cut', 2), ('Azeri', 2), ('spread', 2), ('has', 2), ('jihad', 2), ('big', 2), ('k\\xc3\\xadch', 2), ('Shipping', 2), ('Air', 2), ('cultural', 2), ('makes', 2), ('Correspondents', 2), ('Watched', 2), ('Cookies', 2), ('success', 2), ('Karishma', 2), ('true', 2), ('Find', 2), ('Witness', 2), ('Hindi', 2), ('deal', 2), ('Sun', 2), ('\\xd9\\x85\\xd8\\xb8\\xd9\\x86\\xd9\\x88\\xd9\\x86', 2), ('images', 2), ('hattrick', 2), ('\\xe2\\x80\\x9cSomeday', 2), ('hipsters', 2), ('\\xc2\\xa343bn', 2), ('Singapore', 2), ('\\xda\\xa9\\xdb\\x8c', 2), ('does', 2), ('Facebook', 2), ('\\xdb\\x81\\xd9\\x84\\xd8\\xa7\\xda\\xa9\\xd8\\x8c', 2), ('leader', 2), ('Shariacompliant', 2), ('regain', 2), ('fullyquot', 2), ('Computers', 2), ('\\xe0\\xa4\\xa8\\xe0\\xa5\\x87\\xe0\\xa4\\xaa\\xe0\\xa4\\xbe\\xe0\\xa4\\xb2\\xe0\\xa5\\x80', 2), ('loans', 2), ('Explorer', 2), ('Somali', 2), ('\\xda\\xa9\\xd8\\xa7\\xd9\\x84\\xdb\\x8c\\xd9\\x81\\xd8\\xb1\\xd9\\x86\\xdb\\x8c\\xd8\\xa7', 2), ('Americans', 2), ('road', 2), ('pollution', 2), ('\\xdb\\xb1\\xdb\\xb4', 2), ('film', 2), ('Cup', 2), ('Electrically', 2), ('vacation', 2), ('down', 2), ('weather', 2), ('female', 2), ('next', 2), ('her', 2), ('support', 2), ('\\xc2\\xa9', 2), ('Anthony', 2), ('start', 2), ('quotcontinue', 2), ('files', 2), ('\\xd9\\x82\\xd8\\xaa\\xd9\\x84', 2), ('Science', 2), ('Thu', 2), ('b\\xe1\\xba\\xaft', 2), ('technologies', 2), ('AFRIQUE', 2), ('he', 2), ('quotcomplains', 2), ('also', 2), ('lifespan', 2), ('ruling', 2), ('\\xe0\\xa6\\xac\\xe0\\xa6\\xbe\\xe0\\xa6\\x82\\xe0\\xa6\\xb2\\xe0\\xa6\\xbe', 2), ('Divock', 2), ('looms', 2), ('lotquot', 2), ('Nuclear', 2), ('Airlines', 2), ('AZ\\xc6\\x8fRBAYCAN', 2), ('families', 2), ('Electronics', 2), ('HAUSA', 2), ('yoga', 2), ('hybrid', 2), ('other', 2), ('5', 2), ('poor', 2), ('mummies', 2), ('Edit', 2), ('Spanish', 2), ('\\xe2\\x80\\xa6', 2), ('tackle', 2), ('South', 2), ('building', 2), ('Wyatt', 2), ('\\xe2\\x80\\x93', 2), ('An', 2), ('Orders', 2), ('Unlocked', 1), ('gwftGrdesktopherosoftlines', 1), ('follow', 1), ('160160160Women', 1), ('Notice', 1), ('Retina', 1), ('Kids\\xe2\\x80\\x99', 1), ('Sellers', 1), ('Converter', 1), ('started', 1), ('updated', 1), ('Pros', 1), ('Lookcom', 1), ('Garden', 1), ('reserved', 1), ('television', 1), ('Improvement', 1), ('Investors', 1), ('rights', 1), ('Dremel', 1), ('Go', 1), ('colossal', 1), ('go', 1), ('iCloudcom', 1), ('Subscriptions', 1), ('find', 1), ('access', 1), ('Line', 1), ('wwwamazoncomaccess', 1), ('Kingdom', 1), ('Appliances', 1), ('We', 1), ('Departments', 1), ('6pm', 1), ('Knitting', 1), ('Instruments', 1), ('landmarks', 1), ('Back', 1), ('experience', 1), ('TenMarkscom', 1), ('menu', 1), ('Outdoors', 1), ('Visit', 1), ('Relations', 1), ('Handpicked', 1), ('Genius', 1), ('Customers', 1), ('Lawn', 1), ('Scientific', 1), ('Membership', 1), ('music', 1), ('today', 1), ('Financing', 1), ('Casacom', 1), ('Affiliate', 1), ('iPod', 1), ('Content', 1), ('Marketplace', 1), ('reviews', 1), ('movies', 1), ('Score', 1), ('Celebrities', 1), ('Grocery', 1), ('Diaperscom', 1), ('MYHABIT', 1), ('Netherlands', 1), ('Audiobook', 1), ('Jungleecom', 1), ('product', 1), ('Product', 1), ('Corporate', 1), ('Outdoor', 1), ('reseller', 1), ('Tools', 1), ('Best', 1), ('Direct', 1), ('Ship', 1), ('AIDS', 1), ('Opportunities', 1), ('Download', 1), ('headings', 1), ('Supplies', 1), ('Cameras', 1), ('its', 1), ('Ads', 1), ('No', 1), ('Soapcom', 1), ('Actionable', 1), ('ginormous', 1), ('Spain', 1), ('Reuse', 1), ('rsaquo', 1), ('Shenanigans', 1), ('Returns', 1), ('Youth', 1), ('Right', 1), ('Replacements', 1), ('160160160Girls', 1), ('BeautyBarcom', 1), ('Pro', 1), ('Investor', 1), ('applecom', 1), ('storage', 1), ('Fabric', 1), ('Legal', 1), ('160160160Boys', 1), ('Print', 1), ('now', 1), ('ACX', 1), ('Door', 1), ('Promo', 1), ('Press', 1), ('include', 1), ('Job', 1), ('reader', 1), ('Join', 1), ('Hour', 1), ('free', 1), ('But', 1), ('Thin', 1), ('members', 1), ('Quilting', 1), ('Money', 1), ('160160160Baby', 1), ('Currency', 1), ('AmazonGlobal', 1), ('features', 1), ('Please', 1), ('Rates', 1), ('Smartwatches', 1), ('Careers', 1), ('Monday', 1), ('top', 1), ('ID', 1), ('Epic', 1), ('IMDb', 1), ('Workshops', 1), ('TwoDay', 1), ('Rare', 1), ('Stylish', 1), ('Love', 1), ('Mexico', 1), ('Cyber', 1), ('Joy', 1), ('Analytics', 1), ('future', 1), ('DVDs', 1), ('mini', 1), ('fashion', 1), ('Germany', 1), ('InterestBased', 1), ('Activities', 1), ('Refunds', 1), ('AfterSchoolcom', 1), ('gwftGrdesktopheropiv', 1), ('Inclusion', 1), ('ways', 1), ('160160160Men', 1), ('Automotive', 1), ('Cloud', 1), ('shop', 1), ('changed\\xc2\\xa0is\\xc2\\xa0everything', 1), ('exclusive', 1), ('iTunes', 1), ('Math', 1), ('Internationally', 1), ('Photography', 1), ('here', 1), ('Gourmet', 1), ('only', 1), ('come\\xc2\\xa0many', 1), ('photo', 1), ('Code', 1), ('Quick', 1), ('BestSelling', 1), ('shopping', 1), ('Recycling', 1), ('recommendations', 1), ('bought', 1), ('Guarantee', 1), ('Essentials', 1), ('Supplier', 1), ('Worldwide', 1), ('Mighty', 1), ('Happy', 1), ('recently', 1), ('screen', 1), ('affiliates', 1), ('Dane', 1), ('improve', 1), ('Green', 1), ('Happiness', 1), ('DPReview', 1), ('wear', 1), ('Events', 1), ('Rewards', 1), ('Cart', 1), ('Hello', 1), ('Responsibility', 1), ('Schools', 1), ('Theres', 1), ('website', 1), ('Peace', 1), ('Footer', 1), ('Textbooks', 1), ('Groceries', 1), ('gwftGrdesktopherokindleB', 1), ('FREE', 1), ('gwftGrdesktopherokindleA', 1), ('Points', 1), ('CDs', 1), ('thing', 1), ('Software', 1), ('Todays', 1), ('look', 1), ('Warehouse', 1), ('College', 1), ('Collectibles', 1), ('Woot', 1), ('Italy', 1), ('Additional', 1), ('Depository', 1), ('Mens', 1), ('Bar', 1), ('You', 1), ('Visa', 1), ('Vinyl', 1), ('iMac', 1), ('Luggage', 1), ('App', 1), ('Values', 1), ('Apparel', 1), ('Order', 1), ('Patio', 1), ('ComiXology', 1), ('States', 1), ('Light', 1), ('enjoy', 1), ('Handmade', 1), ('Wagcom', 1), ('books', 1), ('Now', 1), ('gt', 1), ('Diversity', 1), ('Brands', 1), ('Support', 1), ('details', 1), ('Programs', 1), ('unlimited', 1), ('Let', 1), ('Crafts', 1), ('Audible', 1), ('Wine', 1), ('SelfPublish', 1), ('Computing', 1), ('Learning', 1), ('Refurbished', 1), ('Fine', 1), ('Jewelry', 1), ('Department', 1), ('Wearables', 1), ('Included', 1), ('Zappos', 1), ('Conditions', 1), ('Scalable', 1), ('Status', 1), ('OpenBox', 1), ('CreateSpace', 1), ('Comics', 1), ('gwftGrdesktopheroH', 1), ('Storage', 1), ('Place', 1), ('Policies', 1), ('gwftGrdesktopheroG', 1), ('optimized', 1), ('VineMarketcom', 1), ('that\\xe2\\x80\\x99s', 1), ('Japan', 1), ('Hot', 1), ('Private', 1), ('brands', 1), ('Art', 1), ('Luxury', 1), ('Cost', 1), ('Alexa', 1), ('Phone', 1), ('Lists', 1), ('fight', 1), ('Shopbop', 1), ('call', 1), ('Prestige', 1), ('1800MYAPPLE', 1), ('Thousands', 1), ('19962015', 1), ('Small', 1), ('Industrial', 1), ('Office', 1), ('Yoyocom', 1), ('problem', 1), ('Care', 1), ('Delivered', 1), ('Personal', 1), ('Free', 1), ('AbeBooks', 1), ('Goodreads', 1), ('Map', 1), ('Delivery', 1), ('Know', 1), ('Red', 1), ('Life', 1), ('loading', 1), ('Vendor', 1), ('Audio', 1), ('Musical', 1), ('AmazonFresh', 1), ('Pantry', 1), ('6s', 1), ('gwftGrdesktopheroprime', 1)]\n"
     ]
    }
   ],
   "source": [
    "import urllib\n",
    "import re #특수문자 제거를 위함\n",
    "\n",
    "class WebWordsFrequency(list):\n",
    "    dic={} #각 단어들의 출현빈도를 사전형태로 저장\n",
    "    \n",
    "    def __init__(self, *args):\n",
    "        for ele in args:\n",
    "            self.append(ele)\n",
    "    def addUrl(self, url):\n",
    "        self.append(url)\n",
    "    def removeUrl(self, url):\n",
    "        i = self.index(url) #url이 가장 먼저 나오는 인덱스 값\n",
    "        self = self[:i]+self[i:]\n",
    "    def listUrls(self):\n",
    "        for ele in self:\n",
    "            print ele\n",
    "            \n",
    "    #@staticmethod\n",
    "    def getWordsFrequency(self):        \n",
    "        if self!=None:\n",
    "            for url in self:\n",
    "                source = urllib.urlopen(url).read()\n",
    "                len_source = len(source)\n",
    "\n",
    "                source_new = None\n",
    "                i = 0\n",
    "                while (i < len_source):\n",
    "                    found = False\n",
    "                    if (found != True and source[i] == \"<\" and source[i+1 : i+7].lower() == \"script\"):\n",
    "                        found = True;\n",
    "                        j = i + 7;\n",
    "                        while (True):\n",
    "                            if (source[j] == \"<\" and source[j+1] == \"/\" and source[j+2 : j+8].lower() == \"script\"):\n",
    "                                #print \"found - script\"\n",
    "                                source = source[:i] + ' ' + source[j+9:]\n",
    "                                break\n",
    "                            j = j + 1\n",
    "                            if (j > len_source):\n",
    "                                break\n",
    "                        len_source = len(source)\n",
    "                    i = i + 1\n",
    "\n",
    "                len_source = len(source)\n",
    "\n",
    "                i = 0\n",
    "                while (i < len_source):\n",
    "                    found = False\n",
    "                    if (found != True and source[i] == \"<\" and source[i+1 : i+6].lower() == \"style\"):\n",
    "                        found = True;\n",
    "                        j = i + 6;\n",
    "                        while (True):\n",
    "                            if (source[j] == \"<\" and source[j+1] == \"/\" and source[j+2 : j+7].lower() == \"style\"):\n",
    "                                #print \"found - style\"\n",
    "                                source = source[:i] + ' ' + source[j+8:]\n",
    "                                break\n",
    "                            j = j + 1\n",
    "                            if (j > len_source):\n",
    "                                break\n",
    "                        len_source = len(source)\n",
    "                    i = i + 1\n",
    "\n",
    "                len_source = len(source)\n",
    "\n",
    "                i = 0\n",
    "                while (i < len_source):\n",
    "                    found = False\n",
    "                    if (found != True and source[i] == \"<\"):\n",
    "                        found = True;\n",
    "                        j = i + 1;\n",
    "                        while (True):\n",
    "                            if (source[j] == \">\"):\n",
    "                                #print \"found - HTML tag\"\n",
    "                                source = source[:i] + ' ' + source[j+1:]\n",
    "                                break\n",
    "                            j = j + 1\n",
    "                            if (j > len_source):\n",
    "                                break\n",
    "                        len_source = len(source)\n",
    "                    i = i + 1\n",
    "\n",
    "                words = source.split()\n",
    "                \n",
    "                for word in words:\n",
    "                    word=re.sub('[^가-힝0-9a-zA-Z\\\\s]', '', word) #특수문자 제거\n",
    "                    if word!='':\n",
    "                        if(dic.get(word) == None):\n",
    "                            dic[word] = 1\n",
    "                        else:\n",
    "                            dic[word] += 1\n",
    "        print dic\n",
    "\n",
    "    def getMaxFrequencyWords(self):\n",
    "        max_keys=[] #value가 가장 큰 키값의 모임\n",
    "        L=dic.items() #사전의 items 저장\n",
    "        L.sort(reverse=True, key=lambda item:item[1]) #value값에 따라 내림차순으로 정렬\n",
    "        for ele in L:\n",
    "            if ele[1]==L[0][1]:\n",
    "                max_keys.append(ele[0]) #내림차순 정렬을 하였으므로 첫 번째 인자가 가장 크다. \n",
    "            else: #더이상 L[0]와 같은 값이 없으면 종료\n",
    "                break\n",
    "        for ele in max_keys:\n",
    "            print ele\n",
    "\n",
    "class OrderedWebWordsFrequency(WebWordsFrequency):\n",
    "    #def getWordsFrequency(self):\n",
    "    #    L=dic.items()\n",
    "    #    L.sort(reverse=True, key=lambda item:item[1]) #value값에 따라 내림차순으로 정렬\n",
    "    #    print L\n",
    "        \n",
    "    def __iter__(self):\n",
    "        return self\n",
    "    def next(self):\n",
    "        L=dic.items()\n",
    "        L.sort(reverse=True, key=lambda item:item[1])\n",
    "        if not line: \n",
    "            raise StopIteration     # 읽을 수 없으면 예외 발생\n",
    "        return line  \n",
    "        \n",
    "w4 = OrderedWebWordsFrequency('http://www.bbc.com', 'http://www.amazon.com', 'http://www.apple.com')\n",
    "\n",
    "#w4.getWordsFrequency()  \n",
    " for i in w4:\n",
    "  rint i\n",
    "\n"
   ]
  },
  {
   "cell_type": "code",
   "execution_count": null,
   "metadata": {
    "collapsed": true
   },
   "outputs": [],
   "source": []
  }
 ],
 "metadata": {
  "kernelspec": {
   "display_name": "Python 2",
   "language": "python",
   "name": "python2"
  },
  "language_info": {
   "codemirror_mode": {
    "name": "ipython",
    "version": 2
   },
   "file_extension": ".py",
   "mimetype": "text/x-python",
   "name": "python",
   "nbconvert_exporter": "python",
   "pygments_lexer": "ipython2",
   "version": "2.7.9"
  }
 },
 "nbformat": 4,
 "nbformat_minor": 0
}
