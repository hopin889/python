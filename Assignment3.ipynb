{
 "cells": [
  {
   "cell_type": "markdown",
   "metadata": {},
   "source": [
    "##1. L=[1,2,3,4,5]일 때 다음 각 문장을 수행한 후의 결과를 보고 납득할 만한 이유를 설명하시오."
   ]
  },
  {
   "cell_type": "markdown",
   "metadata": {},
   "source": [
    "1)"
   ]
  },
  {
   "cell_type": "code",
   "execution_count": 1,
   "metadata": {
    "collapsed": false
   },
   "outputs": [
    {
     "name": "stdout",
     "output_type": "stream",
     "text": [
      "[1, 100, 4, 5]\n"
     ]
    }
   ],
   "source": [
    "L=[1,2,3,4,5]\n",
    "L[1:3] = [100]\n",
    "print L"
   ]
  },
  {
   "cell_type": "markdown",
   "metadata": {},
   "source": [
    "'L[1:3] = [100]은 1번 index와 (3-1=)2번 index의 값을 오른쪽 리스트 자료형 [100]과 치환한다는 의미이다. 따라서 1번 인덱스 값 2와 2번 인덱스 값 3이 100과 치환된다."
   ]
  },
  {
   "cell_type": "markdown",
   "metadata": {},
   "source": [
    "2)"
   ]
  },
  {
   "cell_type": "code",
   "execution_count": 2,
   "metadata": {
    "collapsed": false
   },
   "outputs": [
    {
     "name": "stdout",
     "output_type": "stream",
     "text": [
      "[1, 100, 4, 5]\n"
     ]
    }
   ],
   "source": [
    "L=[1,2,3,4,5]\n",
    "L[1:3] = [(100)]\n",
    "print L"
   ]
  },
  {
   "cell_type": "markdown",
   "metadata": {},
   "source": [
    "L 리스트 1,2번 인덱스를 튜플 (100)을 원소로 갖는 리스트와 치환한다는 의미이다. 튜플 안의 값이 하나이기 때문에 리스트 안에 치환될 때 튜플이 리스트로 변환되었다."
   ]
  },
  {
   "cell_type": "markdown",
   "metadata": {},
   "source": [
    "3)"
   ]
  },
  {
   "cell_type": "code",
   "execution_count": 3,
   "metadata": {
    "collapsed": false
   },
   "outputs": [
    {
     "ename": "TypeError",
     "evalue": "can only assign an iterable",
     "output_type": "error",
     "traceback": [
      "\u001b[1;31m---------------------------------------------------------------------------\u001b[0m",
      "\u001b[1;31mTypeError\u001b[0m                                 Traceback (most recent call last)",
      "\u001b[1;32m<ipython-input-3-cdbe192bd161>\u001b[0m in \u001b[0;36m<module>\u001b[1;34m()\u001b[0m\n\u001b[0;32m      1\u001b[0m \u001b[0mL\u001b[0m\u001b[1;33m=\u001b[0m\u001b[1;33m[\u001b[0m\u001b[1;36m1\u001b[0m\u001b[1;33m,\u001b[0m\u001b[1;36m2\u001b[0m\u001b[1;33m,\u001b[0m\u001b[1;36m3\u001b[0m\u001b[1;33m,\u001b[0m\u001b[1;36m4\u001b[0m\u001b[1;33m,\u001b[0m\u001b[1;36m5\u001b[0m\u001b[1;33m]\u001b[0m\u001b[1;33m\u001b[0m\u001b[0m\n\u001b[1;32m----> 2\u001b[1;33m \u001b[0mL\u001b[0m\u001b[1;33m[\u001b[0m\u001b[1;36m1\u001b[0m\u001b[1;33m:\u001b[0m\u001b[1;36m3\u001b[0m\u001b[1;33m]\u001b[0m \u001b[1;33m=\u001b[0m \u001b[1;36m100\u001b[0m\u001b[1;33m\u001b[0m\u001b[0m\n\u001b[0m\u001b[0;32m      3\u001b[0m \u001b[1;32mprint\u001b[0m \u001b[0mL\u001b[0m\u001b[1;33m\u001b[0m\u001b[0m\n",
      "\u001b[1;31mTypeError\u001b[0m: can only assign an iterable"
     ]
    }
   ],
   "source": [
    "L=[1,2,3,4,5]\n",
    "L[1:3] = 100\n",
    "print L"
   ]
  },
  {
   "cell_type": "markdown",
   "metadata": {},
   "source": [
    "시퀀스 자료형으로 치환하여야 하는데 하나의 정수형으로 치환하려 하기 때문에 에러가 발생하였다."
   ]
  },
  {
   "cell_type": "markdown",
   "metadata": {},
   "source": [
    "4)"
   ]
  },
  {
   "cell_type": "code",
   "execution_count": 4,
   "metadata": {
    "collapsed": false
   },
   "outputs": [
    {
     "ename": "TypeError",
     "evalue": "can only assign an iterable",
     "output_type": "error",
     "traceback": [
      "\u001b[1;31m---------------------------------------------------------------------------\u001b[0m",
      "\u001b[1;31mTypeError\u001b[0m                                 Traceback (most recent call last)",
      "\u001b[1;32m<ipython-input-4-71c3f7f74669>\u001b[0m in \u001b[0;36m<module>\u001b[1;34m()\u001b[0m\n\u001b[0;32m      1\u001b[0m \u001b[0mL\u001b[0m\u001b[1;33m=\u001b[0m\u001b[1;33m[\u001b[0m\u001b[1;36m1\u001b[0m\u001b[1;33m,\u001b[0m\u001b[1;36m2\u001b[0m\u001b[1;33m,\u001b[0m\u001b[1;36m3\u001b[0m\u001b[1;33m,\u001b[0m\u001b[1;36m4\u001b[0m\u001b[1;33m,\u001b[0m\u001b[1;36m5\u001b[0m\u001b[1;33m]\u001b[0m\u001b[1;33m\u001b[0m\u001b[0m\n\u001b[1;32m----> 2\u001b[1;33m \u001b[0mL\u001b[0m\u001b[1;33m[\u001b[0m\u001b[1;36m1\u001b[0m\u001b[1;33m:\u001b[0m\u001b[1;36m3\u001b[0m\u001b[1;33m]\u001b[0m \u001b[1;33m=\u001b[0m \u001b[1;33m(\u001b[0m\u001b[1;36m100\u001b[0m\u001b[1;33m)\u001b[0m\u001b[1;33m\u001b[0m\u001b[0m\n\u001b[0m\u001b[0;32m      3\u001b[0m \u001b[1;32mprint\u001b[0m \u001b[0mL\u001b[0m\u001b[1;33m\u001b[0m\u001b[0m\n",
      "\u001b[1;31mTypeError\u001b[0m: can only assign an iterable"
     ]
    }
   ],
   "source": [
    "L=[1,2,3,4,5]\n",
    "L[1:3] = (100)\n",
    "print L"
   ]
  },
  {
   "cell_type": "markdown",
   "metadata": {},
   "source": [
    "이것 또한 3번과 같은 이유로 에러가 발생하였다. 괄호는 우선순위 연산을 의미한다."
   ]
  },
  {
   "cell_type": "markdown",
   "metadata": {},
   "source": [
    "5)"
   ]
  },
  {
   "cell_type": "code",
   "execution_count": 5,
   "metadata": {
    "collapsed": false
   },
   "outputs": [
    {
     "name": "stdout",
     "output_type": "stream",
     "text": [
      "[1, 100, 101, 102, 4, 5]\n"
     ]
    }
   ],
   "source": [
    "L=[1,2,3,4,5]\n",
    "L[1:3] = (100, 101, 102)\n",
    "print L"
   ]
  },
  {
   "cell_type": "markdown",
   "metadata": {},
   "source": [
    "시퀀스자료형 튜플을 사용하였기 때문에 에러가 발생하지 않는다. 또한 튜플 자료형이 리스트 자료형으로 변경되었다."
   ]
  },
  {
   "cell_type": "markdown",
   "metadata": {},
   "source": [
    "6)"
   ]
  },
  {
   "cell_type": "code",
   "execution_count": 6,
   "metadata": {
    "collapsed": false
   },
   "outputs": [
    {
     "name": "stdout",
     "output_type": "stream",
     "text": [
      "[1, 100, 101, 102, 4, 5]\n"
     ]
    }
   ],
   "source": [
    "L=[1,2,3,4,5]\n",
    "L[1:3] = [100, 101, 102]\n",
    "print L"
   ]
  },
  {
   "cell_type": "markdown",
   "metadata": {},
   "source": [
    "시퀀스 자료형 리스트로 치환하였고 올바르게 동작한다."
   ]
  },
  {
   "cell_type": "markdown",
   "metadata": {},
   "source": [
    "7)"
   ]
  },
  {
   "cell_type": "code",
   "execution_count": 7,
   "metadata": {
    "collapsed": false
   },
   "outputs": [
    {
     "name": "stdout",
     "output_type": "stream",
     "text": [
      "[1, (100, 101, 102), 4, 5]\n"
     ]
    }
   ],
   "source": [
    "L=[1,2,3,4,5]\n",
    "L[1:3] = [(100, 101, 102)]\n",
    "print L"
   ]
  },
  {
   "cell_type": "markdown",
   "metadata": {},
   "source": [
    "(100, 101, 102) 하나의 튜플을 원소로 갖는 리스트로 치환하였다.따라서 인덱스 1,2 자리에 (100,101,102)가 치환되었다."
   ]
  },
  {
   "cell_type": "markdown",
   "metadata": {},
   "source": [
    "8)"
   ]
  },
  {
   "cell_type": "code",
   "execution_count": 8,
   "metadata": {
    "collapsed": false
   },
   "outputs": [
    {
     "name": "stdout",
     "output_type": "stream",
     "text": [
      "[1, [100, 101, 102], 4, 5]\n"
     ]
    }
   ],
   "source": [
    "L=[1,2,3,4,5]\n",
    "L[1:3] = [[100, 101, 102]]\n",
    "print L"
   ]
  },
  {
   "cell_type": "markdown",
   "metadata": {},
   "source": [
    "[100, 101, 102] 하나의 리스트를 원소로 갖는 리스트로 치환하였다.따라서 인덱스 1,2 자리에 [100,101,102]가 치환되었다."
   ]
  },
  {
   "cell_type": "markdown",
   "metadata": {},
   "source": [
    "##2. 문자열 S='Hello World and Python'에 대해 다음 요구사항에 대한 Python 코드를 제시하시오."
   ]
  },
  {
   "cell_type": "markdown",
   "metadata": {},
   "source": [
    "1) 단어의 순서가 역순으로 되어진 문자열('Python and World Hello') 만들기"
   ]
  },
  {
   "cell_type": "code",
   "execution_count": 9,
   "metadata": {
    "collapsed": false
   },
   "outputs": [
    {
     "name": "stdout",
     "output_type": "stream",
     "text": [
      "Python and World Hello\n"
     ]
    }
   ],
   "source": [
    "S='Hello World and Python'\n",
    "S2 = S.split() #단어별로 나눔\n",
    "S2 = S2[::-1] #나눈 단어들을 역순으로 배치\n",
    "S2 = ' '.join(S2) #나눈 단어들을 공백문자를 통해 문자열로 연결\n",
    "print S2"
   ]
  },
  {
   "cell_type": "markdown",
   "metadata": {},
   "source": [
    "2) 1)의 결과 문자열에 대해 메소드 split과 join을 이용하여 공백을 모두 없엔 문자여 'PythonandWorldHello'을 만드시오."
   ]
  },
  {
   "cell_type": "code",
   "execution_count": 10,
   "metadata": {
    "collapsed": false
   },
   "outputs": [
    {
     "name": "stdout",
     "output_type": "stream",
     "text": [
      "PythonandWorldHello\n"
     ]
    }
   ],
   "source": [
    "S='Hello World and Python'\n",
    "S2 = S.split() #단어별로 나눔\n",
    "S2 = S2[::-1] #나눈 단어들을 역순으로 배치\n",
    "S2 = ''.join(S2) #나눈 단어들을 공백문자 없이 문자열로 연결\n",
    "print S2"
   ]
  },
  {
   "cell_type": "markdown",
   "metadata": {},
   "source": [
    "##3. 다음 코드를 보고 물음에 답하시오."
   ]
  },
  {
   "cell_type": "code",
   "execution_count": 11,
   "metadata": {
    "collapsed": false
   },
   "outputs": [
    {
     "name": "stdout",
     "output_type": "stream",
     "text": [
      "[1, 2, 3, 1, 2, 3, 1, 2, 3]\n",
      "[[1, 2, 3], [1, 2, 3], [1, 2, 3]]\n"
     ]
    }
   ],
   "source": [
    "a = [1, 2, 3]\n",
    "b = a * 3\n",
    "c = [a] * 3\n",
    "print b\n",
    "print c"
   ]
  },
  {
   "cell_type": "markdown",
   "metadata": {},
   "source": [
    "1)위 코드를 수행한 이후 다음 코드를 수행한 후 b와 c의 내용을 확인하시오."
   ]
  },
  {
   "cell_type": "code",
   "execution_count": 12,
   "metadata": {
    "collapsed": false
   },
   "outputs": [
    {
     "name": "stdout",
     "output_type": "stream",
     "text": [
      "[1, 2, 3, 1, 2, 3, 1, 2, 3]\n",
      "[[1, 2, 3], [1, 2, 3], [1, 2, 3]]\n",
      "\n",
      "[1, 2, 3, 1, 2, 3, 1, 2, 3]\n",
      "[[0, 2, 3], [0, 2, 3], [0, 2, 3]]\n"
     ]
    }
   ],
   "source": [
    "a = [1, 2, 3]\n",
    "b = a * 3\n",
    "c = [a] * 3\n",
    "print b\n",
    "print c\n",
    "print\n",
    "\n",
    "a[0]=0\n",
    "print b\n",
    "print c"
   ]
  },
  {
   "cell_type": "markdown",
   "metadata": {},
   "source": [
    "2)b와 c 객체의 차이는 무엇인가?"
   ]
  },
  {
   "cell_type": "markdown",
   "metadata": {},
   "source": [
    "-> b 객체는 a의 값만 복사하였고, c는 a의 레퍼런스를 복사하였다. 따라서 a의 원소값을 변경하였을 때 c도 함께 변경되었다."
   ]
  },
  {
   "cell_type": "markdown",
   "metadata": {},
   "source": [
    "##4. 다음 문자열을 ':'을 기준으로 분리하여 리스트로 만들고 각 문자열의 좌우 공백을 제거하시오.(즉, 문자열 s에서 l을 만들어라)"
   ]
  },
  {
   "cell_type": "code",
   "execution_count": null,
   "metadata": {
    "collapsed": true
   },
   "outputs": [],
   "source": [
    "s = '  first star   :   second star   :    third star  '\n",
    "l = ['first star', 'second star', 'third star']"
   ]
  },
  {
   "cell_type": "markdown",
   "metadata": {},
   "source": [
    "1)for~in문을 이용한 코드를 작성하시오."
   ]
  },
  {
   "cell_type": "code",
   "execution_count": 13,
   "metadata": {
    "collapsed": false
   },
   "outputs": [
    {
     "name": "stdout",
     "output_type": "stream",
     "text": [
      "['first star', 'second star', 'third star']\n"
     ]
    }
   ],
   "source": [
    "s = '  first star   :   second star   :    third star  '\n",
    "l = [] #완성된 문자열을 저장할 리스트\n",
    "\n",
    "word = s.split(':')\n",
    "\n",
    "for w in word:\n",
    "    w = w.split()\n",
    "    w = ' '.join(w)\n",
    "    l.append(w)\n",
    "    \n",
    "print l"
   ]
  },
  {
   "cell_type": "markdown",
   "metadata": {},
   "source": [
    "2)리스트 내포(list comprehension)를 이용한 코드를 작성하시오."
   ]
  },
  {
   "cell_type": "code",
   "execution_count": 14,
   "metadata": {
    "collapsed": false
   },
   "outputs": [
    {
     "name": "stdout",
     "output_type": "stream",
     "text": [
      "['first star', 'second star', 'third star']\n"
     ]
    }
   ],
   "source": [
    "s = '  first star   :   second star   :    third star  '\n",
    "l = [] #완성된 문자열을 저장할 리스트\n",
    "\n",
    "word = s.split(':')\n",
    "\n",
    "l = [w.split() for w in word]\n",
    "l = [' '.join(w) for w in l]\n",
    "\n",
    "print l"
   ]
  },
  {
   "cell_type": "markdown",
   "metadata": {},
   "source": [
    "##5. 다음과 같이 0보다 큰 정수 리스트 변수 list를 인자로 받는 함수 addall(list)와 addallodd(list)를 for~in 리터널과 리스트 내포 방식으로 각각 제시하시오."
   ]
  },
  {
   "cell_type": "markdown",
   "metadata": {},
   "source": [
    "1)addall(list)함수(리스트 내의 모든 정수를 더하는 함수로서 해답으로는 for~in리터럴과 리스트 내포 방식으로 각각 제시하시오.)"
   ]
  },
  {
   "cell_type": "code",
   "execution_count": 15,
   "metadata": {
    "collapsed": false
   },
   "outputs": [
    {
     "name": "stdout",
     "output_type": "stream",
     "text": [
      "15\n",
      "15\n"
     ]
    }
   ],
   "source": [
    "#for~in 리터럴 방식\n",
    "def for_in_addall(l):\n",
    "    sum=0 #총합\n",
    "    for el in l:\n",
    "        sum += el\n",
    "    return sum\n",
    "\n",
    "#리스트 내포 방식\n",
    "def list_comprehension_addall(l):\n",
    "    elements = [el for el in l]\n",
    "    return for_in_addall(elements)\n",
    "\n",
    "print for_in_addall([1,2,3,4,5])\n",
    "print list_comprehension_addall([1,2,3,4,5])"
   ]
  },
  {
   "cell_type": "markdown",
   "metadata": {},
   "source": [
    "2) addallodd(list) 함수 (리스트내의 모든 홀수를 더하는 함수로서 해답으로는 for ~ in 리터럴과 리스트 내포 방식으로 각각 제시하시오.)"
   ]
  },
  {
   "cell_type": "code",
   "execution_count": 16,
   "metadata": {
    "collapsed": false
   },
   "outputs": [
    {
     "name": "stdout",
     "output_type": "stream",
     "text": [
      "9\n",
      "9\n"
     ]
    }
   ],
   "source": [
    "#addall(list) : 리스트내 모든 원소를 더한다.\n",
    "def addall(l):\n",
    "    sum=0 #총합\n",
    "    for el in l:\n",
    "        sum += el\n",
    "    return sum\n",
    "\n",
    "#for~in 리터럴 방식\n",
    "def for_in_addallodd(l):\n",
    "    sum=0 #총합\n",
    "    for el in l:\n",
    "        if(el%2 != 0):\n",
    "            sum += el\n",
    "    return sum\n",
    "\n",
    "#리스트 내포 방식\n",
    "def list_comprehension_addallodd(l):\n",
    "    odds = [el for el in l if el%2 != 0]\n",
    "    return addall(odds)\n",
    "\n",
    "print for_in_addallodd([1,2,3,4,5])\n",
    "print list_comprehension_addallodd([1,2,3,4,5])"
   ]
  },
  {
   "cell_type": "markdown",
   "metadata": {},
   "source": [
    "##6. 다음 코드를 보고 물음에 답하시오."
   ]
  },
  {
   "cell_type": "code",
   "execution_count": 17,
   "metadata": {
    "collapsed": false
   },
   "outputs": [
    {
     "name": "stdout",
     "output_type": "stream",
     "text": [
      "{'high': [4, 5, 6], 'low': [1, 2, 3]}\n",
      "{'high': [4, 5, 6], 'low': [1, 2, 3]}\n",
      "{'high': [4, 5, 6], 'low': [1, 2, 3]}\n",
      "\n",
      "{'high': [4, 500, 6], 'low': [10, 20, 30]}\n",
      "{'high': [4, 500, 6], 'low': [10, 20, 30]}\n",
      "{'high': [4, 500, 6], 'low': [1, 2, 3]}\n"
     ]
    }
   ],
   "source": [
    "L1 = [1, 2, 3]\n",
    "L2 = [4, 5, 6]\n",
    "d = {'low':L1, 'high':L2}\n",
    "e = d\n",
    "f = d.copy()\n",
    "print d\n",
    "print e\n",
    "print f\n",
    "print\n",
    "d['low'] = [10, 20, 30]\n",
    "d['high'][1] = 500\n",
    "print d\n",
    "print e\n",
    "print f"
   ]
  },
  {
   "cell_type": "markdown",
   "metadata": {},
   "source": [
    "1) 위 코드의 수행 결과 d와 e는 항상 같은 결과를 출력한다. 그 이유는 무엇인가?"
   ]
  },
  {
   "cell_type": "markdown",
   "metadata": {},
   "source": [
    "e가 d의 레퍼런스를 복사하였기 때문이다. 같은 레퍼런스를 공유하기 때문에 d의 값이 변경되면 e또한 자동으로 변경된다."
   ]
  },
  {
   "cell_type": "markdown",
   "metadata": {},
   "source": [
    "2) 위 코드의 수행 결과 마지막 f의 내용은 다음과 같다. 이 때 'high' 키의 값 내용 중 500이 출력된 이유와 'low' 키의 값 내용 중 [1, 2, 3]이 출력된 이유를 설명하시오 ([hint]: shallow copy 관점에서 설명하시오.)"
   ]
  },
  {
   "cell_type": "markdown",
   "metadata": {},
   "source": [
    "f는 d로부터 얕은 복사(shallow copy)를 하였다. d는 사전형식으로 'low' key에 대해 L1 value를 가지고 있고, 'high' key에 대해 L2 value를 가지고 있다. 얕은 복사에서는 각 value인 L1, L2의 레퍼런스만 복사하게 된다. 따라서 key 'high'의 value L2를 수정한 값은 f에도 영항을 미치는 반면, key 'low'의 value를 단순히 다른 값으로 수정한 값은(즉, L1을 수정하지 않았기 때문에) f에 영향을 미치지 않는다."
   ]
  },
  {
   "cell_type": "markdown",
   "metadata": {},
   "source": [
    "##7. 사전 d = {'one':1, 'two':2, 'three':3, 'four':4, 'five':5}가 주어졌을 때 다음 요구사항에 맞는 코드를 제시하시오"
   ]
  },
  {
   "cell_type": "code",
   "execution_count": 18,
   "metadata": {
    "collapsed": false
   },
   "outputs": [
    {
     "name": "stdout",
     "output_type": "stream",
     "text": [
      "[('five', 5), ('four', 4), ('one', 1), ('three', 3), ('two', 2)]\n",
      "[('two', 2), ('three', 3), ('one', 1), ('four', 4), ('five', 5)]\n",
      "[('one', 1), ('two', 2), ('three', 3), ('four', 4), ('five', 5)]\n",
      "[('five', 5), ('four', 4), ('three', 3), ('two', 2), ('one', 1)]\n"
     ]
    }
   ],
   "source": [
    "def mycmp(a1, a2):\n",
    "    return cmp(a1, a2)\n",
    "\n",
    "d={'one':1, 'two':2, 'three':3, 'four':4, 'five':5}\n",
    "\n",
    "#1)키의 알파벳 오름차순 순서대로 튜플(키,값)을 차례대로 출력하시오.\n",
    "d1 = [(key, value) for key, value in sorted(d.items(), key=lambda item:item[0])]\n",
    "print d1\n",
    "#2)키의 알파벳 내림차순 순서대로 튜플(키,값)을 차례대로 출력하시오.\n",
    "d2 = [(key, value) for key, value in reversed(d1)] #d1의 역순\n",
    "print d2\n",
    "#3)값의 오름차순 순서대로 튜플(키,값)을 차례대로 출력하시오.\n",
    "d3 = [(key, value) for key, value in sorted(d.items(), key=lambda item:item[1])]\n",
    "print d3\n",
    "#4)값의 내림차순 순서대로 튜플(키,값)을 차례대로 출력하시오.\n",
    "d4 = [(key, value) for key, value in reversed(d3)] #d3의 역순\n",
    "print d4"
   ]
  },
  {
   "cell_type": "markdown",
   "metadata": {},
   "source": [
    "##8. 이전 Assignment 2의 마지막 문제는 웹 URL로 지정된 웹페이지를 문자열로 가져와 모든 HTML 태그 및 CSS와 Javascript를 제외한 순수 텍스트를 얻어내고 그 안에 존재하는 단어를 추출하는 프로그램을 작성하는 것이었다. 이번에는 그 마지막 숙제를 그대로 확장하여 웹 URL로 지정된 웹페이지 내 순수 텍스트 안에 존재하는 각 단어들에 대해 다음 요구사항 대로 출력하는 프로그램을 작성하시오.\n",
    "\n",
    "요구사항 1. 순수 텍스트 안에 존재하는 단어들에 대해 string 모듈을 활용하여 모든 punctuation (구두문자)를 완벽히 제거하시오.\n",
    "예: ['world!', ':', '+hello+', '~python$$$', '=', 'world'] ---> ['world', 'hello', 'python', 'world']\n",
    "모든 punctuation을 확인하는 방법은 아래와 같다.\n",
    "import string\n",
    "print string.punctuation\n",
    "요구사항 2. 만약 punctuation (구두문자)를 제거한 이후 공백으로 판명되는 단어들은 해당 단어 리스트에서 제거하시오.\n",
    "예: ['컴퓨터공학부!', '---?', '%지향~', '...'] ---> ['컴퓨터공학부', '지향']\n",
    "요구사항 3. 각 단어들의 출현빈도를 사전형태로 저장하여 출력하시오.\n",
    "예: ['world', 'hello', 'python', 'world', '컴퓨터공학부', '지향'] ---> {'world': 2, 'hello': 1, 'python': 1, '컴퓨터공학부': 1, '지향': 1}\n",
    "요구사항 4. 다음 3개의 사이트에 대한 결과를 출력하시오.\n",
    "http://www.naver.com\n",
    "http://www.daum.net\n",
    "http://www.nytimes.com"
   ]
  },
  {
   "cell_type": "code",
   "execution_count": 23,
   "metadata": {
    "collapsed": false
   },
   "outputs": [
    {
     "name": "stdout",
     "output_type": "stream",
     "text": [
      "<순수 텍스트 단어들>\n",
      "\"NAVER\"  \"뉴스스탠드\"  \"바로가기\"  \"주제별캐스트\"  \"바로가기\"  \"타임스퀘어\"  \"바로가기\"  \"쇼핑캐스트\"  \"바로가기\"  \"로그인\"  \"바로가기\"  \"나눔글꼴\"  \"설치\"  \"안내\"  \"네이버\"  \"메인을\"  \"나눔글꼴로\"  \"보기\"  \"위해서는\"  \"nbsp나눔글꼴을\"  \"설치\"  \"해야\"  \"합니다\"  \"나눔글꼴을\"  \"설치하시겠습니까\"  \"설치\"  \"취소\"  \"개인\"  \"및\"  \"기업을\"  \"포함\"  \"모든\"  \"사용자가\"  \"무료로\"  \"사용\"  \"가능합니다\"  \"나눔글꼴\"  \"라이센스\"  \"전문보기\"  \"레이어\"  \"닫기\"  \"나눔글꼴\"  \"확인\"  \"오류\"  \"고객님의\"  \"PC에서\"  \"나눔글꼴이\"  \"확인되지\"  \"않습니다\"  \"나눔글꼴로\"  \"메인을\"  \"보기위해서는\"  \"나눔글꼴\"  \"재설치\"  \"가\"  \"필요합니다\"  \"나눔글꼴을\"  \"다시\"  \"설치하시겠습니까\"  \"나눔글꼴이\"  \"확인되지\"  \"않는\"  \"이유는\"  \"나눔글꼴\"  \"최초설치가\"  \"제대로\"  \"완료되지\"  \"않은\"  \"경우\"  \"설치된\"  \"폰트를\"  \"임의로\"  \"삭제한\"  \"경우에\"  \"발생합니다\"  \"설치\"  \"취소\"  \"개인\"  \"및\"  \"기업을\"  \"포함\"  \"모든\"  \"사용자가\"  \"무료로\"  \"사용\"  \"가능합니다\"  \"나눔글꼴\"  \"라이센스\"  \"전문보기\"  \"레이어\"  \"닫기\"  \"홈\"  \"유형\"  \"선택\"  \"네이버\"  \"홈\"  \"가볍고\"  \"빠른\"  \"검색홈\"  \"네이버SE\"  \"나만의\"  \"네이버\"  \"홈\"  \"네이버me\"  \"네이버\"  \"설정\"  \"네이버를\"  \"시작페이지로\"  \"네이버\"  \"앱\"  \"다운로드\"  \"네이버\"  \"앱을\"  \"설치하세요\"  \"다운로드URL\"  \"문자받기\"  \"다운로드URL\"  \"문자받기\"  \"휴대폰번호\"  \"입력\"  \"보내기\"  \"입력하신\"  \"번호는\"  \"저장되지\"  \"않고\"  \"전송은\"  \"무료입니다\"  \"네이버\"  \"앱\"  \"지도\"  \"N드라이브\"  \"북스\"  \"뮤직\"  \"라인\"  \"앱스토어\"  \"new\"  \"네이버\"  \"앱\"  \"다운로드\"  \"레이어\"  \"닫기\"  \"현재\"  \"시스템글꼴\"  \"나눔글꼴\"  \"글꼴설정\"  \"도움말\"  \"나눔글꼴\"  \"미리보기\"  \"네이버\"  \"한글캠페인\"  \"도움말\"  \"글꼴설정\"  \"도움말\"  \"닫기\"  \"패밀리\"  \"사이트\"  \"해피빈\"  \"쥬니버\"  \"한게임\"  \"검색\"  \"통합검색\"  \"블로그\"  \"카페\"  \"카페명\"  \"카페글\"  \"지식iN\"  \"뉴스\"  \"사이트\"  \"카테고리\"  \"사이트\"  \"영화\"  \"웹문서\"  \"사전\"  \"백과사전\"  \"영어사전\"  \"영영사전\"  \"국어사전\"  \"일본어사전\"  \"한자사전\"  \"용어사전\"  \"책\"  \"음악\"  \"전문자료\"  \"쇼핑\"  \"지역\"  \"동영상\"  \"이미지\"  \"내PC\"  \"영화\"  \"자동차\"  \"게임\"  \"건강\"  \"인물\"  \"긍정부정검색\"  \"검색\"  \"생각한대로\"  \"검색해\"  \"보세요\"  \"Beta\"  \"txt\"  \"txt\"  \"도움말\"  \"신고\"  \"검색어저장\"  \"켜기\"  \"자동완성\"  \"끄기\"  \"현재\"  \"자동완성\"  \"기능을\"  \"사용하고\"  \"계십니다\"  \"도움말\"  \"신고\"  \"검색어저장\"  \"켜기\"  \"자동완성\"  \"끄기\"  \"자동완성\"  \"기능이\"  \"활성화되었습니다\"  \"도움말\"  \"신고\"  \"검색어저장\"  \"켜기\"  \"자동완성\"  \"끄기\"  \"자동완성\"  \"기능이\"  \"꺼져\"  \"있습니다\"  \"도움말\"  \"신고\"  \"검색어저장\"  \"켜기\"  \"자동완성\"  \"켜기\"  \"최근검색어\"  \"내\"  \"검색어\"  \"내\"  \"검색어\"  \"등록\"  \"txt\"  \"date\"  \"삭제\"  \"intxt\"  \"최근검색어\"  \"내역이\"  \"없습니다\"  \"검색어\"  \"저장\"  \"기능이\"  \"꺼져\"  \"있습니다\"  \"내\"  \"검색어\"  \"해제\"  \"txt\"  \"설정된\"  \"내\"  \"검색어가\"  \"없습니다\"  \"최근검색어에서\"  \"내\"  \"검색어\"  \"등록\"  \"를\"  \"선택하여\"  \"자주\"  \"찾는\"  \"검색어를\"  \"내\"  \"검색어로\"  \"저장해\"  \"보세요\"  \"검색어\"  \"저장\"  \"기능이\"  \"꺼져\"  \"있습니다\"  \"공용\"  \"PC에서는\"  \"개인정보\"  \"보호를\"  \"위하여\"  \"반드시\"  \"로그아웃을\"  \"해\"  \"주세요\"  \"기록\"  \"삭제\"  \"검색어저장\"  \"끄기\"  \"자동완성\"  \"끄기\"  \"기록\"  \"전체\"  \"삭제\"  \"완료\"  \"기록\"  \"전체\"  \"삭제\"  \"검색어저장\"  \"끄기\"  \"자동완성\"  \"끄기\"  \"기능을\"  \"다시\"  \"켤\"  \"때는\"  \"펼치기\"  \"버튼을\"  \"클릭하세요\"  \"내\"  \"검색어는\"  \"최대\"  \"10\"  \"개\"  \"까지\"  \"저장할\"  \"수\"  \"있습니다\"  \"추가하시려면\"  \"기존\"  \"내\"  \"검색어를\"  \"지워주세요\"  \"닫기\"  \"2015\"  \"상반기\"  \"재보궐선거\"  \"후보에\"  \"대해\"  \"4월29일\"  \"선거일까지\"  \"자동완성\"  \"기능이\"  \"제공되지\"  \"않습니다\"  \"자세히보기\"  \"질문형\"  \"검색어\"  \"요즘\"  \"듣기\"  \"좋은\"  \"노래\"  \"신증후성\"  \"출혈열\"  \"증상\"  \"경찰\"  \"계급\"  \"알기\"  \"이전\"  \"검색어\"  \"다음\"  \"검색어\"  \"네이버\"  \"메뉴\"  \"메일\"  \"카페\"  \"블로그\"  \"지식iN\"  \"쇼핑\"  \"TV캐스트\"  \"자주\"  \"쓰는\"  \"메뉴\"  \"사전\"  \"뉴스\"  \"증권\"  \"부동산\"  \"지도\"  \"영화\"  \"뮤직\"  \"책\"  \"웹툰\"  \"신규\"  \"서비스\"  \"NPay\"  \"더보기\"  \"실시간\"  \"급상승\"  \"검색어\"  \"손민한\"  \"상승\"  \"351\"  \"조성진\"  \"상승\"  \"255\"  \"프로야구\"  \"중계\"  \"상승\"  \"90\"  \"엔플라잉\"  \"상승\"  \"447\"  \"백종원\"  \"상승\"  \"126\"  \"유희관\"  \"상승\"  \"264\"  \"한국\"  \"기니\"  \"상승\"  \"303\"  \"고현정\"  \"상승\"  \"291\"  \"선문대학교\"  \"상승\"  \"231\"  \"챔피언스리그\"  \"상승\"  \"156\"  \"손민한\"  \"상승\"  \"351\"  \"1위\"  \"손민한\"  \"2위\"  \"조성진\"  \"3위\"  \"프로야구\"  \"중계\"  \"4위\"  \"엔플라잉\"  \"5위\"  \"백종원\"  \"6위\"  \"유희관\"  \"7위\"  \"한국\"  \"기니\"  \"8위\"  \"고현정\"  \"9위\"  \"선문대학교\"  \"10위\"  \"챔피언스리그\"  \"광고\"  \"httpnv1adnavercomadshowunit002ANnrefreshx0\"  \"연합뉴스\"  \"최악의\"  \"가을\"  \"미세먼지\"  \"언제까지…주말\"  \"고비\"  \"네이버뉴스\"  \"연예\"  \"스포츠\"  \"경제\"  \"랭킹뉴스\"  \"뉴스스탠드\"  \"전체언론사\"  \"MY뉴스\"  \"매체보기\"  \"기사보기\"  \"주요언론사\"  \"주요언론사\"  \"종합경제\"  \"방송통신\"  \"IT\"  \"영자지\"  \"스포츠연예\"  \"매거진전문지\"  \"지역\"  \"구독목록\"  \"전체언론사\"  \"구독설정\"  \"알림\"  \"언론사별\"  \"주요뉴스를\"  \"메인에서\"  \"바로\"  \"볼\"  \"수\"  \"있어요\"  \"이전페이지\"  \"다음페이지\"  \"이전페이지\"  \"다음페이지\"  \"로그인\"  \"보안로그인\"  \"2단계\"  \"이용을\"  \"위해서는\"  \"플래시\"  \"플레이어를\"  \"설치\"  \"해주세요\"  \"설치방법\"  \"안내\"  \"닫기\"  \"로그인\"  \"Caps\"  \"Lock\"  \"이\"  \"켜져\"  \"있습니다\"  \"아이디\"  \"비밀번호\"  \"Caps\"  \"Lock\"  \"이\"  \"켜져\"  \"있습니다\"  \"로그인\"  \"상태\"  \"유지\"  \"IP보안\"  \"IP보안\"  \"체크\"  \"일회용\"  \"로그인\"  \"회원가입\"  \"아이디\"  \"찾기\"  \"비밀번호\"  \"찾기\"  \"타임스퀘어\"  \"투데이\"  \"1021\"  \"수\"  \"현재\"  \"위치\"  \"국내\"  \"gt\"  \"서울\"  \"지역설정\"  \"레이어\"  \"열기\"  \"생활\"  \"현재\"  \"196\"  \"℃\"  \"맑음\"  \"내일오전\"  \"130\"  \"℃\"  \"구름조금\"  \"내일오후\"  \"230\"  \"℃\"  \"구름조금\"  \"현재\"  \"178\"  \"℃\"  \"맑음\"  \"내일오전\"  \"120\"  \"℃\"  \"구름많음\"  \"내일오후\"  \"200\"  \"℃\"  \"구름많음\"  \"현재\"  \"162\"  \"℃\"  \"흐림\"  \"내일오전\"  \"120\"  \"℃\"  \"흐리고\"  \"비\"  \"내일오후\"  \"170\"  \"℃\"  \"구름많음\"  \"현재\"  \"187\"  \"℃\"  \"맑음\"  \"내일오전\"  \"130\"  \"℃\"  \"구름조금\"  \"내일오후\"  \"230\"  \"℃\"  \"구름조금\"  \"현재\"  \"195\"  \"℃\"  \"맑음\"  \"내일오전\"  \"120\"  \"℃\"  \"맑음\"  \"내일오후\"  \"240\"  \"℃\"  \"구름조금\"  \"현재\"  \"209\"  \"℃\"  \"맑음\"  \"내일오전\"  \"120\"  \"℃\"  \"구름조금\"  \"내일오후\"  \"220\"  \"℃\"  \"구름많음\"  \"현재\"  \"188\"  \"℃\"  \"맑음\"  \"내일오전\"  \"160\"  \"℃\"  \"구름많음\"  \"내일오후\"  \"230\"  \"℃\"  \"구름많음\"  \"현재\"  \"202\"  \"℃\"  \"맑음\"  \"내일오전\"  \"120\"  \"℃\"  \"맑음\"  \"내일오후\"  \"250\"  \"℃\"  \"구름조금\"  \"현재\"  \"212\"  \"℃\"  \"맑음\"  \"내일오전\"  \"140\"  \"℃\"  \"맑음\"  \"내일오후\"  \"260\"  \"℃\"  \"구름조금\"  \"현재\"  \"204\"  \"℃\"  \"맑음\"  \"내일오전\"  \"180\"  \"℃\"  \"맑음\"  \"내일오후\"  \"250\"  \"℃\"  \"맑음\"  \"현재\"  \"155\"  \"℃\"  \"맑음\"  \"내일오전\"  \"130\"  \"℃\"  \"구름조금\"  \"내일오후\"  \"190\"  \"℃\"  \"구름조금\"  \"현재\"  \"182\"  \"℃\"  \"구름조금\"  \"내일오전\"  \"130\"  \"℃\"  \"구름많음\"  \"내일오후\"  \"160\"  \"℃\"  \"구름많음\"  \"날씨\"  \"서울\"  \"초미세먼지\"  \"주의보\"  \"발령\"  \"주간예보\"  \"교통\"  \"고속도로\"  \"상황\"  \"도시고속화도로\"  \"상황\"  \"2\"  \"3\"  \"이전\"  \"다음\"  \"생활위젯\"  \"레이어\"  \"열기\"  \"광고\"  \"httpnv2adnavercomadshowunit002APnrefreshx0\"  \"주제형캐스트\"  \"라이프\"  \"스포츠\"  \"차테크\"  \"웹툰\"  \"게임\"  \"TV동영상\"  \"뮤직\"  \"영화\"  \"책\"  \"네이버캐스트\"  \"오픈캐스트\"  \"공익나눔\"  \"공익나눔\"  \"임산부와\"  \"신생아를\"  \"보호하는\"  \"특별한\"  \"실습\"  \"quot엄마\"  \"저도\"  \"말하고\"  \"싶어요quot\"  \"부스러기사랑나눔회\"  \"어르신께\"  \"전하고\"  \"싶은\"  \"위로의\"  \"목소리\"  \"해송복지원\"  \"세상을\"  \"보는\"  \"돋보기를\"  \"만든\"  \"앱\"  \"스타트업\"  \"공정\"  \"무역\"  \"현장을\"  \"찾아\"  \"떠난\"  \"여행\"  \"함께\"  \"하는\"  \"사회\"  \"인구주택\"  \"총\"  \"조사가\"  \"꼭\"  \"필요한\"  \"이유\"  \"참여하세요\"  \"손목을\"  \"움직일\"  \"수\"  \"없을\"  \"만큼\"  \"아픕니다\"  \"사단법인\"  \"여성인권\"  \"동감\"  \"섭씨\"  \"2도의\"  \"온도\"  \"상승이\"  \"불러올\"  \"결과\"  \"기후변화\"  \"인권을\"  \"향한\"  \"멈추지\"  \"않는\"  \"발걸음\"  \"세상을\"  \"바꾸는\"  \"사람\"  \"산양이\"  \"사는\"  \"우리\"  \"집에\"  \"놀러\"  \"오세요\"  \"크라우드\"  \"펀딩\"  \"상처\"  \"입은\"  \"마음을\"  \"위로해주는\"  \"수업\"  \"맑은누리지역아동센터\"  \"동물보호\"  \"병든\"  \"몸으로\"  \"버려졌던\"  \"강아지\"  \"동물보호시민단체카라\"  \"이제는\"  \"노래를\"  \"부르지\"  \"않아요\"  \"재단법인\"  \"그린피스\"  \"공익\"  \"캠페인\"  \"기부\"  \"방식의\"  \"획기적인\"  \"변화\"  \"함께\"  \"하는\"  \"사회\"  \"운전대를\"  \"돌리게\"  \"하는\"  \"주차장\"  \"세상을\"  \"바꾸는\"  \"아이디어\"  \"선호주제설정\"  \"주제별\"  \"더보기\"  \"해피빈홈\"  \"기부하기\"  \"크라우드\"  \"펀딩\"  \"따뜻한\"  \"세상\"  \"뉴스\"  \"12\"  \"12\"  \"이전캐스트\"  \"다음캐스트\"  \"쇼핑캐스트\"  \"none\"  \"국민행복캠페인\"  \"아이디어\"  \"공모전\"  \"행복시간표\"  \"문화콘텐츠\"  \"공모전에\"  \"참여하세요\"  \"인구주택총조사\"  \"전국민\"  \"엄지척\"  \"릴레이\"  \"엄지척\"  \"릴레이\"  \"amp\"  \"인증샷으로\"  \"총조사\"  \"참여를\"  \"약속해주세요\"  \"공지사항\"  \"네이버\"  \"‘단체회원\"  \"이용약관’\"  \"변경에\"  \"대한\"  \"안내\"  \"서비스\"  \"전체보기\"  \"네이버\"  \"정책\"  \"및\"  \"약관\"  \"회사소개\"  \"광고\"  \"검색등록\"  \"제휴제안\"  \"이용약관\"  \"개인정보취급방침\"  \"청소년보호정책\"  \"네이버\"  \"정책\"  \"네이버\"  \"고객센터\"  \"copy\"  \"NAVER\"  \"Corp\"  \n",
      "\n",
      "\n",
      "\n",
      "\n",
      "\n",
      "<각 단어별 출현빈도>\n",
      "{'gt': 1, '\\xed\\x95\\x9c\\xea\\xb8\\x80\\xec\\xba\\xa0\\xed\\x8e\\x98\\xec\\x9d\\xb8': 1, '\\xec\\x9c\\x84\\xed\\x95\\x98\\xec\\x97\\xac': 1, '\\xeb\\x82\\x98\\xeb\\x88\\x94\\xea\\xb8\\x80\\xea\\xbc\\xb4\\xec\\x9d\\xb4': 2, '\\xec\\x9c\\xa0\\xec\\xa7\\x80': 1, '\\xea\\xb3\\x84\\xea\\xb8\\x89': 1, '\\xeb\\x82\\x98\\xeb\\x88\\x94\\xea\\xb8\\x80\\xea\\xbc\\xb4\\xec\\x9d\\x84': 2, '\\xec\\x84\\xa0\\xed\\x98\\xb8\\xec\\xa3\\xbc\\xec\\xa0\\x9c\\xec\\x84\\xa4\\xec\\xa0\\x95': 1, '\\xec\\x9c\\x84\\xeb\\xa1\\x9c\\xec\\x9d\\x98': 1, '\\xec\\xb0\\xb8\\xec\\x97\\xac\\xed\\x95\\x98\\xec\\x84\\xb8\\xec\\x9a\\x94': 2, '\\xeb\\xb3\\xbc': 1, '\\xed\\x81\\xb4\\xeb\\xa6\\xad\\xed\\x95\\x98\\xec\\x84\\xb8\\xec\\x9a\\x94': 1, '\\xea\\xb0\\x95\\xec\\x95\\x84\\xec\\xa7\\x80': 1, '\\xec\\xa0\\x9c\\xeb\\x8c\\x80\\xeb\\xa1\\x9c': 1, '\\xec\\x83\\x81\\xed\\x83\\x9c': 1, '\\xea\\xb8\\xb0\\xeb\\xb6\\x80': 1, '\\xec\\x83\\x81\\xeb\\xb0\\x98\\xea\\xb8\\xb0': 1, '\\xec\\x8b\\x9c\\xec\\x8a\\xa4\\xed\\x85\\x9c\\xea\\xb8\\x80\\xea\\xbc\\xb4': 1, '\\xea\\xb5\\x90\\xed\\x86\\xb5': 1, '\\xea\\xb8\\xb0\\xec\\xa1\\xb4': 1, '\\xed\\x99\\x88': 3, '\\xeb\\xa5\\xbc': 1, '\\xec\\xb2\\xb4\\xed\\x81\\xac': 1, '\\xed\\x9d\\x90\\xeb\\xa6\\xac\\xea\\xb3\\xa0': 1, '\\xec\\x83\\x81\\xec\\xb2\\x98': 1, '\\xea\\xb3\\xa0\\xea\\xb0\\x9d\\xec\\x84\\xbc\\xed\\x84\\xb0': 1, '\\xeb\\x8f\\x8c\\xeb\\xa6\\xac\\xea\\xb2\\x8c': 1, '\\xec\\xa3\\xbc\\xec\\xa0\\x9c\\xed\\x98\\x95\\xec\\xba\\x90\\xec\\x8a\\xa4\\xed\\x8a\\xb8': 1, '\\xec\\xba\\xa0\\xed\\x8e\\x98\\xec\\x9d\\xb8': 1, '\\xeb\\x95\\x8c\\xeb\\x8a\\x94': 1, '\\xeb\\x8f\\x99\\xea\\xb0\\x90': 1, '\\xec\\xa0\\x9c\\xea\\xb3\\xb5\\xeb\\x90\\x98\\xec\\xa7\\x80': 1, '\\xec\\x9e\\x90\\xec\\xa3\\xbc': 2, '\\xec\\x84\\xb8\\xec\\x83\\x81': 1, '291': 1, '\\xea\\xb8\\xb0\\xec\\x82\\xac\\xeb\\xb3\\xb4\\xea\\xb8\\xb0': 1, '\\xec\\x95\\xb1': 4, '\\xeb\\xb0\\xb1\\xec\\xa2\\x85\\xec\\x9b\\x90': 2, '\\xeb\\x84\\xa4\\xec\\x9d\\xb4\\xeb\\xb2\\x84\\xeb\\x89\\xb4\\xec\\x8a\\xa4': 1, '\\xec\\x84\\xa4\\xec\\xb9\\x98\\xeb\\x90\\x9c': 1, '195': 1, '196': 1, '190': 1, '\\xec\\x9e\\x90\\xeb\\x8f\\x99\\xec\\xb0\\xa8': 1, '\\xec\\x82\\xac\\xed\\x9a\\x8c': 2, '\\xec\\xa0\\x84\\xed\\x95\\x98\\xea\\xb3\\xa0': 1, '\\xec\\xa0\\x84\\xeb\\xac\\xb8\\xeb\\xb3\\xb4\\xea\\xb8\\xb0': 2, '\\xec\\x99\\x84\\xeb\\xa3\\x8c\\xeb\\x90\\x98\\xec\\xa7\\x80': 1, '\\xea\\xb5\\xad\\xec\\x96\\xb4\\xec\\x82\\xac\\xec\\xa0\\x84': 1, '\\xed\\x95\\x9c\\xea\\xb5\\xad': 2, '\\xea\\xbc\\xad': 1, '\\xec\\xa3\\xbc\\xec\\x9a\\x94\\xec\\x96\\xb8\\xeb\\xa1\\xa0\\xec\\x82\\xac': 2, 'Caps': 2, '\\xec\\x84\\xa4\\xec\\xa0\\x95\\xeb\\x90\\x9c': 1, '\\xec\\x84\\xa4\\xec\\xb9\\x98\\xed\\x95\\x98\\xec\\x84\\xb8\\xec\\x9a\\x94': 1, 'new': 1, '\\xeb\\xb6\\x80\\xeb\\x8f\\x99\\xec\\x82\\xb0': 1, '\\xed\\x95\\x9c\\xea\\xb2\\x8c\\xec\\x9e\\x84': 1, '\\xeb\\x8b\\xab\\xea\\xb8\\xb0': 6, '\\xed\\x8f\\xb0\\xed\\x8a\\xb8\\xeb\\xa5\\xbc': 1, '\\xed\\x95\\x84\\xec\\x9a\\x94\\xed\\x95\\x9c': 1, '447': 1, '\\xea\\xb5\\xac\\xeb\\xa6\\x84\\xeb\\xa7\\x8e\\xec\\x9d\\x8c': 8, '\\xec\\xbc\\xa4': 1, '\\xec\\xb9\\xb4\\xed\\x85\\x8c\\xea\\xb3\\xa0\\xeb\\xa6\\xac': 1, '\\xec\\x9d\\xb4\\xec\\x9a\\xa9\\xec\\x95\\xbd\\xea\\xb4\\x80\\xe2\\x80\\x99': 1, '\\xed\\x99\\x95\\xec\\x9d\\xb8': 1, '\\xec\\xa2\\x85\\xed\\x95\\xa9\\xea\\xb2\\xbd\\xec\\xa0\\x9c': 1, '\\xec\\x9e\\x85\\xec\\x9d\\x80': 1, '\\xed\\x95\\x98\\xeb\\x8a\\x94': 3, '\\xeb\\xa7\\x90\\xed\\x95\\x98\\xea\\xb3\\xa0': 1, '\\xec\\x9d\\xb4\\xec\\x9a\\xa9\\xec\\x9d\\x84': 1, '\\xec\\x95\\x8a\\xea\\xb3\\xa0': 1, '\\xec\\x96\\xb4\\xeb\\xa5\\xb4\\xec\\x8b\\xa0\\xea\\xbb\\x98': 1, '\\xea\\xb2\\x80\\xec\\x83\\x89\\xec\\x96\\xb4\\xeb\\x8a\\x94': 1, '\\xea\\xb2\\x80\\xec\\x83\\x89\\xec\\x96\\xb4\\xec\\xa0\\x80\\xec\\x9e\\xa5': 6, '\\xed\\x81\\xac\\xeb\\x9d\\xbc\\xec\\x9a\\xb0\\xeb\\x93\\x9c': 2, '\\xea\\xb2\\xbd\\xec\\x9a\\xb0\\xec\\x97\\x90': 1, '\\xed\\x86\\xb5\\xed\\x95\\xa9\\xea\\xb2\\x80\\xec\\x83\\x89': 1, '\\xed\\x83\\x80\\xec\\x9e\\x84\\xec\\x8a\\xa4\\xed\\x80\\x98\\xec\\x96\\xb4': 2, 'txt': 4, '\\xeb\\x8b\\xa4\\xec\\x9d\\x8c\\xed\\x8e\\x98\\xec\\x9d\\xb4\\xec\\xa7\\x80': 2, '\\xec\\xa0\\x95\\xec\\xb1\\x85': 2, '\\xeb\\x89\\xb4\\xec\\x8a\\xa4': 3, '\\xec\\x97\\xb0\\xec\\x98\\x88': 1, '\\xea\\xb0\\x80\\xec\\x9d\\x84': 1, '\\xeb\\x9e\\xad\\xed\\x82\\xb9\\xeb\\x89\\xb4\\xec\\x8a\\xa4': 1, '\\xeb\\x9d\\xbc\\xec\\x9d\\xb4\\xed\\x94\\x84': 1, '\\xeb\\x8c\\x80\\xed\\x95\\x9c': 1, '\\xea\\xb0\\x9c\\xec\\x9d\\xb8\\xec\\xa0\\x95\\xeb\\xb3\\xb4': 1, '\\xed\\x95\\xb4\\xec\\x86\\xa1\\xeb\\xb3\\xb5\\xec\\xa7\\x80\\xec\\x9b\\x90': 1, '\\xec\\x9d\\xb8\\xeb\\xac\\xbc': 1, '\\xea\\xb2\\x80\\xec\\x83\\x89\\xec\\x96\\xb4\\xeb\\xa5\\xbc': 2, '90': 1, '\\xea\\xb8\\x89\\xec\\x83\\x81\\xec\\x8a\\xb9': 1, 'none': 1, '\\xeb\\x8c\\x80\\xed\\x95\\xb4': 1, '\\xea\\xb1\\xb4\\xea\\xb0\\x95': 1, '\\xec\\x97\\xb4\\xea\\xb8\\xb0': 2, '8\\xec\\x9c\\x84': 1, '\\xeb\\xb6\\x81\\xec\\x8a\\xa4': 1, '\\xeb\\xa9\\x94\\xeb\\x89\\xb4': 2, '\\xeb\\xb0\\xa9\\xec\\x8b\\x9d\\xec\\x9d\\x98': 1, '\\xed\\x8e\\x80\\xeb\\x94\\xa9': 2, '\\xec\\xa0\\x80\\xec\\x9e\\xa5\\xeb\\x90\\x98\\xec\\xa7\\x80': 1, '\\xec\\x95\\x84\\xed\\x94\\x95\\xeb\\x8b\\x88\\xeb\\x8b\\xa4': 1, '\\xeb\\x82\\x98\\xeb\\x88\\x94\\xea\\xb8\\x80\\xea\\xbc\\xb4\\xeb\\xa1\\x9c': 2, '7\\xec\\x9c\\x84': 1, '230': 3, '231': 1, '\\xeb\\xac\\xb8\\xed\\x99\\x94\\xec\\xbd\\x98\\xed\\x85\\x90\\xec\\xb8\\xa0': 1, '\\xeb\\x82\\x98\\xeb\\xa7\\x8c\\xec\\x9d\\x98': 1, '\\xec\\x9b\\x80\\xec\\xa7\\x81\\xec\\x9d\\xbc': 1, '\\xea\\xb8\\x80\\xea\\xbc\\xb4\\xec\\x84\\xa4\\xec\\xa0\\x95': 2, '\\xeb\\xb3\\x91\\xeb\\x93\\xa0': 1, '\\xec\\xb9\\xb4\\xed\\x8e\\x98': 2, '\\xec\\x82\\xac\\xeb\\x8b\\xa8\\xeb\\xb2\\x95\\xec\\x9d\\xb8': 1, '\\xed\\x9a\\x8d\\xea\\xb8\\xb0\\xec\\xa0\\x81\\xec\\x9d\\xb8': 1, '\\xec\\x9d\\xb8\\xea\\xb6\\x8c\\xec\\x9d\\x84': 1, '\\xec\\xa6\\x9d\\xea\\xb6\\x8c': 1, '\\xec\\x95\\x84\\xec\\x9d\\xb4\\xeb\\x94\\x94': 2, '\\xeb\\xb0\\x98\\xeb\\x93\\x9c\\xec\\x8b\\x9c': 1, '\\xec\\x98\\x81\\xec\\x9e\\x90\\xec\\xa7\\x80': 1, '140': 1, '\\xea\\xb8\\xb0\\xeb\\xa1\\x9d': 3, '\\xeb\\x85\\xb8\\xeb\\x9e\\x98\\xeb\\xa5\\xbc': 1, '\\xea\\xb0\\x80\\xeb\\x8a\\xa5\\xed\\x95\\xa9\\xeb\\x8b\\x88\\xeb\\x8b\\xa4': 2, 'date': 1, '\\xec\\xb1\\x94\\xed\\x94\\xbc\\xec\\x96\\xb8\\xec\\x8a\\xa4\\xeb\\xa6\\xac\\xea\\xb7\\xb8': 2, '\\xea\\xb7\\xb8\\xeb\\xa6\\xb0\\xed\\x94\\xbc\\xec\\x8a\\xa4': 1, '\\xeb\\x84\\xa4\\xec\\x9d\\xb4\\xeb\\xb2\\x84\\xeb\\xa5\\xbc': 1, '\\xeb\\xb6\\x80\\xec\\x8a\\xa4\\xeb\\x9f\\xac\\xea\\xb8\\xb0\\xec\\x82\\xac\\xeb\\x9e\\x91\\xeb\\x82\\x98\\xeb\\x88\\x94\\xed\\x9a\\x8c': 1, '\\xec\\xbc\\x9c\\xea\\xb8\\xb0': 5, '\\xea\\xb5\\xac\\xeb\\xa6\\x84\\xec\\xa1\\xb0\\xea\\xb8\\x88': 11, '\\xed\\x95\\xb4\\xec\\x95\\xbc': 1, '\\xec\\x82\\xac\\xeb\\x8a\\x94': 1, '\\xec\\x83\\x9d\\xea\\xb0\\x81\\xed\\x95\\x9c\\xeb\\x8c\\x80\\xeb\\xa1\\x9c': 1, '\\xec\\x8b\\xa0\\xec\\x83\\x9d\\xec\\x95\\x84\\xeb\\xa5\\xbc': 1, '\\xec\\xb6\\x94\\xea\\xb0\\x80\\xed\\x95\\x98\\xec\\x8b\\x9c\\xeb\\xa0\\xa4\\xeb\\xa9\\xb4': 1, '130': 4, '\\xec\\x8b\\xa4\\xec\\x8b\\x9c\\xea\\xb0\\x84': 1, '\\xec\\x9e\\x90\\xec\\x84\\xb8\\xed\\x9e\\x88\\xeb\\xb3\\xb4\\xea\\xb8\\xb0': 1, '\\xec\\x97\\xb0\\xed\\x95\\xa9\\xeb\\x89\\xb4\\xec\\x8a\\xa4': 1, '\\xea\\xb0\\x9c\\xec\\x9d\\xb8': 2, '\\xea\\xb3\\xb5\\xeb\\xaa\\xa8\\xec\\xa0\\x84\\xec\\x97\\x90': 1, '\\xeb\\xb3\\xb4\\xeb\\x82\\xb4\\xea\\xb8\\xb0': 1, '\\xec\\xa3\\xbc\\xec\\x9a\\x94\\xeb\\x89\\xb4\\xec\\x8a\\xa4\\xeb\\xa5\\xbc': 1, '2015': 1, '\\xec\\x95\\xb1\\xec\\x8a\\xa4\\xed\\x86\\xa0\\xec\\x96\\xb4': 1, '\\xec\\x86\\x90\\xeb\\xaa\\xa9\\xec\\x9d\\x84': 1, '\\xec\\x9a\\xb0\\xeb\\xa6\\xac': 1, '\\xec\\x8b\\x9c\\xec\\x9e\\x91\\xed\\x8e\\x98\\xec\\x9d\\xb4\\xec\\xa7\\x80\\xeb\\xa1\\x9c': 1, '\\xec\\xa7\\x88\\xeb\\xac\\xb8\\xed\\x98\\x95': 1, '\\xea\\xb2\\x80\\xec\\x83\\x89\\xec\\x96\\xb4\\xeb\\xa1\\x9c': 1, '\\xec\\x96\\xb8\\xec\\xa0\\x9c\\xea\\xb9\\x8c\\xec\\xa7\\x80\\xe2\\x80\\xa6\\xec\\xa3\\xbc\\xeb\\xa7\\x90': 1, '\\xec\\xa7\\x80\\xec\\x8b\\x9diN': 2, '\\xeb\\xb0\\x94\\xea\\xbe\\xb8\\xeb\\x8a\\x94': 2, '\\xea\\xb2\\x8c\\xec\\x9e\\x84': 2, '\\xeb\\x85\\xb8\\xeb\\x9e\\x98': 1, '\\xec\\xa7\\x91\\xec\\x97\\x90': 1, '\\xec\\x83\\x9d\\xed\\x99\\x9c': 1, '\\xeb\\xb9\\xa0\\xeb\\xa5\\xb8': 1, '\\xec\\xa0\\x84\\xec\\x86\\xa1\\xec\\x9d\\x80': 1, '\\xeb\\xb2\\x84\\xed\\x8a\\xbc\\xec\\x9d\\x84': 1, 'NAVER': 2, '\\xec\\x82\\xac\\xec\\x9a\\xa9\\xed\\x95\\x98\\xea\\xb3\\xa0': 1, '\\xec\\x9e\\x85\\xeb\\xa0\\xa5': 1, '\\xec\\xb5\\x9c\\xea\\xb7\\xbc\\xea\\xb2\\x80\\xec\\x83\\x89\\xec\\x96\\xb4': 2, '\\xec\\x97\\x94\\xed\\x94\\x8c\\xeb\\x9d\\xbc\\xec\\x9e\\x89': 2, '\\xeb\\xb9\\x84\\xeb\\xb0\\x80\\xeb\\xb2\\x88\\xed\\x98\\xb8': 2, '\\xeb\\xa9\\x88\\xec\\xb6\\x94\\xec\\xa7\\x80': 1, '\\xeb\\x82\\xb4PC': 1, '\\xed\\x9a\\x8c\\xec\\x9b\\x90\\xea\\xb0\\x80\\xec\\x9e\\x85': 1, '\\xec\\xb7\\xa8\\xec\\x86\\x8c': 2, '\\xec\\x9e\\xac\\xec\\x84\\xa4\\xec\\xb9\\x98': 1, '\\xeb\\xb0\\x9c\\xea\\xb1\\xb8\\xec\\x9d\\x8c': 1, '\\xec\\x84\\xa4\\xec\\xb9\\x98\\xeb\\xb0\\xa9\\xeb\\xb2\\x95': 1, 'NPay': 1, '\\xec\\xa7\\x80\\xec\\x9b\\x8c\\xec\\xa3\\xbc\\xec\\x84\\xb8\\xec\\x9a\\x94': 1, '240': 1, '\\xec\\x84\\xa0\\xeb\\xac\\xb8\\xeb\\x8c\\x80\\xed\\x95\\x99\\xea\\xb5\\x90': 2, '\\xeb\\xac\\xb4\\xeb\\xa3\\x8c\\xec\\x9e\\x85\\xeb\\x8b\\x88\\xeb\\x8b\\xa4': 1, '\\xec\\x87\\xbc\\xed\\x95\\x91': 2, '\\xec\\x95\\xbd\\xec\\x86\\x8d\\xed\\x95\\xb4\\xec\\xa3\\xbc\\xec\\x84\\xb8\\xec\\x9a\\x94': 1, '\\xec\\x9b\\xb9\\xeb\\xac\\xb8\\xec\\x84\\x9c': 1, '\\xec\\x9c\\xa0\\xed\\x98\\x95': 1, '\\xeb\\xb0\\x9c\\xec\\x83\\x9d\\xed\\x95\\xa9\\xeb\\x8b\\x88\\xeb\\x8b\\xa4': 1, '\\xec\\x84\\xa0\\xed\\x83\\x9d': 1, '\\xec\\x8b\\xb6\\xec\\x9d\\x80': 1, '\\xec\\x9d\\xb4': 2, '\\xec\\xa7\\x80\\xeb\\x8f\\x84': 2, '\\xea\\xb8\\x8d\\xec\\xa0\\x95\\xeb\\xb6\\x80\\xec\\xa0\\x95\\xea\\xb2\\x80\\xec\\x83\\x89': 1, '\\xec\\xa7\\x80\\xec\\x97\\xad\\xec\\x84\\xa4\\xec\\xa0\\x95': 1, '\\xea\\xb3\\xa0\\xeb\\xb9\\x84': 1, '\\xec\\x95\\x8a\\xeb\\x8a\\x94': 2, '\\xeb\\xb3\\xb4\\xec\\x84\\xb8\\xec\\x9a\\x94': 2, '\\xea\\xb8\\xb0\\xeb\\xb6\\x80\\xed\\x95\\x98\\xea\\xb8\\xb0': 1, '\\xe2\\x80\\x98\\xeb\\x8b\\xa8\\xec\\xb2\\xb4\\xed\\x9a\\x8c\\xec\\x9b\\x90': 1, '\\xec\\xa3\\xbc\\xec\\xb0\\xa8\\xec\\x9e\\xa5': 1, '178': 1, '170': 1, 'TV\\xec\\xba\\x90\\xec\\x8a\\xa4\\xed\\x8a\\xb8': 1, '\\xea\\xb5\\xac\\xeb\\x8f\\x85\\xec\\x84\\xa4\\xec\\xa0\\x95': 1, '182': 1, '180': 1, '2': 1, '\\xec\\x95\\x8a\\xec\\x9d\\x80': 1, '\\xeb\\x8b\\xa4\\xec\\x9d\\x8c\\xec\\xba\\x90\\xec\\x8a\\xa4\\xed\\x8a\\xb8': 1, '188': 1, '187': 1, '\\xed\\x95\\xb4\\xec\\xa0\\x9c': 1, '\\xed\\x88\\xac\\xeb\\x8d\\xb0\\xec\\x9d\\xb4': 1, '\\xed\\x9a\\x8c\\xec\\x82\\xac\\xec\\x86\\x8c\\xea\\xb0\\x9c': 1, '\\xeb\\xb3\\xb4\\xed\\x98\\xb8\\xeb\\xa5\\xbc': 1, '\\xeb\\xa1\\x9c\\xea\\xb7\\xb8\\xec\\x95\\x84\\xec\\x9b\\x83\\xec\\x9d\\x84': 1, '\\xea\\xb3\\xa0\\xea\\xb0\\x9d\\xeb\\x8b\\x98\\xec\\x9d\\x98': 1, '\\xec\\x9b\\xb9\\xed\\x88\\xb0': 2, 'copy': 1, '\\xec\\xb5\\x9c\\xeb\\x8c\\x80': 1, '\\xeb\\x82\\xa0\\xec\\x94\\xa8': 1, '10': 1, '\\xeb\\x8f\\x84\\xec\\x9b\\x80\\xeb\\xa7\\x90': 7, '12': 2, '\\xed\\x95\\xb4\\xec\\xa3\\xbc\\xec\\x84\\xb8\\xec\\x9a\\x94': 1, 'PC\\xec\\x97\\x90\\xec\\x84\\x9c\\xeb\\x8a\\x94': 1, '\\xeb\\xaf\\xb8\\xeb\\xa6\\xac\\xeb\\xb3\\xb4\\xea\\xb8\\xb0': 1, '\\xeb\\x8f\\x8b\\xeb\\xb3\\xb4\\xea\\xb8\\xb0\\xeb\\xa5\\xbc': 1, '\\xeb\\xa7\\x8c\\xeb\\x93\\xa0': 1, '\\xeb\\xb3\\x80\\xed\\x99\\x94': 1, '\\xeb\\xaa\\xa8\\xeb\\x93\\xa0': 2, '\\xeb\\xac\\xb4\\xeb\\xa3\\x8c\\xeb\\xa1\\x9c': 2, '\\xeb\\xb3\\xb4\\xeb\\x8a\\x94': 1, '\\xec\\x98\\xa4\\xeb\\xa5\\x98': 1, '\\xec\\x82\\xac\\xec\\xa0\\x84': 2, '\\xea\\xb0\\x80': 1, '\\xea\\xb8\\xb0\\xec\\x97\\x85\\xec\\x9d\\x84': 2, '\\xeb\\x82\\xb4\\xec\\x9d\\xbc\\xec\\x98\\xa4\\xed\\x9b\\x84': 12, '\\xea\\xb0\\x9c': 1, '\\xeb\\xaf\\xb8\\xec\\x84\\xb8\\xeb\\xa8\\xbc\\xec\\xa7\\x80': 1, '200': 1, '202': 1, '204': 1, '209': 1, '\\xeb\\xa9\\x94\\xec\\x9d\\xb8\\xec\\x97\\x90\\xec\\x84\\x9c': 1, '\\xeb\\x94\\xb0\\xeb\\x9c\\xbb\\xed\\x95\\x9c': 1, '\\xec\\x9e\\x88\\xec\\x8a\\xb5\\xeb\\x8b\\x88\\xeb\\x8b\\xa4': 6, '\\xec\\xb5\\x9c\\xea\\xb7\\xbc\\xea\\xb2\\x80\\xec\\x83\\x89\\xec\\x96\\xb4\\xec\\x97\\x90\\xec\\x84\\x9c': 1, '\\xec\\xb1\\x85': 3, 'httpnv1adnavercomadshowunit002ANnrefreshx0': 1, '1\\xec\\x9c\\x84': 1, '4\\xec\\x9c\\x84': 1, '\\xec\\x84\\xad\\xec\\x94\\xa8': 1, 'Lock': 2, '\\xeb\\xb2\\x88\\xed\\x98\\xb8\\xeb\\x8a\\x94': 1, '\\xed\\x96\\x89\\xeb\\xb3\\xb5\\xec\\x8b\\x9c\\xea\\xb0\\x84\\xed\\x91\\x9c': 1, '\\xec\\x98\\xa4\\xed\\x94\\x88\\xec\\xba\\x90\\xec\\x8a\\xa4\\xed\\x8a\\xb8': 1, '\\xeb\\xa9\\x94\\xec\\x9d\\xb8\\xec\\x9d\\x84': 2, '\\xec\\x9d\\xbc\\xed\\x9a\\x8c\\xec\\x9a\\xa9': 1, '3\\xec\\x9c\\x84': 1, '\\xec\\xa4\\x91\\xea\\xb3\\x84': 2, '\\xea\\xb3\\xb5\\xeb\\xaa\\xa8\\xec\\xa0\\x84': 1, '\\xec\\xa0\\x80\\xeb\\x8f\\x84': 1, '\\xed\\x98\\x84\\xec\\x9e\\xa5\\xec\\x9d\\x84': 1, '\\xec\\xa7\\x80\\xec\\x97\\xad': 2, '\\xec\\x95\\x8a\\xec\\x8a\\xb5\\xeb\\x8b\\x88\\xeb\\x8b\\xa4': 2, '\\xec\\xb0\\xbe\\xea\\xb8\\xb0': 2, 'N\\xeb\\x93\\x9c\\xeb\\x9d\\xbc\\xec\\x9d\\xb4\\xeb\\xb8\\x8c': 1, '\\xec\\x82\\xac\\xec\\x9a\\xa9': 2, '\\xed\\x98\\x84\\xec\\x9e\\xac': 15, '\\xec\\x98\\xa4\\xec\\x84\\xb8\\xec\\x9a\\x94': 1, '\\xeb\\x8b\\xa4\\xec\\x8b\\x9c': 2, '\\xea\\xb2\\x80\\xec\\x83\\x89\\xeb\\x93\\xb1\\xeb\\xa1\\x9d': 1, '\\xeb\\x86\\x80\\xeb\\x9f\\xac': 1, '\\xeb\\xb3\\xb4\\xed\\x98\\xb8\\xed\\x95\\x98\\xeb\\x8a\\x94': 1, '\\xea\\xb2\\x80\\xec\\x83\\x89': 2, '\\xeb\\xae\\xa4\\xec\\xa7\\x81': 3, '\\xec\\x9e\\x90\\xeb\\x8f\\x99\\xec\\x99\\x84\\xec\\x84\\xb1': 10, '120': 5, '126': 1, '\\xea\\xb5\\xac\\xeb\\x8f\\x85\\xeb\\xaa\\xa9\\xeb\\xa1\\x9d': 1, '\\xec\\xa2\\x8b\\xec\\x9d\\x80': 1, '\\xec\\x9a\\xa9\\xec\\x96\\xb4\\xec\\x82\\xac\\xec\\xa0\\x84': 1, '\\xec\\x9e\\xac\\xeb\\xb3\\xb4\\xea\\xb6\\x90\\xec\\x84\\xa0\\xea\\xb1\\xb0': 1, '\\xeb\\x8f\\x99\\xeb\\xac\\xbc\\xeb\\xb3\\xb4\\xed\\x98\\xb8\\xec\\x8b\\x9c\\xeb\\xaf\\xbc\\xeb\\x8b\\xa8\\xec\\xb2\\xb4\\xec\\xb9\\xb4\\xeb\\x9d\\xbc': 1, '\\xec\\x8b\\xb6\\xec\\x96\\xb4\\xec\\x9a\\x94quot': 1, '\\xec\\x84\\x9c\\xec\\x9a\\xb8': 2, '\\xeb\\xb0\\x9c\\xeb\\xa0\\xb9': 1, '\\xec\\x8b\\xa0\\xea\\xb7\\x9c': 1, '\\xeb\\xa1\\x9c\\xea\\xb7\\xb8\\xec\\x9d\\xb8': 5, '\\xec\\x97\\xac\\xec\\x84\\xb1\\xec\\x9d\\xb8\\xea\\xb6\\x8c': 1, '\\xeb\\xa6\\xb4\\xeb\\xa0\\x88\\xec\\x9d\\xb4': 2, '\\xec\\x88\\x98': 4, '\\xeb\\xa7\\x88\\xec\\x9d\\x8c\\xec\\x9d\\x84': 1, '\\xec\\x9d\\xb4\\xec\\xa0\\x9c\\xeb\\x8a\\x94': 1, '\\xea\\xb4\\x91\\xea\\xb3\\xa0': 3, '\\xec\\x95\\x8c\\xeb\\xa6\\xbc': 1, '\\xec\\xa0\\x84\\xec\\xb2\\xb4': 2, '\\xec\\xb0\\xa8\\xed\\x85\\x8c\\xed\\x81\\xac': 1, '\\xea\\xb3\\xb5\\xec\\xa7\\x80\\xec\\x82\\xac\\xed\\x95\\xad': 1, '9\\xec\\x9c\\x84': 1, '\\xec\\x98\\x81\\xec\\x96\\xb4\\xec\\x82\\xac\\xec\\xa0\\x84': 1, '3': 1, '\\xec\\x99\\x84\\xeb\\xa3\\x8c': 1, '\\xea\\xb5\\xad\\xeb\\xaf\\xbc\\xed\\x96\\x89\\xeb\\xb3\\xb5\\xec\\xba\\xa0\\xed\\x8e\\x98\\xec\\x9d\\xb8': 1, '\\xec\\xa3\\xbc\\xec\\x9d\\x98\\xeb\\xb3\\xb4': 1, '\\xec\\x9d\\xb4\\xec\\xa0\\x84\\xed\\x8e\\x98\\xec\\x9d\\xb4\\xec\\xa7\\x80': 2, '\\xea\\xb3\\xb5\\xec\\x9d\\xb5\\xeb\\x82\\x98\\xeb\\x88\\x94': 2, '\\xea\\xb2\\x80\\xec\\x83\\x89\\xed\\x95\\xb4': 1, '\\xec\\xa3\\xbc\\xec\\xa0\\x9c\\xeb\\xb3\\x84\\xec\\xba\\x90\\xec\\x8a\\xa4\\xed\\x8a\\xb8': 1, '\\xec\\x83\\x81\\xec\\x8a\\xb9\\xec\\x9d\\xb4': 1, '\\xea\\xb3\\xb5\\xec\\x9a\\xa9': 1, '\\xeb\\xa9\\x94\\xec\\x9d\\xbc': 1, '2\\xec\\x9c\\x84': 1, '\\xec\\xa3\\xbc\\xec\\x84\\xb8\\xec\\x9a\\x94': 1, '\\xeb\\x8b\\xa4\\xec\\x9d\\x8c': 2, 'PC\\xec\\x97\\x90\\xec\\x84\\x9c': 1, '\\xec\\x84\\xa0\\xea\\xb1\\xb0\\xec\\x9d\\xbc\\xea\\xb9\\x8c\\xec\\xa7\\x80': 1, '\\xec\\x84\\xb8\\xec\\x83\\x81\\xec\\x9d\\x84': 3, '\\xeb\\xb0\\xb1\\xea\\xb3\\xbc\\xec\\x82\\xac\\xec\\xa0\\x84': 1, '\\xec\\x84\\xa0\\xed\\x83\\x9d\\xed\\x95\\x98\\xec\\x97\\xac': 1, '\\xeb\\x82\\x98\\xeb\\x88\\x94\\xea\\xb8\\x80\\xea\\xbc\\xb4': 8, '\\xec\\xb5\\x9c\\xec\\x95\\x85\\xec\\x9d\\x98': 1, '\\xed\\x95\\x84\\xec\\x9a\\x94\\xed\\x95\\xa9\\xeb\\x8b\\x88\\xeb\\x8b\\xa4': 1, 'httpnv2adnavercomadshowunit002APnrefreshx0': 1, '\\xec\\xa1\\xb0\\xec\\x82\\xac\\xea\\xb0\\x80': 1, '\\xec\\xa0\\x84\\xec\\xb2\\xb4\\xec\\x96\\xb8\\xeb\\xa1\\xa0\\xec\\x82\\xac': 2, '\\xed\\x95\\xb4': 1, '\\xeb\\x8b\\xa4\\xec\\x9a\\xb4\\xeb\\xa1\\x9c\\xeb\\x93\\x9cURL': 2, '\\xea\\xb2\\x80\\xec\\x83\\x89\\xec\\x96\\xb4': 10, '\\xeb\\xb3\\x80\\xea\\xb2\\xbd\\xec\\x97\\x90': 1, '\\xeb\\x8b\\xa4\\xec\\x9a\\xb4\\xeb\\xa1\\x9c\\xeb\\x93\\x9c': 2, '255': 1, '2\\xeb\\x8f\\x84\\xec\\x9d\\x98': 1, '\\xec\\xb0\\xbe\\xec\\x95\\x84': 1, '\\xec\\x8a\\xa4\\xed\\x8f\\xac\\xec\\xb8\\xa0\\xec\\x97\\xb0\\xec\\x98\\x88': 1, '\\xec\\xb9\\xb4\\xed\\x8e\\x98\\xeb\\xaa\\x85': 1, '\\xed\\x99\\x9c\\xec\\x84\\xb1\\xed\\x99\\x94\\xeb\\x90\\x98\\xec\\x97\\x88\\xec\\x8a\\xb5\\xeb\\x8b\\x88\\xeb\\x8b\\xa4': 1, 'Beta': 1, '\\xec\\x84\\xa4\\xec\\xa0\\x95': 1, '\\xed\\x95\\x9c\\xec\\x9e\\x90\\xec\\x82\\xac\\xec\\xa0\\x84': 1, '250': 2, '\\xeb\\xb6\\x88\\xeb\\x9f\\xac\\xec\\x98\\xac': 1, '\\xea\\xb3\\x84\\xec\\x8b\\xad\\xeb\\x8b\\x88\\xeb\\x8b\\xa4': 1, '\\xeb\\x82\\xb4\\xec\\x9d\\xbc\\xec\\x98\\xa4\\xec\\xa0\\x84': 12, '\\xeb\\x8f\\x99\\xeb\\xac\\xbc\\xeb\\xb3\\xb4\\xed\\x98\\xb8': 1, '\\xec\\x83\\x9d\\xed\\x99\\x9c\\xec\\x9c\\x84\\xec\\xa0\\xaf': 1, '\\xec\\x9d\\x8c\\xec\\x95\\x85': 1, '\\xec\\x8b\\xa0\\xea\\xb3\\xa0': 4, '160': 2, '162': 1, '\\xeb\\xb3\\xb4\\xea\\xb8\\xb0': 1, '\\xed\\x9d\\x90\\xeb\\xa6\\xbc': 1, '\\xec\\x82\\xad\\xec\\xa0\\x9c\\xed\\x95\\x9c': 1, '\\xeb\\x89\\xb4\\xec\\x8a\\xa4\\xec\\x8a\\xa4\\xed\\x83\\xa0\\xeb\\x93\\x9c': 2, '\\xec\\x9d\\xb4\\xec\\x9a\\xa9\\xec\\x95\\xbd\\xea\\xb4\\x80': 1, '\\xec\\x9d\\xb4\\xec\\x9c\\xa0\\xeb\\x8a\\x94': 1, '\\xed\\x95\\xa9\\xeb\\x8b\\x88\\xeb\\x8b\\xa4': 1, '\\xeb\\x93\\xb1\\xeb\\xa1\\x9d': 2, '\\xec\\x93\\xb0\\xeb\\x8a\\x94': 1, '\\xec\\xa0\\x9c\\xed\\x9c\\xb4\\xec\\xa0\\x9c\\xec\\x95\\x88': 1, '\\xec\\x84\\x9c\\xeb\\xb9\\x84\\xec\\x8a\\xa4': 2, '\\xea\\xb9\\x8c\\xec\\xa7\\x80': 1, '\\xec\\x9c\\xa0\\xed\\x9d\\xac\\xea\\xb4\\x80': 2, '\\xeb\\xa7\\x8c\\xed\\x81\\xbc': 1, '\\xeb\\x82\\xb4\\xec\\x97\\xad\\xec\\x9d\\xb4': 1, '\\xec\\x9d\\xb8\\xea\\xb5\\xac\\xec\\xa3\\xbc\\xed\\x83\\x9d\\xec\\xb4\\x9d\\xec\\xa1\\xb0\\xec\\x82\\xac': 1, '\\xea\\xb2\\xbd\\xec\\x9a\\xb0': 1, '\\xec\\x9e\\x84\\xec\\x82\\xb0\\xeb\\xb6\\x80\\xec\\x99\\x80': 1, '\\xed\\x94\\x84\\xeb\\xa1\\x9c\\xec\\x95\\xbc\\xea\\xb5\\xac': 2, '\\xeb\\xac\\xb8\\xec\\x9e\\x90\\xeb\\xb0\\x9b\\xea\\xb8\\xb0': 2, '\\xeb\\xb0\\x94\\xeb\\xa1\\x9c': 1, 'IT': 1, '\\xed\\x8e\\xbc\\xec\\xb9\\x98\\xea\\xb8\\xb0': 1, '\\xec\\xa0\\x84\\xeb\\xac\\xb8\\xec\\x9e\\x90\\xeb\\xa3\\x8c': 1, '\\xeb\\x8d\\x94\\xeb\\xb3\\xb4\\xea\\xb8\\xb0': 2, '\\xec\\x98\\x81\\xed\\x99\\x94': 4, '\\xec\\x9d\\xb8\\xec\\xa6\\x9d\\xec\\x83\\xb7\\xec\\x9c\\xbc\\xeb\\xa1\\x9c': 1, '\\xeb\\xaa\\xa9\\xec\\x86\\x8c\\xeb\\xa6\\xac': 1, '\\xec\\x83\\x81\\xed\\x99\\xa9': 2, 'nbsp\\xeb\\x82\\x98\\xeb\\x88\\x94\\xea\\xb8\\x80\\xea\\xbc\\xb4\\xec\\x9d\\x84': 1, '\\xec\\xb6\\x9c\\xed\\x98\\x88\\xec\\x97\\xb4': 1, '\\xed\\x99\\x95\\xec\\x9d\\xb8\\xeb\\x90\\x98\\xec\\xa7\\x80': 2, '\\xeb\\x84\\xa4\\xec\\x9d\\xb4\\xeb\\xb2\\x84me': 1, '\\xec\\xb5\\x9c\\xec\\xb4\\x88\\xec\\x84\\xa4\\xec\\xb9\\x98\\xea\\xb0\\x80': 1, '351': 2, 'intxt': 1, '\\xeb\\xa7\\x91\\xec\\x9d\\x8c': 15, '\\xec\\x9c\\x84\\xec\\xb9\\x98': 1, '212': 1, '\\xec\\x82\\xac\\xeb\\x9e\\x8c': 1, '\\xeb\\xb0\\xa9\\xec\\x86\\xa1\\xed\\x86\\xb5\\xec\\x8b\\xa0': 1, '\\xeb\\x8f\\x99\\xec\\x98\\x81\\xec\\x83\\x81': 1, '\\xec\\xa0\\x84\\xec\\xb2\\xb4\\xeb\\xb3\\xb4\\xea\\xb8\\xb0': 1, '\\xec\\x97\\x84\\xec\\xa7\\x80\\xec\\xb2\\x99': 2, '\\xed\\x8c\\xa8\\xeb\\xb0\\x80\\xeb\\xa6\\xac': 1, '\\xec\\xa5\\xac\\xeb\\x8b\\x88\\xeb\\xb2\\x84': 1, '\\xeb\\xb0\\x94\\xeb\\xa1\\x9c\\xea\\xb0\\x80\\xea\\xb8\\xb0': 5, '\\xec\\xa6\\x9d\\xec\\x83\\x81': 1, '\\xea\\xb5\\xad\\xeb\\x82\\xb4': 1, '\\xec\\x97\\x86\\xec\\x8a\\xb5\\xeb\\x8b\\x88\\xeb\\x8b\\xa4': 2, '6\\xec\\x9c\\x84': 1, '\\xea\\xb2\\x80\\xec\\x83\\x89\\xec\\x96\\xb4\\xea\\xb0\\x80': 1, '\\xec\\xb9\\xb4\\xed\\x8e\\x98\\xea\\xb8\\x80': 1, '260': 1, '\\xec\\xb0\\xbe\\xeb\\x8a\\x94': 1, '264': 1, '2\\xeb\\x8b\\xa8\\xea\\xb3\\x84': 1, 'amp': 1, '\\xec\\x95\\xbd\\xea\\xb4\\x80': 1, '\\xeb\\x9d\\xbc\\xec\\x9d\\xb8': 1, 'IP\\xeb\\xb3\\xb4\\xec\\x95\\x88': 2, '\\xeb\\x8f\\x84\\xec\\x8b\\x9c\\xea\\xb3\\xa0\\xec\\x86\\x8d\\xed\\x99\\x94\\xeb\\x8f\\x84\\xeb\\xa1\\x9c': 1, '\\xea\\xb0\\x80\\xeb\\xb3\\x8d\\xea\\xb3\\xa0': 1, '\\xec\\x9d\\xb4\\xec\\x9c\\xa0': 1, '\\xec\\x95\\x8a\\xec\\x95\\x84\\xec\\x9a\\x94': 1, '\\xec\\x98\\xa8\\xeb\\x8f\\x84': 1, '\\xec\\xa3\\xbc\\xec\\xa0\\x9c\\xeb\\xb3\\x84': 1, '5\\xec\\x9c\\x84': 1, '\\xea\\xb8\\xb0\\xed\\x9b\\x84\\xeb\\xb3\\x80\\xed\\x99\\x94': 1, '\\xec\\x9e\\x88\\xec\\x96\\xb4\\xec\\x9a\\x94': 1, '\\xec\\x97\\xac\\xed\\x96\\x89': 1, '\\xeb\\xa7\\xa4\\xea\\xb1\\xb0\\xec\\xa7\\x84\\xec\\xa0\\x84\\xeb\\xac\\xb8\\xec\\xa7\\x80': 1, '\\xec\\x9d\\xbc\\xeb\\xb3\\xb8\\xec\\x96\\xb4\\xec\\x82\\xac\\xec\\xa0\\x84': 1, '\\xeb\\x81\\x84\\xea\\xb8\\xb0': 7, '\\xeb\\xb9\\x84': 1, '\\xeb\\xac\\xb4\\xec\\x97\\xad': 1, '\\xec\\x84\\xa4\\xec\\xb9\\x98': 5, '\\xec\\x9e\\x84\\xec\\x9d\\x98\\xeb\\xa1\\x9c': 1, '10\\xec\\x9c\\x84': 1, '\\xea\\xb2\\xbd\\xec\\xb0\\xb0': 1, '\\xed\\x8f\\xac\\xed\\x95\\xa8': 2, '\\xec\\xb0\\xb8\\xec\\x97\\xac\\xeb\\xa5\\xbc': 1, '\\xec\\x95\\x8c\\xea\\xb8\\xb0': 1, '\\xec\\xa3\\xbc\\xea\\xb0\\x84\\xec\\x98\\x88\\xeb\\xb3\\xb4': 1, '303': 1, '\\xec\\xb4\\x9d': 1, '\\xeb\\x84\\xa4\\xec\\x9d\\xb4\\xeb\\xb2\\x84SE': 1, '\\xea\\xb3\\xa0\\xec\\x86\\x8d\\xeb\\x8f\\x84\\xeb\\xa1\\x9c': 1, '\\xeb\\xb0\\x8f': 3, '\\xec\\x82\\xad\\xec\\xa0\\x9c': 4, '\\xe2\\x84\\x83': 36, '\\xec\\xa1\\xb0\\xec\\x84\\xb1\\xec\\xa7\\x84': 2, '\\xeb\\xb3\\xb4\\xec\\x95\\x88\\xeb\\xa1\\x9c\\xea\\xb7\\xb8\\xec\\x9d\\xb8': 1, '\\xec\\x9d\\xb4\\xec\\xa0\\x84\\xec\\xba\\x90\\xec\\x8a\\xa4\\xed\\x8a\\xb8': 1, '\\xed\\x94\\x8c\\xeb\\x9e\\x98\\xec\\x8b\\x9c': 1, '\\xeb\\x84\\xa4\\xec\\x9d\\xb4\\xeb\\xb2\\x84\\xec\\xba\\x90\\xec\\x8a\\xa4\\xed\\x8a\\xb8': 1, '\\xec\\x9e\\x85\\xeb\\xa0\\xa5\\xed\\x95\\x98\\xec\\x8b\\xa0': 1, '\\xeb\\x9d\\xbc\\xec\\x9d\\xb4\\xec\\x84\\xbc\\xec\\x8a\\xa4': 2, '\\xeb\\x82\\xb4': 8, '\\xec\\x95\\xb1\\xec\\x9d\\x84': 1, '\\xeb\\xb8\\x94\\xeb\\xa1\\x9c\\xea\\xb7\\xb8': 2, '\\xec\\xb4\\x88\\xeb\\xaf\\xb8\\xec\\x84\\xb8\\xeb\\xa8\\xbc\\xec\\xa7\\x80': 1, '\\xec\\x82\\xb0\\xec\\x96\\x91\\xec\\x9d\\xb4': 1, '\\xea\\xb2\\x80\\xec\\x83\\x89\\xed\\x99\\x88': 1, '\\xec\\x9c\\x84\\xed\\x95\\xb4\\xec\\x84\\x9c\\xeb\\x8a\\x94': 2, '\\xeb\\xaa\\xb8\\xec\\x9c\\xbc\\xeb\\xa1\\x9c': 1, '\\xeb\\xb6\\x80\\xeb\\xa5\\xb4\\xec\\xa7\\x80': 1, 'MY\\xeb\\x89\\xb4\\xec\\x8a\\xa4': 1, '\\xea\\xb3\\xa0\\xed\\x98\\x84\\xec\\xa0\\x95': 2, '\\xec\\xbc\\x9c\\xec\\xa0\\xb8': 2, '\\xec\\x9c\\x84\\xeb\\xa1\\x9c\\xed\\x95\\xb4\\xec\\xa3\\xbc\\xeb\\x8a\\x94': 1, '\\xec\\x8b\\xa0\\xec\\xa6\\x9d\\xed\\x9b\\x84\\xec\\x84\\xb1': 1, 'Corp': 1, '\\xeb\\x84\\xa4\\xec\\x9d\\xb4\\xeb\\xb2\\x84': 14, '\\xed\\x95\\xa8\\xea\\xbb\\x98': 2, '\\xea\\xb3\\xb5\\xec\\x9d\\xb5': 1, '\\xec\\xa0\\x84\\xea\\xb5\\xad\\xeb\\xaf\\xbc': 1, '\\xec\\x9a\\x94\\xec\\xa6\\x98': 1, '\\xea\\xb8\\xb0\\xeb\\x8a\\xa5\\xec\\x9d\\x84': 2, '\\xec\\xb4\\x9d\\xec\\xa1\\xb0\\xec\\x82\\xac': 1, '\\xec\\x97\\x86\\xec\\x9d\\x84': 1, '\\xec\\x98\\x81\\xec\\x98\\x81\\xec\\x82\\xac\\xec\\xa0\\x84': 1, '\\xeb\\xa0\\x88\\xec\\x9d\\xb4\\xec\\x96\\xb4': 5, '\\xed\\x94\\x8c\\xeb\\xa0\\x88\\xec\\x9d\\xb4\\xec\\x96\\xb4\\xeb\\xa5\\xbc': 1, '\\xec\\xa0\\x80\\xec\\x9e\\xa5': 2, '\\xed\\x9b\\x84\\xeb\\xb3\\xb4\\xec\\x97\\x90': 1, '\\xec\\x95\\x88\\xeb\\x82\\xb4': 3, '\\xed\\x8a\\xb9\\xeb\\xb3\\x84\\xed\\x95\\x9c': 1, '\\xec\\x84\\xa4\\xec\\xb9\\x98\\xed\\x95\\x98\\xec\\x8b\\x9c\\xea\\xb2\\xa0\\xec\\x8a\\xb5\\xeb\\x8b\\x88\\xea\\xb9\\x8c': 2, '\\xec\\x8a\\xa4\\xed\\x8f\\xac\\xec\\xb8\\xa0': 2, '\\xec\\x88\\x98\\xec\\x97\\x85': 1, '220': 1, '\\xec\\x95\\x84\\xec\\x9d\\xb4\\xeb\\x94\\x94\\xec\\x96\\xb4': 2, '1021': 1, '\\xeb\\xa7\\x91\\xec\\x9d\\x80\\xeb\\x88\\x84\\xeb\\xa6\\xac\\xec\\xa7\\x80\\xec\\x97\\xad\\xec\\x95\\x84\\xeb\\x8f\\x99\\xec\\x84\\xbc\\xed\\x84\\xb0': 1, '\\xec\\x87\\xbc\\xed\\x95\\x91\\xec\\xba\\x90\\xec\\x8a\\xa4\\xed\\x8a\\xb8': 2, '\\xec\\x82\\xac\\xec\\x9d\\xb4\\xed\\x8a\\xb8': 3, '\\xec\\x9d\\xb8\\xea\\xb5\\xac\\xec\\xa3\\xbc\\xed\\x83\\x9d': 1, '\\xea\\xb8\\xb0\\xeb\\x8a\\xa5\\xec\\x9d\\xb4': 5, '\\xea\\xb2\\xb0\\xea\\xb3\\xbc': 1, '\\xec\\xb2\\xad\\xec\\x86\\x8c\\xeb\\x85\\x84\\xeb\\xb3\\xb4\\xed\\x98\\xb8\\xec\\xa0\\x95\\xec\\xb1\\x85': 1, '155': 1, '156': 1, '\\xec\\x9e\\xac\\xeb\\x8b\\xa8\\xeb\\xb2\\x95\\xec\\x9d\\xb8': 1, '\\xeb\\xb2\\x84\\xeb\\xa0\\xa4\\xec\\xa1\\x8c\\xeb\\x8d\\x98': 1, '\\xec\\x9a\\xb4\\xec\\xa0\\x84\\xeb\\x8c\\x80\\xeb\\xa5\\xbc': 1, '\\xec\\x96\\xb8\\xeb\\xa1\\xa0\\xec\\x82\\xac\\xeb\\xb3\\x84': 1, '\\xed\\x95\\xb4\\xed\\x94\\xbc\\xeb\\xb9\\x88': 1, '\\xeb\\x93\\xa3\\xea\\xb8\\xb0': 1, '\\xec\\x82\\xac\\xec\\x9a\\xa9\\xec\\x9e\\x90\\xea\\xb0\\x80': 2, '4\\xec\\x9b\\x9429\\xec\\x9d\\xbc': 1, '\\xec\\xa0\\x80\\xec\\x9e\\xa5\\xed\\x95\\xa0': 1, 'TV\\xeb\\x8f\\x99\\xec\\x98\\x81\\xec\\x83\\x81': 1, '\\xec\\x9d\\xb4\\xeb\\xaf\\xb8\\xec\\xa7\\x80': 1, '\\xed\\x9c\\xb4\\xeb\\x8c\\x80\\xed\\x8f\\xb0\\xeb\\xb2\\x88\\xed\\x98\\xb8': 1, '\\xec\\xa0\\x80\\xec\\x9e\\xa5\\xed\\x95\\xb4': 1, '\\xec\\x8b\\xa4\\xec\\x8a\\xb5': 1, '\\xeb\\xb3\\xb4\\xea\\xb8\\xb0\\xec\\x9c\\x84\\xed\\x95\\xb4\\xec\\x84\\x9c\\xeb\\x8a\\x94': 1, '\\xea\\xba\\xbc\\xec\\xa0\\xb8': 3, '\\xeb\\xa7\\xa4\\xec\\xb2\\xb4\\xeb\\xb3\\xb4\\xea\\xb8\\xb0': 1, '\\xed\\x95\\xb4\\xed\\x94\\xbc\\xeb\\xb9\\x88\\xed\\x99\\x88': 1, '\\xea\\xb8\\xb0\\xeb\\x8b\\x88': 2, '\\xec\\x83\\x81\\xec\\x8a\\xb9': 11, '\\xed\\x96\\xa5\\xed\\x95\\x9c': 1, '\\xea\\xb3\\xb5\\xec\\xa0\\x95': 1, 'quot\\xec\\x97\\x84\\xeb\\xa7\\x88': 1, '\\xea\\xb2\\xbd\\xec\\xa0\\x9c': 1, '\\xec\\x86\\x90\\xeb\\xaf\\xbc\\xed\\x95\\x9c': 3, '\\xea\\xb0\\x9c\\xec\\x9d\\xb8\\xec\\xa0\\x95\\xeb\\xb3\\xb4\\xec\\xb7\\xa8\\xea\\xb8\\x89\\xeb\\xb0\\xa9\\xec\\xb9\\xa8': 1, '\\xec\\x8a\\xa4\\xed\\x83\\x80\\xed\\x8a\\xb8\\xec\\x97\\x85': 1, '\\xeb\\x96\\xa0\\xeb\\x82\\x9c': 1, '\\xec\\x9d\\xb4\\xec\\xa0\\x84': 2}\n"
     ]
    }
   ],
   "source": [
    "import urllib\n",
    "import re #특수문자 제거를 위함\n",
    "\n",
    "source = urllib.urlopen(\"http://www.naver.com\").read()\n",
    "len_source = len(source)\n",
    "\n",
    "dic={} #각 단어들의 출현빈도를 사전형태로 저장\n",
    "\n",
    "source_new = None\n",
    "i = 0\n",
    "while (i < len_source):\n",
    "\tfound = False\n",
    "\tif (found != True and source[i] == \"<\" and source[i+1 : i+7].lower() == \"script\"):\n",
    "\t\tfound = True;\n",
    "\t\tj = i + 7;\n",
    "\t\twhile (True):\n",
    "\t\t\tif (source[j] == \"<\" and source[j+1] == \"/\" and source[j+2 : j+8].lower() == \"script\"):\n",
    "\t\t\t\t#print \"found - script\"\n",
    "\t\t\t\tsource = source[:i] + ' ' + source[j+9:]\n",
    "\t\t\t\tbreak\n",
    "\t\t\tj = j + 1\n",
    "\t\t\tif (j > len_source):\n",
    "\t\t\t\tbreak\n",
    "\t\tlen_source = len(source)\n",
    "\ti = i + 1\n",
    "\n",
    "len_source = len(source)\n",
    "\n",
    "i = 0\n",
    "while (i < len_source):\n",
    "\tfound = False\n",
    "\tif (found != True and source[i] == \"<\" and source[i+1 : i+6].lower() == \"style\"):\n",
    "\t\tfound = True;\n",
    "\t\tj = i + 6;\n",
    "\t\twhile (True):\n",
    "\t\t\tif (source[j] == \"<\" and source[j+1] == \"/\" and source[j+2 : j+7].lower() == \"style\"):\n",
    "\t\t\t\t#print \"found - style\"\n",
    "\t\t\t\tsource = source[:i] + ' ' + source[j+8:]\n",
    "\t\t\t\tbreak\n",
    "\t\t\tj = j + 1\n",
    "\t\t\tif (j > len_source):\n",
    "\t\t\t\tbreak\n",
    "\t\tlen_source = len(source)\n",
    "\ti = i + 1\n",
    "\n",
    "len_source = len(source)\n",
    "\n",
    "i = 0\n",
    "while (i < len_source):\n",
    "\tfound = False\n",
    "\tif (found != True and source[i] == \"<\"):\n",
    "\t\tfound = True;\n",
    "\t\tj = i + 1;\n",
    "\t\twhile (True):\n",
    "\t\t\tif (source[j] == \">\"):\n",
    "\t\t\t\t#print \"found - HTML tag\"\n",
    "\t\t\t\tsource = source[:i] + ' ' + source[j+1:]\n",
    "\t\t\t\tbreak\n",
    "\t\t\tj = j + 1\n",
    "\t\t\tif (j > len_source):\n",
    "\t\t\t\tbreak\n",
    "\t\tlen_source = len(source)\n",
    "\ti = i + 1\n",
    "\n",
    "words = source.split()\n",
    "\n",
    "print '<순수 텍스트 단어들>'\n",
    "for word in words:\n",
    "    word=re.sub('[^가-힝0-9a-zA-Z\\\\s]', '', word) #특수문자 제거\n",
    "    if word!='':\n",
    "        if(dic.get(word) == None):\n",
    "            dic[word] = 1\n",
    "        else:\n",
    "            dic[word] += 1\n",
    "        print '\"' + word + '\" ',\n",
    "        \n",
    "print '\\n'*5\n",
    "\n",
    "print '<각 단어별 출현빈도>'\n",
    "print dic"
   ]
  },
  {
   "cell_type": "code",
   "execution_count": 26,
   "metadata": {
    "collapsed": false
   },
   "outputs": [
    {
     "name": "stdout",
     "output_type": "stream",
     "text": [
      "<순수 텍스트 단어들>\n",
      "\"Daum\"  \"ndash\"  \"모으다\"  \"잇다\"  \"흔들다\"  \"주요\"  \"서비스\"  \"바로가기\"  \"미디어\"  \"바로가기\"  \"실시간\"  \"이슈\"  \"바로가기\"  \"현재\"  \"지역\"  \"날씨\"  \"바로가기\"  \"재밌는\"  \"정보\"  \"바로가기\"  \"유익한\"  \"정보\"  \"바로가기\"  \"쇼핑\"  \"바로가기\"  \"웹\"  \"접근성\"  \"안내\"  \"자동실행\"  \"광고\"  \"설정\"  \"검색\"  \"통합\"  \"검색\"  \"검색\"  \"인기\"  \"검색어\"  \"검사\"  \"평가제\"  \"발롱도르\"  \"후보\"  \"박보영\"  \"1인1닭\"  \"자판기\"  \"탄산음료\"  \"주요\"  \"서비스\"  \"다음앱\"  \"카페\"  \"메일\"  \"블로그\"  \"쇼핑\"  \"지도\"  \"사전\"  \"팁\"  \"뉴스\"  \"증권\"  \"부동산\"  \"영화\"  \"아고라\"  \"tv팟\"  \"웹툰\"  \"열정樂서\"  \"추천\"  \"서비스\"  \"게임\"  \"희망해\"  \"서비스\"  \"목록\"  \"더보기\"  \"전체\"  \"서비스\"  \"ㄱㄹ\"  \"게임\"  \"금융\"  \"라이프\"  \"로드뷰\"  \"루리웹\"  \"ㅁㅂ\"  \"마일리지\"  \"만화속세상\"  \"미즈넷\"  \"백과사전\"  \"브런치\"  \"블로그\"  \"ㅅㅇ\"  \"스포츠\"  \"아고라\"  \"어학사전\"  \"연예\"  \"영화\"  \"ㅈㅊ\"  \"자동차\"  \"지도\"  \"EBS지식\"  \"책\"  \"ㅋㅎ\"  \"카페\"  \"클라우드\"  \"tv팟\"  \"티스토리\"  \"팁\"  \"희망해\"  \"신규앱\"  \"모바일\"  \"다음앱\"  \"다음앱\"  \"tv팟\"  \"지도\"  \"카페\"  \"사전\"  \"서비스\"  \"전체보기\"  \"닫기\"  \"로그인\"  \"정보\"  \"로그인\"  \"및\"  \"관련\"  \"설정\"  \"아이디\"  \"or\"  \"이메일\"  \"비밀번호\"  \"로그인\"  \"유지\"  \"개인정보\"  \"보호를\"  \"위해\"  \"개인\"  \"PC에서만\"  \"사용해\"  \"주세요\"  \"도움말보기\"  \"닫기\"  \"IP보안\"  \"IP보안\"  \"설정\"  \"로그인\"  \"회원가입\"  \"아이디\"  \"찾기\"  \"비밀번호\"  \"찾기\"  \"폰번호\"  \"로그인\"  \"미디어\"  \"속보\"  \"PO\"  \"3\"  \"NC\"  \"vs\"  \"두산\"  \"뉴스\"  \"초미세먼지\"  \"뒤덮힌\"  \"강남\"  \"포토\"  \"민간어린이집\"  \"2630일\"  \"휴원\"  \"예고보육대란\"  \"오나\"  \"quot너무\"  \"반갑지만\"  \"또\"  \"헤어지잖아quot\"  \"눈물\"  \"훔치며\"  \"밥\"  \"한\"  \"술\"  \"입학\"  \"연령\"  \"앞당기면\"  \"저출산\"  \"해결될까\"  \"39폭력middot살인범죄39\"  \"발생\"  \"최다\"  \"원인은\"  \"우발적\"  \"동기\"  \"미\"  \"시리아\"  \"내\"  \"IS\"  \"표적\"  \"타격\"  \"위해\"  \"A10기\"  \"터키\"  \"배치\"  \"조여정\"  \"도트패턴\"  \"스타킹\"  \"포토\"  \"영국\"  \"정보기관\"  \"스마트폰middot컴퓨터\"  \"해킹권한\"  \"부여\"  \"추진\"  \"10대라\"  \"제대로\"  \"처벌하지\"  \"않으니\"  \"경찰서\"  \"난동\"  \"불렀나\"  \"한미일\"  \"22sim23일\"  \"안보현안\"  \"실무회의\"  \"개최\"  \"quot조희팔\"  \"조카\"  \"중국\"  \"갈\"  \"때마다\"  \"강태용에게\"  \"3천만원\"  \"받아quot\"  \"현대기아차\"  \"미\"  \"컨슈머리포트\"  \"첫\"  \"동반\"  \"10위권\"  \"진입\"  \"포토\"  \"영상\"  \"뉴스펀딩\"  \"39파파39\"  \"헤밍웨이의\"  \"불안을\"  \"가린\"  \"가면\"  \"말할\"  \"수\"  \"없는\"  \"고통\"  \"전립선염\"  \"39노오력39해도\"  \"닿지\"  \"않는\"  \"39중간계급39\"  \"뉴스홈\"  \"스포츠\"  \"내용을\"  \"가져오기\"  \"전\"  \"입니다\"  \"바로\"  \"확인하시려면\"  \"제목\"  \"링크를\"  \"눌러주세요\"  \"연예\"  \"내용을\"  \"가져오기\"  \"전\"  \"입니다\"  \"바로\"  \"확인하시려면\"  \"제목\"  \"링크를\"  \"눌러주세요\"  \"라이프\"  \"내용을\"  \"가져오기\"  \"전\"  \"입니다\"  \"바로\"  \"확인하시려면\"  \"제목\"  \"링크를\"  \"눌러주세요\"  \"TV\"  \"내용을\"  \"가져오기\"  \"전\"  \"입니다\"  \"바로\"  \"확인하시려면\"  \"제목\"  \"링크를\"  \"눌러주세요\"  \"현재\"  \"페이지\"  \"1\"  \"총\"  \"페이지\"  \"8\"  \"이전\"  \"탭\"  \"다음\"  \"탭\"  \"실시간\"  \"이슈\"  \"1위\"  \"고현정\"  \"상승\"  \"118\"  \"1위\"  \"고현정\"  \"상승\"  \"118\"  \"2위\"  \"소연\"  \"상승\"  \"112\"  \"2위\"  \"소연\"  \"상승\"  \"112\"  \"3위\"  \"손민한\"  \"신규진입\"  \"3위\"  \"손민한\"  \"신규진입\"  \"4위\"  \"송민호\"  \"상승\"  \"79\"  \"4위\"  \"송민호\"  \"상승\"  \"79\"  \"5위\"  \"조성진\"  \"상승\"  \"78\"  \"5위\"  \"조성진\"  \"상승\"  \"78\"  \"6위\"  \"지현우\"  \"상승\"  \"77\"  \"6위\"  \"지현우\"  \"상승\"  \"77\"  \"7위\"  \"미세먼지\"  \"상승\"  \"56\"  \"7위\"  \"미세먼지\"  \"상승\"  \"56\"  \"8위\"  \"밀레\"  \"신규진입\"  \"8위\"  \"밀레\"  \"신규진입\"  \"9위\"  \"프로야구중계\"  \"상승\"  \"27\"  \"9위\"  \"프로야구중계\"  \"상승\"  \"27\"  \"10위\"  \"유희관\"  \"상승\"  \"34\"  \"10위\"  \"유희관\"  \"상승\"  \"34\"  \"오늘의\"  \"정보\"  \"대구\"  \"230℃\"  \"울릉도\"  \"182℃\"  \"대전\"  \"201℃\"  \"전주\"  \"204℃\"  \"부산\"  \"201℃\"  \"광주\"  \"218℃\"  \"여수\"  \"212℃\"  \"수원\"  \"195℃\"  \"울산\"  \"204℃\"  \"제주\"  \"203℃\"  \"서울\"  \"200℃\"  \"강릉\"  \"160℃\"  \"백령도\"  \"151℃\"  \"청주\"  \"207℃\"  \"춘천\"  \"204℃\"  \"현재\"  \"지역\"  \"날씨\"  \"현위치\"  \"천안시\"  \"동남구\"  \"188도\"  \"연무\"  \"증권\"  \"영국\"  \"636365\"  \"전일대비\"  \"상승\"  \"1852\"  \"독일\"  \"1018572\"  \"전일대비\"  \"상승\"  \"3804\"  \"오늘의\"  \"정보\"  \"펼치기\"  \"스포츠\"  \"중계센터\"  \"KBO리그\"  \"NC\"  \"대\"  \"두산\"  \"점수\"  \"1\"  \"대\"  \"0\"  \"경기시간\"  \"1830\"  \"영상중계\"  \"오늘\"  \"날짜\"  \"1021\"  \"오늘의\"  \"정보\"  \"관련\"  \"링크모음\"  \"날씨\"  \"증권\"  \"환율\"  \"TV\"  \"운세\"  \"재밌는\"  \"정보\"  \"FUN\"  \"내용을\"  \"가져오기\"  \"전\"  \"입니다\"  \"바로\"  \"확인하시려면\"  \"제목\"  \"링크를\"  \"눌러주세요\"  \"동영상\"  \"Violet\"  \"히팅\"  \"마스카라\"  \"고데기\"  \"만드는\"  \"방법\"  \"동영상\"  \"Sua\"  \"수아의\"  \"여자패션\"  \"데일리룩\"  \"스타일링\"  \"동영상\"  \"텔론\"  \"흠잡을\"  \"곳\"  \"없는\"  \"깔끔한\"  \"스킬샷\"  \"동영상\"  \"요리의시니\"  \"특별한\"  \"날\"  \"딱\"  \"좋은\"  \"딸기\"  \"티라미수\"  \"동영상\"  \"이브미니어쳐\"  \"너무\"  \"귀여워서\"  \"어떻게\"  \"먹어\"  \"동영상\"  \"김낙타\"  \"만드는\"  \"방법도\"  \"쉬운\"  \"베이비슈\"  \"레시피\"  \"동영상\"  \"tv팟홈\"  \"공감\"  \"내용을\"  \"가져오기\"  \"전\"  \"입니다\"  \"바로\"  \"확인하시려면\"  \"제목\"  \"링크를\"  \"눌러주세요\"  \"부동산\"  \"내용을\"  \"가져오기\"  \"전\"  \"입니다\"  \"바로\"  \"확인하시려면\"  \"제목\"  \"링크를\"  \"눌러주세요\"  \"미즈넷\"  \"내용을\"  \"가져오기\"  \"전\"  \"입니다\"  \"바로\"  \"확인하시려면\"  \"제목\"  \"링크를\"  \"눌러주세요\"  \"현재\"  \"페이지\"  \"4\"  \"총\"  \"페이지\"  \"7\"  \"이전\"  \"탭\"  \"다음\"  \"탭\"  \"다음\"  \"스페셜\"  \"서피스\"  \"판매량보다\"  \"눈길\"  \"가는\"  \"흐름\"  \"반찬\"  \"필요\"  \"없는\"  \"구수한\"  \"버섯들깨탕\"  \"현재\"  \"페이지\"  \"2\"  \"총\"  \"페이지\"  \"4\"  \"이전\"  \"스페셜\"  \"다음\"  \"스페셜\"  \"유익한\"  \"정보\"  \"블로그\"  \"내용을\"  \"가져오기\"  \"전\"  \"입니다\"  \"바로\"  \"확인하시려면\"  \"제목\"  \"링크를\"  \"눌러주세요\"  \"카페\"  \"내용을\"  \"가져오기\"  \"전\"  \"입니다\"  \"바로\"  \"확인하시려면\"  \"제목\"  \"링크를\"  \"눌러주세요\"  \"팁\"  \"내용을\"  \"가져오기\"  \"전\"  \"입니다\"  \"바로\"  \"확인하시려면\"  \"제목\"  \"링크를\"  \"눌러주세요\"  \"지식공간\"  \"내용을\"  \"가져오기\"  \"전\"  \"입니다\"  \"바로\"  \"확인하시려면\"  \"제목\"  \"링크를\"  \"눌러주세요\"  \"영화\"  \"내용을\"  \"가져오기\"  \"전\"  \"입니다\"  \"바로\"  \"확인하시려면\"  \"제목\"  \"링크를\"  \"눌러주세요\"  \"웹툰\"  \"내용을\"  \"가져오기\"  \"전\"  \"입니다\"  \"바로\"  \"확인하시려면\"  \"제목\"  \"링크를\"  \"눌러주세요\"  \"스토리볼\"  \"내용을\"  \"가져오기\"  \"전\"  \"입니다\"  \"바로\"  \"확인하시려면\"  \"제목\"  \"링크를\"  \"눌러주세요\"  \"브런치\"  \"단순화를\"  \"통한\"  \"픽토그램\"  \"디자인\"  \"리뷰\"  \"순수예술은\"  \"본질적으로\"  \"목적\"  \"즉\"  \"자신이\"  \"예술에서\"  \"얻고자···\"  \"Meanimize\"  \"고2\"  \"공부\"  \"시작\"  \"배짱으로\"  \"전국\"  \"1\"  \"공부\"  \"역전\"  \"매력적인\"  \"단어지만\"  \"역전의\"  \"용사를\"  \"만나기는\"  \"쉽지\"  \"않다\"  \"수능시험\"  \"···\"  \"스토리라이터\"  \"이병률\"  \"시인\"  \"사랑의\"  \"냄새\"  \"이병률\"  \"금융기관을\"  \"위한\"  \"블록체인\"  \"백종찬\"  \"타인의\"  \"동정심에\"  \"자꾸\"  \"기댑니다\"  \"에디터C\"  \"최혜진입니다\"  \"첫\"  \"번째\"  \"창업팀을\"  \"그만두며\"  \"배운\"  \"것\"  \"지금\"  \"속해\"  \"있는\"  \"스타트업\"  \"텐시티\"  \"팀에\"  \"합류하기\"  \"전에\"  \"나는\"  \"다른\"  \"스타트업\"  \"창업팀에···\"  \"송준협\"  \"브런치\"  \"매거진\"  \"착한공부\"  \"연민\"  \"잠든\"  \"아버지를\"  \"보면\"  \"생각나는\"  \"어린\"  \"시절의\"  \"버릇\"  \"나는\"  \"외동\"  \"혼자\"  \"자라난다는\"  \"건\"  \"하루하루\"  \"조금씩\"  \"커져가는\"  \"방\"  \"속에\"  \"혼자\"  \"서있는\"  \"기···\"  \"박가람\"  \"브런치홈\"  \"게임\"  \"내용을\"  \"가져오기\"  \"전\"  \"입니다\"  \"바로\"  \"확인하시려면\"  \"제목\"  \"링크를\"  \"눌러주세요\"  \"책\"  \"내용을\"  \"가져오기\"  \"전\"  \"입니다\"  \"바로\"  \"확인하시려면\"  \"제목\"  \"링크를\"  \"눌러주세요\"  \"희망해\"  \"내용을\"  \"가져오기\"  \"전\"  \"입니다\"  \"바로\"  \"확인하시려면\"  \"제목\"  \"링크를\"  \"눌러주세요\"  \"현재\"  \"페이지\"  \"8\"  \"총\"  \"페이지\"  \"11\"  \"이전\"  \"탭\"  \"다음\"  \"탭\"  \"쇼핑\"  \"쇼핑홈\"  \"쇼핑몰\"  \"옥션\"  \"G마켓\"  \"GS샵\"  \"11번가\"  \"CJ몰\"  \"위메프\"  \"롯데i몰\"  \"이마트몰\"  \"하프클럽\"  \"신세계몰\"  \"롯데닷컴\"  \"현대H몰\"  \"패션플러스\"  \"쇼핑기획전\"  \"상품\"  \"토리버치\"  \"라인부터달라\"  \"전상품1\"  \"0darr\"  \"주\"  \"문\"  \"폭\"  \"주\"  \"이런\"  \"세트면\"  \"초겨울까지\"  \"진\"  \"짜\"  \"1\"  \"위\"  \"착\"  \"한\"  \"가\"  \"격\"  \"망설이지말고\"  \"무\"  \"료\"  \"배\"  \"송\"  \"작년엔비쌌죠\"  \"가격한번봐요\"  \"예뻐지고싶니\"  \"금단비가65\"  \"가볍지만포근\"  \"전국주문폭주\"  \"재료넣고당겨\"  \"스시롤이뚝딱\"  \"미시옷Best\"  \"간절기가디건\"  \"네파\"  \"초특가\"  \"2만원대80darr\"  \"예쁘다\"  \"정말\"  \"44부터88까지\"  \"소호\"  \"내용을\"  \"가져오기\"  \"전\"  \"입니다\"  \"바로\"  \"확인하시려면\"  \"제목\"  \"링크를\"  \"눌러주세요\"  \"캔마트\"  \"내용을\"  \"가져오기\"  \"전\"  \"입니다\"  \"바로\"  \"확인하시려면\"  \"제목\"  \"링크를\"  \"눌러주세요\"  \"위메프\"  \"내용을\"  \"가져오기\"  \"전\"  \"입니다\"  \"바로\"  \"확인하시려면\"  \"제목\"  \"링크를\"  \"눌러주세요\"  \"롯데닷컴\"  \"내용을\"  \"가져오기\"  \"전\"  \"입니다\"  \"바로\"  \"확인하시려면\"  \"제목\"  \"링크를\"  \"눌러주세요\"  \"나의\"  \"쇼핑도움\"  \"링크모음\"  \"최근\"  \"클릭상품\"  \"베스트100\"  \"현재\"  \"페이지\"  \"1\"  \"총\"  \"페이지\"  \"13\"  \"이전\"  \"탭\"  \"다음\"  \"탭\"  \"오늘만\"  \"특가\"  \"현재\"  \"페이지\"  \"3\"  \"총\"  \"페이지\"  \"10\"  \"이전\"  \"상품\"  \"다음\"  \"상품\"  \"인기기획전\"  \"모으는\"  \"재미에\"  \"푹\"  \"깜찍한\"  \"피규어\"  \"1위\"  \"뚜찌빠찌\"  \"미니언즈\"  \"인형\"  \"50390\"  \"원\"  \"옥션\"  \"2위\"  \"유니크\"  \"디자인\"  \"베어브릭\"  \"101780\"  \"원\"  \"11번가\"  \"3위\"  \"사랑스러운\"  \"키티에\"  \"홀릭\"  \"39640\"  \"원\"  \"G마켓\"  \"기획전홈\"  \"기획전홈\"  \"현재\"  \"페이지\"  \"4\"  \"총\"  \"페이지\"  \"7\"  \"이전\"  \"탭\"  \"다음\"  \"탭\"  \"쇼핑\"  \"추천\"  \"링크모음\"  \"따뜻한\"  \"레깅스\"  \"패션\"  \"내또래\"  \"소호\"  \"BEST\"  \"서비스\"  \"전체보기\"  \"공지사항\"  \"Daum\"  \"마일리지\"  \"종료\"  \"사전\"  \"안내\"  \"다음\"  \"소개\"  \"및\"  \"약관\"  \"회사소개\"  \"광고안내\"  \"검색등록\"  \"제휴문의\"  \"인재채용\"  \"서비스약관\"  \"청소년보호정책\"  \"개인정보취급방침\"  \"웹접근성안내\"  \"고객센터\"  \"copy\"  \"Kakao\"  \"Corp\"  \n",
      "\n",
      "\n",
      "\n",
      "\n",
      "\n",
      "<각 단어별 출현빈도>\n",
      "{'\\xec\\x98\\xa4\\xeb\\x8a\\x98\\xeb\\xa7\\x8c': 1, '\\xec\\xa0\\x84\\xeb\\xa6\\xbd\\xec\\x84\\xa0\\xec\\x97\\xbc': 1, 'KBO\\xeb\\xa6\\xac\\xea\\xb7\\xb8': 1, '\\xec\\x82\\xac\\xeb\\x9e\\x91\\xec\\x9d\\x98': 1, '\\xec\\x9c\\xa0\\xec\\xa7\\x80': 1, '\\xeb\\xb3\\xb8\\xec\\xa7\\x88\\xec\\xa0\\x81\\xec\\x9c\\xbc\\xeb\\xa1\\x9c': 1, '\\xec\\x8a\\xa4\\xed\\x83\\x80\\xec\\x9d\\xbc\\xeb\\xa7\\x81': 1, '\\xeb\\xa7\\x9d\\xec\\x84\\xa4\\xec\\x9d\\xb4\\xec\\xa7\\x80\\xeb\\xa7\\x90\\xea\\xb3\\xa0': 1, '\\xea\\xb8\\x88\\xec\\x9c\\xb5\\xea\\xb8\\xb0\\xea\\xb4\\x80\\xec\\x9d\\x84': 1, '\\xed\\x97\\xa4\\xeb\\xb0\\x8d\\xec\\x9b\\xa8\\xec\\x9d\\xb4\\xec\\x9d\\x98': 1, '\\xec\\xbb\\xa4\\xec\\xa0\\xb8\\xea\\xb0\\x80\\xeb\\x8a\\x94': 1, '\\xec\\xb5\\x9c\\xeb\\x8b\\xa4': 1, '\\xec\\x8a\\xa4\\xed\\x82\\xac\\xec\\x83\\xb7': 1, '0': 1, '\\xec\\x9e\\x87\\xeb\\x8b\\xa4': 1, '\\xec\\xa0\\x9c\\xeb\\x8c\\x80\\xeb\\xa1\\x9c': 1, '\\xed\\x94\\x84\\xeb\\xa1\\x9c\\xec\\x95\\xbc\\xea\\xb5\\xac\\xec\\xa4\\x91\\xea\\xb3\\x84': 2, '\\xea\\xb4\\x80\\xeb\\xa0\\xa8': 2, '\\xec\\xa1\\xb0\\xea\\xb8\\x88\\xec\\x94\\xa9': 1, '\\xed\\x83\\x80\\xec\\x9d\\xb8\\xec\\x9d\\x98': 1, '\\xeb\\xa8\\xb9\\xec\\x96\\xb4': 1, '\\xea\\xb0\\x95\\xed\\x83\\x9c\\xec\\x9a\\xa9\\xec\\x97\\x90\\xea\\xb2\\x8c': 1, '2630\\xec\\x9d\\xbc': 1, '\\xed\\x9b\\x84\\xeb\\xb3\\xb4': 1, '\\xea\\xb3\\xb3': 1, '\\xea\\xb3\\xa0\\xea\\xb0\\x9d\\xec\\x84\\xbc\\xed\\x84\\xb0': 1, '\\xeb\\xb2\\xa0\\xec\\x96\\xb4\\xeb\\xb8\\x8c\\xeb\\xa6\\xad': 1, '\\xea\\xb5\\xac\\xec\\x88\\x98\\xed\\x95\\x9c': 1, '\\xec\\x99\\xb8\\xeb\\x8f\\x99': 1, '\\xec\\x87\\xbc\\xed\\x95\\x91\\xea\\xb8\\xb0\\xed\\x9a\\x8d\\xec\\xa0\\x84': 1, '\\xec\\xa7\\x84': 1, '\\xec\\x9e\\x91\\xeb\\x85\\x84\\xec\\x97\\x94\\xeb\\xb9\\x84\\xec\\x8c\\x8c\\xec\\xa3\\xa0': 1, '\\xec\\x98\\x81\\xea\\xb5\\xad': 2, '\\xec\\xa7\\x9c': 1, '\\xec\\x9e\\xac\\xeb\\xaf\\xb8\\xec\\x97\\x90': 1, '\\xeb\\xb2\\xa0\\xec\\x8a\\xa4\\xed\\x8a\\xb8100': 1, 'Kakao': 1, '\\xec\\xa1\\xb0\\xec\\xb9\\xb4': 1, '\\xec\\x97\\xac\\xec\\x88\\x98': 1, '\\xec\\x9c\\x84': 1, 'CJ\\xeb\\xaa\\xb0': 1, '\\xec\\x9e\\x90\\xeb\\x8f\\x99\\xec\\xb0\\xa8': 1, '\\xeb\\xb6\\x80\\xec\\x82\\xb0': 1, '\\xeb\\x98\\x90': 1, '\\xed\\x9c\\xb4\\xec\\x9b\\x90': 1, '\\xea\\xb3\\xa02': 1, '\\xec\\x97\\xb0\\xeb\\xa0\\xb9': 1, '\\xea\\xb8\\xb0\\xeb\\x8c\\x91\\xeb\\x8b\\x88\\xeb\\x8b\\xa4': 1, '\\xec\\x86\\x8c\\xea\\xb0\\x9c': 1, '\\xed\\x95\\x98\\xed\\x94\\x84\\xed\\x81\\xb4\\xeb\\x9f\\xbd': 1, '3\\xec\\xb2\\x9c\\xeb\\xa7\\x8c\\xec\\x9b\\x90': 1, '\\xeb\\xb6\\x80\\xeb\\x8f\\x99\\xec\\x82\\xb0': 2, '\\xeb\\x8b\\xab\\xea\\xb8\\xb0': 2, '\\xec\\x8a\\xa4\\xec\\x8b\\x9c\\xeb\\xa1\\xa4\\xec\\x9d\\xb4\\xeb\\x9a\\x9d\\xeb\\x94\\xb1': 1, '\\xeb\\xa7\\x8c\\xeb\\x93\\x9c\\xeb\\x8a\\x94': 2, '\\xec\\x9d\\xb8\\xed\\x98\\x95': 1, '\\xec\\xa3\\xbc\\xec\\x9a\\x94': 2, '203\\xe2\\x84\\x83': 1, '\\xeb\\xb8\\x8c\\xeb\\x9f\\xb0\\xec\\xb9\\x98\\xed\\x99\\x88': 1, '\\xed\\x8c\\x80\\xec\\x97\\x90': 1, '\\xeb\\x83\\x84\\xec\\x83\\x88': 1, '\\xea\\xb9\\x94\\xeb\\x81\\x94\\xed\\x95\\x9c': 1, 'Daum': 2, '\\xec\\xb6\\x94\\xec\\xb2\\x9c': 2, '3804': 1, '\\xea\\xb0\\x80\\xeb\\x8a\\x94': 1, '\\xeb\\xaa\\xa9\\xec\\xa0\\x81': 1, '\\xeb\\x8b\\xa4\\xec\\x9d\\x8c\\xec\\x95\\xb1': 3, '\\xec\\xb1\\x85': 2, '195\\xe2\\x84\\x83': 1, '\\xea\\xb2\\xbd\\xec\\xb0\\xb0\\xec\\x84\\x9c': 1, '\\xeb\\x89\\xb4\\xec\\x8a\\xa4': 2, '\\xea\\xb4\\x91\\xea\\xb3\\xa0\\xec\\x95\\x88\\xeb\\x82\\xb4': 1, '\\xec\\xb0\\xa9\\xed\\x95\\x9c\\xea\\xb3\\xb5\\xeb\\xb6\\x80': 1, '\\xec\\x97\\xb0\\xec\\x98\\x88': 2, '\\xea\\xb8\\xb0\\xc2\\xb7\\xc2\\xb7\\xc2\\xb7': 1, '\\xea\\xb7\\xb8\\xeb\\xa7\\x8c\\xeb\\x91\\x90\\xeb\\xa9\\xb0': 1, '\\xeb\\xa1\\x9c\\xea\\xb7\\xb8\\xec\\x9d\\xb8': 5, '\\xeb\\x9d\\xbc\\xec\\x9d\\xb4\\xed\\x94\\x84': 2, '\\xec\\xa3\\xbc': 2, '\\xec\\x9e\\x85\\xeb\\x8b\\x88\\xeb\\x8b\\xa4': 22, '\\xea\\xb0\\x9c\\xec\\x9d\\xb8\\xec\\xa0\\x95\\xeb\\xb3\\xb4': 1, '\\xeb\\x95\\x8c\\xeb\\xa7\\x88\\xeb\\x8b\\xa4': 1, '\\xec\\x97\\xb4\\xec\\xa0\\x95\\xe6\\xa8\\x82\\xec\\x84\\x9c': 1, '\\xeb\\xaa\\xa9\\xeb\\xa1\\x9d': 1, '\\xea\\xb7\\x80\\xec\\x97\\xac\\xec\\x9b\\x8c\\xec\\x84\\x9c': 1, '\\xec\\x95\\x84\\xeb\\xb2\\x84\\xec\\xa7\\x80\\xeb\\xa5\\xbc': 1, '212\\xe2\\x84\\x83': 1, '\\xeb\\xaf\\xb8\\xeb\\x8b\\x88\\xec\\x96\\xb8\\xec\\xa6\\x88': 1, '8\\xec\\x9c\\x84': 2, '\\xec\\xb4\\x88\\xea\\xb2\\xa8\\xec\\x9a\\xb8\\xea\\xb9\\x8c\\xec\\xa7\\x80': 1, '\\xec\\xa0\\x9c\\xed\\x9c\\xb4\\xeb\\xac\\xb8\\xec\\x9d\\x98': 1, '\\xeb\\x82\\x98\\xeb\\x8a\\x94': 2, '\\xeb\\xb0\\xb0\\xec\\xb9\\x98': 1, '\\xed\\x8f\\xb0\\xeb\\xb2\\x88\\xed\\x98\\xb8': 1, '\\xed\\x98\\x84\\xeb\\x8c\\x80\\xea\\xb8\\xb0\\xec\\x95\\x84\\xec\\xb0\\xa8': 1, '\\xea\\xb2\\x80\\xec\\x83\\x89\\xeb\\x93\\xb1\\xeb\\xa1\\x9d': 1, '\\xe3\\x85\\x8b\\xe3\\x85\\x8e': 1, '39\\xec\\xa4\\x91\\xea\\xb0\\x84\\xea\\xb3\\x84\\xea\\xb8\\x8939': 1, '39\\xed\\x8f\\xad\\xeb\\xa0\\xa5middot\\xec\\x82\\xb4\\xec\\x9d\\xb8\\xeb\\xb2\\x94\\xec\\xa3\\x8439': 1, '\\xec\\x9e\\xac\\xeb\\xb0\\x8c\\xeb\\x8a\\x94': 2, '7\\xec\\x9c\\x84': 2, '\\xed\\x8e\\x98\\xec\\x9d\\xb4\\xec\\xa7\\x80': 14, '\\xec\\x82\\xac\\xeb\\x9e\\x91\\xec\\x8a\\xa4\\xeb\\x9f\\xac\\xec\\x9a\\xb4': 1, '1': 5, 'Meanimize': 1, '\\xec\\xb9\\xb4\\xed\\x8e\\x98': 4, '204\\xe2\\x84\\x83': 3, '\\xec\\xa0\\x9c\\xeb\\xaa\\xa9': 22, '\\xec\\xa6\\x9d\\xea\\xb6\\x8c': 3, '\\xec\\x95\\x84\\xec\\x9d\\xb4\\xeb\\x94\\x94': 2, '\\xed\\x91\\x9c\\xec\\xa0\\x81': 1, '\\xeb\\xb0\\xb1\\xec\\xa2\\x85\\xec\\xb0\\xac': 1, '\\xec\\x83\\x9d\\xea\\xb0\\x81\\xeb\\x82\\x98\\xeb\\x8a\\x94': 1, '\\xec\\x98\\xa4\\xeb\\x82\\x98': 1, '\\xec\\xb0\\xbd\\xec\\x97\\x85\\xed\\x8c\\x80\\xec\\x97\\x90\\xc2\\xb7\\xc2\\xb7\\xc2\\xb7': 1, '\\xeb\\xb0\\xb1\\xeb\\xa0\\xb9\\xeb\\x8f\\x84': 1, '\\xed\\x81\\xb4\\xeb\\xa6\\xad\\xec\\x83\\x81\\xed\\x92\\x88': 1, '\\xec\\x9d\\xb8\\xea\\xb8\\xb0\\xea\\xb8\\xb0\\xed\\x9a\\x8d\\xec\\xa0\\x84': 1, 'tv\\xed\\x8c\\x9f\\xed\\x99\\x88': 1, '\\xc2\\xb7\\xc2\\xb7\\xc2\\xb7': 1, '\\xec\\x9a\\xb0\\xeb\\xb0\\x9c\\xec\\xa0\\x81': 1, '39\\xeb\\x85\\xb8\\xec\\x98\\xa4\\xeb\\xa0\\xa539\\xed\\x95\\xb4\\xeb\\x8f\\x84': 1, '\\xeb\\x8f\\x84\\xec\\x9b\\x80\\xeb\\xa7\\x90\\xeb\\xb3\\xb4\\xea\\xb8\\xb0': 1, '\\xec\\xa0\\x95\\xeb\\xb3\\xb4': 8, '230\\xe2\\x84\\x83': 1, 'or': 1, '\\xec\\x97\\xad\\xec\\xa0\\x84': 1, '\\xec\\x8a\\xa4\\xed\\x8e\\x98\\xec\\x85\\x9c': 3, '\\xeb\\x94\\xb0\\xeb\\x9c\\xbb\\xed\\x95\\x9c': 1, '\\xeb\\xb6\\x88\\xeb\\xa0\\x80\\xeb\\x82\\x98': 1, '\\xed\\x98\\x84\\xec\\x9c\\x84\\xec\\xb9\\x98': 1, '\\xec\\x8b\\xa4\\xec\\x8b\\x9c\\xea\\xb0\\x84': 2, '\\xeb\\x8d\\xb0\\xec\\x9d\\xbc\\xeb\\xa6\\xac\\xeb\\xa3\\xa9': 1, '\\xea\\xb3\\xb5\\xec\\xa7\\x80\\xec\\x82\\xac\\xed\\x95\\xad': 1, '\\xea\\xb0\\x9c\\xec\\x9d\\xb8': 1, '\\xec\\x9a\\xb4\\xec\\x84\\xb8': 1, '1830': 1, '27': 2, '\\xec\\x9d\\xb4\\xeb\\xb8\\x8c\\xeb\\xaf\\xb8\\xeb\\x8b\\x88\\xec\\x96\\xb4\\xec\\xb3\\x90': 1, '\\xea\\xb2\\x80\\xec\\x82\\xac': 1, '\\xeb\\xb0\\xa9\\xeb\\xb2\\x95\\xeb\\x8f\\x84': 1, '\\xec\\x87\\xbc\\xed\\x95\\x91\\xeb\\xaa\\xb0': 1, '\\xeb\\x82\\x98\\xec\\x9d\\x98': 1, 'ndash': 1, '\\xeb\\xa1\\x9c\\xeb\\x93\\x9c\\xeb\\xb7\\xb0': 1, '\\xeb\\xaf\\xb8\\xec\\x8b\\x9c\\xec\\x98\\xb7Best': 1, '\\xeb\\x91\\x90\\xec\\x82\\xb0': 2, '\\xed\\x86\\xb5\\xed\\x95\\xa9': 1, '\\xeb\\xb8\\x94\\xeb\\xa1\\x9d\\xec\\xb2\\xb4\\xec\\x9d\\xb8': 1, '\\xec\\xa1\\xb0\\xec\\x97\\xac\\xec\\xa0\\x95': 1, '\\xec\\x98\\xa4\\xeb\\x8a\\x98\\xec\\x9d\\x98': 3, '6\\xec\\x9c\\x84': 2, '39\\xed\\x8c\\x8c\\xed\\x8c\\x8c39': 1, '\\xe3\\x84\\xb1\\xe3\\x84\\xb9': 1, '\\xeb\\xa3\\xa8\\xeb\\xa6\\xac\\xec\\x9b\\xb9': 1, '\\xec\\x95\\x8a\\xec\\x9c\\xbc\\xeb\\x8b\\x88': 1, '\\xeb\\xa7\\x81\\xed\\x81\\xac\\xeb\\xa5\\xbc': 22, '\\xec\\x97\\x90\\xeb\\x94\\x94\\xed\\x84\\xb0C': 1, '\\xeb\\x8f\\x85\\xec\\x9d\\xbc': 1, '1\\xec\\x9d\\xb81\\xeb\\x8b\\xad': 1, '\\xeb\\x8f\\x99\\xec\\xa0\\x95\\xec\\x8b\\xac\\xec\\x97\\x90': 1, '\\xea\\xb8\\x88\\xeb\\x8b\\xa8\\xeb\\xb9\\x84\\xea\\xb0\\x8065': 1, 'FUN': 1, 'G\\xeb\\xa7\\x88\\xec\\xbc\\x93': 2, '\\xeb\\xb0\\x9c\\xec\\x83\\x9d': 1, '\\xec\\xa0\\x90\\xec\\x88\\x98': 1, '10\\xec\\x9c\\x84\\xea\\xb6\\x8c': 1, '\\xeb\\xb9\\x84\\xeb\\xb0\\x80\\xeb\\xb2\\x88\\xed\\x98\\xb8': 2, '\\xea\\xb3\\xa0\\xeb\\x8d\\xb0\\xea\\xb8\\xb0': 1, '22sim23\\xec\\x9d\\xbc': 1, '160\\xe2\\x84\\x83': 1, '\\xec\\xa4\\x91\\xea\\xb5\\xad': 1, '\\xed\\x9a\\x8c\\xec\\x9b\\x90\\xea\\xb0\\x80\\xec\\x9e\\x85': 1, '7': 2, '101780': 1, '\\xec\\x86\\x8c\\xec\\x97\\xb0': 2, '\\xeb\\x8b\\xa4\\xeb\\xa5\\xb8': 1, '\\xeb\\xaf\\xb8\\xec\\xa6\\x88\\xeb\\x84\\xb7': 2, '\\xeb\\xb0\\x98\\xea\\xb0\\x91\\xec\\xa7\\x80\\xeb\\xa7\\x8c': 1, '\\xec\\x8b\\xa0\\xea\\xb7\\x9c\\xec\\xa7\\x84\\xec\\x9e\\x85': 4, '\\xeb\\xb2\\x88\\xec\\xa7\\xb8': 1, '\\xed\\x84\\xb0\\xed\\x82\\xa4': 1, '\\xec\\x9d\\xb4\\xeb\\xa9\\x94\\xec\\x9d\\xbc': 1, '\\xec\\x87\\xbc\\xed\\x95\\x91': 4, '\\xeb\\x82\\xb4\\xeb\\x98\\x90\\xeb\\x9e\\x98': 1, '\\xea\\xb0\\x80\\xeb\\xb3\\x8d\\xec\\xa7\\x80\\xeb\\xa7\\x8c\\xed\\x8f\\xac\\xea\\xb7\\xbc': 1, '\\xeb\\x82\\xa0\\xec\\xa7\\x9c': 1, '\\xea\\xb0\\x80\\xeb\\xa6\\xb0': 1, '\\xec\\x8b\\x9c\\xec\\x9e\\x91': 1, '\\xec\\xa7\\x80\\xeb\\x8f\\x84': 3, '\\xec\\x89\\xac\\xec\\x9a\\xb4': 1, '\\xeb\\xaf\\xbc\\xea\\xb0\\x84\\xec\\x96\\xb4\\xeb\\xa6\\xb0\\xec\\x9d\\xb4\\xec\\xa7\\x91': 1, '\\xec\\x95\\x8a\\xeb\\x8a\\x94': 1, '\\xeb\\x82\\xb4\\xec\\x9a\\xa9\\xec\\x9d\\x84': 22, '\\xeb\\xb0\\x95\\xea\\xb0\\x80\\xeb\\x9e\\x8c': 1, '\\xed\\x97\\xa4\\xec\\x96\\xb4\\xec\\xa7\\x80\\xec\\x9e\\x96\\xec\\x95\\x84quot': 1, '\\xec\\xa7\\x84\\xec\\x9e\\x85': 1, '\\xec\\x8b\\x9c\\xec\\x9d\\xb8': 1, '\\xec\\xa7\\x80\\xea\\xb8\\x88': 1, '\\xea\\xb0\\x80\\xeb\\xa9\\xb4': 1, '2': 1, '\\xec\\x86\\x8d\\xeb\\xb3\\xb4': 1, '\\xed\\x9a\\x8c\\xec\\x82\\xac\\xec\\x86\\x8c\\xea\\xb0\\x9c': 1, '\\xec\\x98\\x88\\xeb\\xbb\\x90\\xec\\xa7\\x80\\xea\\xb3\\xa0\\xec\\x8b\\xb6\\xeb\\x8b\\x88': 1, '\\xec\\x9e\\x90\\xec\\x8b\\xa0\\xec\\x9d\\xb4': 1, '\\xec\\xa7\\x80\\xec\\x8b\\x9d\\xea\\xb3\\xb5\\xea\\xb0\\x84': 1, '\\xec\\x9c\\xa0\\xeb\\x8b\\x88\\xed\\x81\\xac': 1, '\\xec\\xb2\\xab': 2, '\\xeb\\xb3\\xb4\\xed\\x98\\xb8\\xeb\\xa5\\xbc': 1, '\\xed\\x95\\xa9\\xeb\\xa5\\x98\\xed\\x95\\x98\\xea\\xb8\\xb0': 1, '0darr': 1, '\\xec\\x9b\\xb9\\xed\\x88\\xb0': 2, 'copy': 1, '\\xeb\\x82\\xa0\\xec\\x94\\xa8': 3, '11': 1, '10': 1, '13': 1, '\\xea\\xb0\\x95\\xeb\\x82\\xa8': 1, '\\xec\\x86\\x8c\\xed\\x98\\xb8': 2, '\\xec\\x88\\x98\\xeb\\x8a\\xa5\\xec\\x8b\\x9c\\xed\\x97\\x98': 1, '\\xec\\xa0\\x95\\xeb\\xb3\\xb4\\xea\\xb8\\xb0\\xea\\xb4\\x80': 1, '\\xec\\xbb\\xa8\\xec\\x8a\\x88\\xeb\\xa8\\xb8\\xeb\\xa6\\xac\\xed\\x8f\\xac\\xed\\x8a\\xb8': 1, '\\xeb\\x94\\xb8\\xea\\xb8\\xb0': 1, '\\xec\\xa0\\x80\\xec\\xb6\\x9c\\xec\\x82\\xb0': 1, '\\xed\\x94\\xbd\\xed\\x86\\xa0\\xea\\xb7\\xb8\\xeb\\x9e\\xa8': 1, '\\xec\\x97\\xb0\\xeb\\xac\\xb4': 1, '\\xec\\x9c\\x84\\xed\\x95\\xb4': 2, '\\xec\\x9d\\xb8\\xea\\xb8\\xb0': 1, '\\xea\\xb4\\x91\\xec\\xa3\\xbc': 1, '\\xea\\xb0\\x88': 1, '\\xec\\x82\\xac\\xec\\xa0\\x84': 3, '\\xed\\x99\\x95\\xec\\x9d\\xb8\\xed\\x95\\x98\\xec\\x8b\\x9c\\xeb\\xa0\\xa4\\xeb\\xa9\\xb4': 22, '\\xed\\x9b\\x94\\xec\\xb9\\x98\\xeb\\xa9\\xb0': 1, '\\xea\\xb0\\x80': 1, '\\xec\\xa0\\x84': 22, '\\xeb\\x92\\xa4\\xeb\\x8d\\xae\\xed\\x9e\\x8c': 1, '\\xe3\\x85\\x85\\xe3\\x85\\x87': 1, '\\xeb\\xb6\\x80\\xec\\x97\\xac': 1, '\\xea\\xb8\\xb0\\xed\\x9a\\x8d\\xec\\xa0\\x84\\xed\\x99\\x88': 2, '\\xec\\x9e\\x90\\xea\\xbe\\xb8': 1, '\\xeb\\xaf\\xb8\\xec\\x84\\xb8\\xeb\\xa8\\xbc\\xec\\xa7\\x80': 2, '\\xeb\\xa7\\x81\\xed\\x81\\xac\\xeb\\xaa\\xa8\\xec\\x9d\\x8c': 3, '\\xea\\xb2\\xbd\\xea\\xb8\\xb0\\xec\\x8b\\x9c\\xea\\xb0\\x84': 1, '\\xec\\x9d\\xb8\\xec\\x9e\\xac\\xec\\xb1\\x84\\xec\\x9a\\xa9': 1, '\\xea\\xb3\\xb5\\xea\\xb0\\x90': 1, '\\xec\\xba\\x94\\xeb\\xa7\\x88\\xed\\x8a\\xb8': 1, '\\xec\\x86\\xa1\\xec\\xa4\\x80\\xed\\x98\\x91': 1, '\\xea\\xb0\\x80\\xea\\xb2\\xa9\\xed\\x95\\x9c\\xeb\\xb2\\x88\\xeb\\xb4\\x90\\xec\\x9a\\x94': 1, '77': 2, '79': 2, '78': 2, '\\xeb\\xa1\\xaf\\xeb\\x8d\\xb0i\\xeb\\xaa\\xb0': 1, '1\\xec\\x9c\\x84': 3, '4\\xec\\x9c\\x84': 2, '\\xeb\\xac\\xb8': 1, '\\xec\\xb2\\x9c\\xec\\x95\\x88\\xec\\x8b\\x9c': 1, '\\xeb\\x8f\\x99\\xeb\\xb0\\x98': 1, '\\xec\\x98\\xa4\\xeb\\x8a\\x98': 1, '\\xeb\\xb0\\x9c\\xeb\\xa1\\xb1\\xeb\\x8f\\x84\\xeb\\xa5\\xb4': 1, '\\xec\\xa0\\x84\\xec\\x83\\x81\\xed\\x92\\x881': 1, '\\xec\\x97\\xad\\xec\\xa0\\x84\\xec\\x9d\\x98': 1, '\\xeb\\x89\\xb4\\xec\\x8a\\xa4\\xed\\x99\\x88': 1, 'tv\\xed\\x8c\\x9f': 3, '\\xe3\\x85\\x81\\xe3\\x85\\x82': 1, '3\\xec\\x9c\\x84': 3, '\\xec\\xa0\\x84\\xea\\xb5\\xad': 1, '\\xed\\x95\\x98\\xeb\\xa3\\xa8\\xed\\x95\\x98\\xeb\\xa3\\xa8': 1, '\\xec\\xa7\\x80\\xec\\x97\\xad': 2, 'BEST': 1, '\\xed\\x86\\xa0\\xeb\\xa6\\xac\\xeb\\xb2\\x84\\xec\\xb9\\x98': 1, '\\xec\\xb0\\xbe\\xea\\xb8\\xb0': 2, '218\\xe2\\x84\\x83': 1, '\\xeb\\xb6\\x88\\xec\\x95\\x88\\xec\\x9d\\x84': 1, '\\xed\\x98\\x84\\xec\\x9e\\xac': 9, '3': 2, '\\xec\\x88\\x98\\xec\\x9b\\x90': 1, '\\xeb\\x84\\x88\\xeb\\xac\\xb4': 1, '\\xeb\\xaa\\xa8\\xeb\\xb0\\x94\\xec\\x9d\\xbc': 1, '\\xed\\x8b\\xb0\\xec\\x8a\\xa4\\xed\\x86\\xa0\\xeb\\xa6\\xac': 1, '8': 2, '\\xec\\xb2\\x98\\xeb\\xb2\\x8c\\xed\\x95\\x98\\xec\\xa7\\x80': 1, '\\xeb\\x8f\\x99\\xeb\\x82\\xa8\\xea\\xb5\\xac': 1, '\\xea\\xb2\\x80\\xec\\x83\\x89': 3, '\\xec\\x88\\xa0': 1, '\\xeb\\x9d\\xbc\\xec\\x9d\\xb8\\xeb\\xb6\\x80\\xed\\x84\\xb0\\xeb\\x8b\\xac\\xeb\\x9d\\xbc': 1, '\\xeb\\x94\\x94\\xec\\x9e\\x90\\xec\\x9d\\xb8': 2, '\\xeb\\xb3\\xb4\\xeb\\xa9\\xb4': 1, '\\xec\\xa0\\x84\\xec\\x9d\\xbc\\xeb\\x8c\\x80\\xeb\\xb9\\x84': 2, '\\xec\\xa2\\x8b\\xec\\x9d\\x80': 1, '\\xeb\\x8c\\x80': 2, '\\xed\\x9d\\xa0\\xec\\x9e\\xa1\\xec\\x9d\\x84': 1, '\\xec\\x84\\x9c\\xec\\x9a\\xb8': 1, '\\xec\\x98\\x81\\xec\\x83\\x81': 1, 'PO': 1, '\\xeb\\x88\\x8c\\xeb\\x9f\\xac\\xec\\xa3\\xbc\\xec\\x84\\xb8\\xec\\x9a\\x94': 22, '\\xed\\x95\\xb4\\xea\\xb2\\xb0\\xeb\\x90\\xa0\\xea\\xb9\\x8c': 1, '\\xeb\\x84\\xa4\\xed\\x8c\\x8c': 1, '\\xed\\x95\\x9c\\xeb\\xaf\\xb8\\xec\\x9d\\xbc': 1, '\\xec\\xb6\\x98\\xec\\xb2\\x9c': 1, '\\xeb\\xaa\\xa8\\xec\\x9c\\xbc\\xeb\\x8a\\x94': 1, '\\xec\\x88\\x98': 1, '\\xec\\x8b\\x9c\\xeb\\xa6\\xac\\xec\\x95\\x84': 1, '\\xed\\x99\\x98\\xec\\x9c\\xa8': 1, '\\xec\\xb5\\x9c\\xed\\x98\\x9c\\xec\\xa7\\x84\\xec\\x9e\\x85\\xeb\\x8b\\x88\\xeb\\x8b\\xa4': 1, '\\xed\\x8c\\x90\\xeb\\xa7\\xa4\\xeb\\x9f\\x89\\xeb\\xb3\\xb4\\xeb\\x8b\\xa4': 1, '\\xec\\xa4\\x91\\xea\\xb3\\x84\\xec\\x84\\xbc\\xed\\x84\\xb0': 1, '\\xea\\xb4\\x91\\xea\\xb3\\xa0': 1, '\\xed\\x83\\x84\\xec\\x82\\xb0\\xec\\x9d\\x8c\\xeb\\xa3\\x8c': 1, '\\xec\\xa0\\x84\\xec\\xb2\\xb4': 1, '11\\xeb\\xb2\\x88\\xea\\xb0\\x80': 2, '\\xec\\x84\\x9c\\xeb\\xb9\\x84\\xec\\x8a\\xa4\\xec\\x95\\xbd\\xea\\xb4\\x80': 1, '9\\xec\\x9c\\x84': 2, '\\xeb\\x89\\xb4\\xec\\x8a\\xa4\\xed\\x8e\\x80\\xeb\\x94\\xa9': 1, '\\xed\\x85\\x90\\xec\\x8b\\x9c\\xed\\x8b\\xb0': 1, '\\xec\\x9c\\x84\\xed\\x95\\x9c': 1, '\\xed\\x95\\xb4\\xed\\x82\\xb9\\xea\\xb6\\x8c\\xed\\x95\\x9c': 1, 'quot\\xeb\\x84\\x88\\xeb\\xac\\xb4': 1, '\\xeb\\x88\\x88\\xeb\\xac\\xbc': 1, '\\xec\\x9a\\xb8\\xeb\\xa6\\x89\\xeb\\x8f\\x84': 1, '\\xeb\\x8b\\xa8\\xec\\x96\\xb4\\xec\\xa7\\x80\\xeb\\xa7\\x8c': 1, '\\xea\\xb0\\x9c\\xec\\xb5\\x9c': 1, '\\xeb\\xb8\\x8c\\xeb\\x9f\\xb0\\xec\\xb9\\x98': 3, '\\xed\\x9e\\x88\\xed\\x8c\\x85': 1, '\\xeb\\xa9\\x94\\xec\\x9d\\xbc': 1, '2\\xec\\x9c\\x84': 3, '\\xec\\xa3\\xbc\\xec\\x84\\xb8\\xec\\x9a\\x94': 1, '\\xeb\\x8b\\xa4\\xec\\x9d\\x8c': 9, '\\xec\\x9a\\xb8\\xec\\x82\\xb0': 1, '\\xea\\xb9\\x80\\xeb\\x82\\x99\\xed\\x83\\x80': 1, '\\xeb\\xb0\\xb1\\xea\\xb3\\xbc\\xec\\x82\\xac\\xec\\xa0\\x84': 1, '\\xeb\\xa3\\x8c': 1, '\\xec\\xa0\\x84\\xec\\xa3\\xbc': 1, '188\\xeb\\x8f\\x84': 1, '\\xec\\x9e\\xac\\xeb\\xa3\\x8c\\xeb\\x84\\xa3\\xea\\xb3\\xa0\\xeb\\x8b\\xb9\\xea\\xb2\\xa8': 1, 'Violet': 1, '\\xec\\x8b\\x9c\\xec\\xa0\\x88\\xec\\x9d\\x98': 1, '\\xed\\x8f\\x89\\xea\\xb0\\x80\\xec\\xa0\\x9c': 1, '\\xea\\xb0\\x84\\xec\\xa0\\x88\\xea\\xb8\\xb0\\xea\\xb0\\x80\\xeb\\x94\\x94\\xea\\xb1\\xb4': 1, '\\xec\\x96\\xb4\\xed\\x95\\x99\\xec\\x82\\xac\\xec\\xa0\\x84': 1, '\\xec\\x83\\x81\\xed\\x92\\x88': 3, '\\xec\\x95\\x9e\\xeb\\x8b\\xb9\\xea\\xb8\\xb0\\xeb\\xa9\\xb4': 1, '\\xec\\xb2\\xad\\xec\\x86\\x8c\\xeb\\x85\\x84\\xeb\\xb3\\xb4\\xed\\x98\\xb8\\xec\\xa0\\x95\\xec\\xb1\\x85': 1, '\\xec\\x9d\\xb4\\xeb\\x9f\\xb0': 1, '\\xeb\\xb0\\xa9\\xeb\\xb2\\x95': 1, '\\xed\\x95\\x9c': 2, '\\xec\\x8a\\xa4\\xed\\x86\\xa0\\xeb\\xa6\\xac\\xeb\\xb3\\xbc': 1, '\\xec\\x84\\xa4\\xec\\xa0\\x95': 3, '\\xeb\\xb2\\xa0\\xec\\x9d\\xb4\\xeb\\xb9\\x84\\xec\\x8a\\x88': 1, '\\xea\\xb9\\x9c\\xec\\xb0\\x8d\\xed\\x95\\x9c': 1, '636365': 1, '\\xec\\x95\\x8a\\xeb\\x8b\\xa4': 1, '\\xec\\x9a\\x94\\xeb\\xa6\\xac\\xec\\x9d\\x98\\xec\\x8b\\x9c\\xeb\\x8b\\x88': 1, '\\xec\\xb6\\x94\\xec\\xa7\\x84': 1, '\\xec\\x98\\x81\\xec\\x83\\x81\\xec\\xa4\\x91\\xea\\xb3\\x84': 1, '\\xed\\x98\\xbc\\xec\\x9e\\x90': 2, '\\xec\\xa0\\x84\\xec\\x97\\x90': 1, '\\xec\\xb2\\xad\\xec\\xa3\\xbc': 1, 'GS\\xec\\x83\\xb5': 1, '\\xed\\x9d\\x90\\xeb\\xa6\\x84': 1, '\\xeb\\xa7\\x88\\xec\\x9d\\xbc\\xeb\\xa6\\xac\\xec\\xa7\\x80': 2, '\\xed\\x8c\\x81': 3, '\\xec\\x8a\\xa4\\xeb\\xa7\\x88\\xed\\x8a\\xb8\\xed\\x8f\\xb0middot\\xec\\xbb\\xb4\\xed\\x93\\xa8\\xed\\x84\\xb0': 1, '\\xec\\x88\\x98\\xec\\x95\\x84\\xec\\x9d\\x98': 1, '\\xeb\\xa7\\x88\\xec\\x8a\\xa4\\xec\\xb9\\xb4\\xeb\\x9d\\xbc': 1, '\\xec\\x9c\\x84\\xeb\\xa9\\x94\\xed\\x94\\x84': 2, '\\xec\\x9b\\x90\\xec\\x9d\\xb8\\xec\\x9d\\x80': 1, '\\xeb\\xb0\\x9b\\xec\\x95\\x84quot': 1, '\\xeb\\xb0\\xb0\\xec\\xa7\\xb1\\xec\\x9c\\xbc\\xeb\\xa1\\x9c': 1, 'vs': 1, '\\xeb\\xa7\\x8c\\xeb\\x82\\x98\\xea\\xb8\\xb0\\xeb\\x8a\\x94': 1, '34': 2, '\\xec\\x9c\\xa0\\xec\\x9d\\xb5\\xed\\x95\\x9c': 2, '\\xec\\x86\\x8d\\xed\\x95\\xb4': 1, '\\xea\\xb0\\x95\\xeb\\xa6\\x89': 1, '\\xea\\xb0\\x80\\xec\\xa0\\xb8\\xec\\x98\\xa4\\xea\\xb8\\xb0': 22, '\\xec\\x84\\x9c\\xeb\\xb9\\x84\\xec\\x8a\\xa4': 7, '\\xec\\x9c\\xa0\\xed\\x9d\\xac\\xea\\xb4\\x80': 2, '\\xeb\\xb2\\x84\\xeb\\xa6\\x87': 1, '\\xeb\\xb0\\x95\\xeb\\xb3\\xb4\\xec\\x98\\x81': 1, '\\xeb\\x8c\\x80\\xec\\xa0\\x84': 1, '\\xed\\x85\\x94\\xeb\\xa1\\xa0': 1, 'IS': 1, '\\xeb\\xb0\\x94\\xeb\\xa1\\x9c': 22, '\\xec\\x9e\\x85\\xed\\x95\\x99': 1, '\\xed\\x8e\\xbc\\xec\\xb9\\x98\\xea\\xb8\\xb0': 1, '39640': 1, '\\xea\\xb1\\xb4': 1, '\\xeb\\x8d\\x94\\xeb\\xb3\\xb4\\xea\\xb8\\xb0': 1, '\\xed\\x81\\xb4\\xeb\\x9d\\xbc\\xec\\x9a\\xb0\\xeb\\x93\\x9c': 1, '\\xec\\x98\\x81\\xed\\x99\\x94': 3, '\\xed\\x8b\\xb0\\xeb\\x9d\\xbc\\xeb\\xaf\\xb8\\xec\\x88\\x98': 1, '\\xec\\x9d\\xb4\\xec\\x8a\\x88': 2, '\\xec\\x8b\\xa4\\xeb\\xac\\xb4\\xed\\x9a\\x8c\\xec\\x9d\\x98': 1, '\\xeb\\xac\\xb4': 1, '\\xec\\x9e\\xa0\\xeb\\x93\\xa0': 1, '\\xec\\x8b\\xa0\\xec\\x84\\xb8\\xea\\xb3\\x84\\xeb\\xaa\\xb0': 1, '\\xe3\\x85\\x88\\xe3\\x85\\x8a': 1, '\\xec\\x82\\xac\\xec\\x9a\\xa9\\xed\\x95\\xb4': 1, '\\xec\\x95\\x84\\xea\\xb3\\xa0\\xeb\\x9d\\xbc': 2, '\\xec\\x86\\x8d\\xec\\x97\\x90': 1, '\\xea\\xb2\\xa9': 1, '\\xeb\\x8f\\x99\\xec\\x98\\x81\\xec\\x83\\x81': 7, '\\xec\\xa0\\x84\\xec\\xb2\\xb4\\xeb\\xb3\\xb4\\xea\\xb8\\xb0': 2, '\\xec\\x9b\\xb9\\xec\\xa0\\x91\\xea\\xb7\\xbc\\xec\\x84\\xb1\\xec\\x95\\x88\\xeb\\x82\\xb4': 1, '182\\xe2\\x84\\x83': 1, '\\xeb\\x9a\\x9c\\xec\\xb0\\x8c\\xeb\\xb9\\xa0\\xec\\xb0\\x8c': 1, '\\xea\\xb2\\x83': 1, '\\xed\\x83\\x80\\xea\\xb2\\xa9': 1, '\\xec\\xa6\\x89': 1, '\\xeb\\xa1\\xaf\\xeb\\x8d\\xb0\\xeb\\x8b\\xb7\\xec\\xbb\\xb4': 2, '\\xec\\x9e\\x88\\xeb\\x8a\\x94': 1, '\\xeb\\xa7\\xa4\\xeb\\xa0\\xa5\\xec\\xa0\\x81\\xec\\x9d\\xb8': 1, '4': 3, '\\xeb\\xb0\\x94\\xeb\\xa1\\x9c\\xea\\xb0\\x80\\xea\\xb8\\xb0': 7, '200\\xe2\\x84\\x83': 1, '\\xea\\xb2\\x80\\xec\\x83\\x89\\xec\\x96\\xb4': 1, 'quot\\xec\\xa1\\xb0\\xed\\x9d\\xac\\xed\\x8c\\x94': 1, '\\xed\\x8c\\xa8\\xec\\x85\\x98\\xed\\x94\\x8c\\xeb\\x9f\\xac\\xec\\x8a\\xa4': 1, '207\\xe2\\x84\\x83': 1, '\\xeb\\x94\\xb1': 1, '\\xed\\x95\\x84\\xec\\x9a\\x94': 1, '\\xec\\x9e\\x90\\xed\\x8c\\x90\\xea\\xb8\\xb0': 1, '\\xeb\\x8f\\x99\\xea\\xb8\\xb0': 1, '\\xec\\x87\\xbc\\xed\\x95\\x91\\xed\\x99\\x88': 1, '\\xea\\xb2\\x8c\\xec\\x9e\\x84': 3, '\\xec\\x95\\xbd\\xea\\xb4\\x80': 1, '\\xec\\xb0\\xbd\\xec\\x97\\x85\\xed\\x8c\\x80\\xec\\x9d\\x84': 1, 'IP\\xeb\\xb3\\xb4\\xec\\x95\\x88': 2, 'PC\\xec\\x97\\x90\\xec\\x84\\x9c\\xeb\\xa7\\x8c': 1, '\\xeb\\xb2\\x84\\xec\\x84\\xaf\\xeb\\x93\\xa4\\xea\\xb9\\xa8\\xed\\x83\\x95': 1, '\\xeb\\xa0\\x88\\xec\\x8b\\x9c\\xed\\x94\\xbc': 1, '56': 2, '\\xec\\x95\\x88\\xeb\\xb3\\xb4\\xed\\x98\\x84\\xec\\x95\\x88': 1, '\\xec\\x84\\xb8\\xed\\x8a\\xb8\\xeb\\xa9\\xb4': 1, '\\xec\\x9e\\x90\\xeb\\x8f\\x99\\xec\\x8b\\xa4\\xed\\x96\\x89': 1, '\\xec\\xa0\\x9c\\xec\\xa3\\xbc': 1, '\\xed\\x8c\\xa8\\xec\\x85\\x98': 1, '\\xed\\x82\\xa4\\xed\\x8b\\xb0\\xec\\x97\\x90': 1, '\\xeb\\x82\\x9c\\xeb\\x8f\\x99': 1, '\\xea\\xb0\\x9c\\xec\\x9d\\xb8\\xec\\xa0\\x95\\xeb\\xb3\\xb4\\xec\\xb7\\xa8\\xea\\xb8\\x89\\xeb\\xb0\\xa9\\xec\\xb9\\xa8': 1, '5\\xec\\x9c\\x84': 2, '\\xeb\\xa7\\x8c\\xed\\x99\\x94\\xec\\x86\\x8d\\xec\\x84\\xb8\\xec\\x83\\x81': 1, '112': 2, '\\xec\\x97\\xac\\xec\\x9e\\x90\\xed\\x8c\\xa8\\xec\\x85\\x98': 1, '118': 2, '\\xed\\x83\\xad': 10, '\\xec\\xa0\\x95\\xeb\\xa7\\x90': 1, '\\xea\\xb3\\xb5\\xeb\\xb6\\x80': 2, '\\xec\\x96\\xb4\\xeb\\x96\\xbb\\xea\\xb2\\x8c': 1, '1852': 1, '\\xed\\x86\\xb5\\xed\\x95\\x9c': 1, '\\xeb\\xb0\\x98\\xec\\xb0\\xac': 1, '10\\xec\\x9c\\x84': 2, '\\xeb\\xa7\\x90\\xed\\x95\\xa0': 1, '201\\xe2\\x84\\x83': 2, '\\xec\\xb4\\x9d': 7, '\\xed\\x91\\xb9': 1, 'EBS\\xec\\xa7\\x80\\xec\\x8b\\x9d': 1, '\\xec\\x96\\xb4\\xeb\\xa6\\xb0': 1, '44\\xeb\\xb6\\x80\\xed\\x84\\xb088\\xea\\xb9\\x8c\\xec\\xa7\\x80': 1, '\\xea\\xb8\\x88\\xec\\x9c\\xb5': 1, '\\xeb\\xb0\\x8f': 2, '\\xeb\\xb0\\xb0': 1, '\\xed\\x9d\\x94\\xeb\\x93\\xa4\\xeb\\x8b\\xa4': 1, '\\xec\\x86\\xa1': 1, 'A10\\xea\\xb8\\xb0': 1, '\\xec\\xa1\\xb0\\xec\\x84\\xb1\\xec\\xa7\\x84': 2, '\\xeb\\x82\\xa0': 1, '\\xeb\\xa7\\xa4\\xea\\xb1\\xb0\\xec\\xa7\\x84': 1, '\\xeb\\xb0\\xa5': 1, '\\xec\\x98\\x88\\xea\\xb3\\xa0\\xeb\\xb3\\xb4\\xec\\x9c\\xa1\\xeb\\x8c\\x80\\xeb\\x9e\\x80': 1, '\\xeb\\xb0\\xa9': 1, '\\xec\\xa0\\x91\\xea\\xb7\\xbc\\xec\\x84\\xb1': 1, '1018572': 1, '\\xeb\\x82\\xb4': 1, '\\xec\\x89\\xbd\\xec\\xa7\\x80': 1, '\\xeb\\xb8\\x94\\xeb\\xa1\\x9c\\xea\\xb7\\xb8': 3, '\\xec\\x9e\\x90\\xeb\\x9d\\xbc\\xeb\\x82\\x9c\\xeb\\x8b\\xa4\\xeb\\x8a\\x94': 1, '\\xeb\\xb0\\x80\\xeb\\xa0\\x88': 2, '\\xec\\xb4\\x88\\xeb\\xaf\\xb8\\xec\\x84\\xb8\\xeb\\xa8\\xbc\\xec\\xa7\\x80': 1, '\\xec\\xb4\\x88\\xed\\x8a\\xb9\\xea\\xb0\\x80': 1, '\\xec\\x87\\xbc\\xed\\x95\\x91\\xeb\\x8f\\x84\\xec\\x9b\\x80': 1, '\\xed\\x99\\x80\\xeb\\xa6\\xad': 1, '\\xeb\\x8f\\x84\\xed\\x8a\\xb8\\xed\\x8c\\xa8\\xed\\x84\\xb4': 1, 'Sua': 1, '\\xed\\x98\\x84\\xeb\\x8c\\x80H\\xeb\\xaa\\xb0': 1, 'NC': 2, '\\xea\\xb3\\xa0\\xed\\x98\\x84\\xec\\xa0\\x95': 2, '\\xec\\x96\\xbb\\xea\\xb3\\xa0\\xec\\x9e\\x90\\xc2\\xb7\\xc2\\xb7\\xc2\\xb7': 1, '\\xeb\\xaf\\xb8': 2, '\\xeb\\xa6\\xac\\xeb\\xb7\\xb0': 1, '10\\xeb\\x8c\\x80\\xeb\\x9d\\xbc': 1, '\\xec\\x9d\\xb4\\xeb\\xa7\\x88\\xed\\x8a\\xb8\\xeb\\xaa\\xb0': 1, '\\xec\\x8a\\xa4\\xed\\x86\\xa0\\xeb\\xa6\\xac\\xeb\\x9d\\xbc\\xec\\x9d\\xb4\\xed\\x84\\xb0': 1, 'Corp': 1, '\\xec\\x98\\x88\\xec\\x81\\x98\\xeb\\x8b\\xa4': 1, '\\xed\\x94\\xbc\\xea\\xb7\\x9c\\xec\\x96\\xb4': 1, '\\xec\\x8b\\xa0\\xea\\xb7\\x9c\\xec\\x95\\xb1': 1, '2\\xeb\\xa7\\x8c\\xec\\x9b\\x90\\xeb\\x8c\\x8080darr': 1, '\\xec\\x86\\xa1\\xeb\\xaf\\xbc\\xed\\x98\\xb8': 2, '\\xec\\x9b\\x90': 3, '\\xec\\x95\\x88\\xeb\\x82\\xb4': 2, '\\xed\\x8a\\xb9\\xeb\\xb3\\x84\\xed\\x95\\x9c': 1, '\\xed\\x8f\\xac\\xed\\x86\\xa0': 3, '\\xec\\x8a\\xa4\\xed\\x8f\\xac\\xec\\xb8\\xa0': 3, '1021': 1, '\\xec\\x9b\\xb9': 1, '\\xec\\x9a\\xa9\\xec\\x82\\xac\\xeb\\xa5\\xbc': 1, '\\xec\\x84\\x9c\\xed\\x94\\xbc\\xec\\x8a\\xa4': 1, '151\\xe2\\x84\\x83': 1, '\\xed\\x9d\\xac\\xeb\\xa7\\x9d\\xed\\x95\\xb4': 3, '\\xeb\\xb0\\xb0\\xec\\x9a\\xb4': 1, '\\xeb\\xaa\\xa8\\xec\\x9c\\xbc\\xeb\\x8b\\xa4': 1, '\\xec\\x9d\\xb4\\xeb\\xb3\\x91\\xeb\\xa5\\xa0': 2, '\\xeb\\x8b\\xbf\\xec\\xa7\\x80': 1, '\\xec\\xb5\\x9c\\xea\\xb7\\xbc': 1, '\\xed\\x8a\\xb9\\xea\\xb0\\x80': 1, 'TV': 2, '\\xec\\x97\\xb0\\xeb\\xaf\\xbc': 1, '\\xec\\x88\\x9c\\xec\\x88\\x98\\xec\\x98\\x88\\xec\\x88\\xa0\\xec\\x9d\\x80': 1, '\\xed\\x8f\\xad': 1, '\\xec\\x84\\x9c\\xec\\x9e\\x88\\xeb\\x8a\\x94': 1, '\\xec\\xb0\\xa9': 1, '\\xec\\x97\\x86\\xeb\\x8a\\x94': 3, '\\xeb\\xa0\\x88\\xea\\xb9\\x85\\xec\\x8a\\xa4': 1, '\\xec\\x83\\x81\\xec\\x8a\\xb9': 18, '\\xec\\x8a\\xa4\\xed\\x83\\x80\\xed\\x82\\xb9': 1, '\\xec\\xa0\\x84\\xea\\xb5\\xad\\xec\\xa3\\xbc\\xeb\\xac\\xb8\\xed\\x8f\\xad\\xec\\xa3\\xbc': 1, '\\xec\\xa7\\x80\\xed\\x98\\x84\\xec\\x9a\\xb0': 2, '\\xeb\\x8b\\xa8\\xec\\x88\\x9c\\xed\\x99\\x94\\xeb\\xa5\\xbc': 1, '\\xec\\x86\\x90\\xeb\\xaf\\xbc\\xed\\x95\\x9c': 2, '\\xec\\xa2\\x85\\xeb\\xa3\\x8c': 1, '\\xeb\\xaf\\xb8\\xeb\\x94\\x94\\xec\\x96\\xb4': 2, '\\xeb\\x8c\\x80\\xea\\xb5\\xac': 1, '\\xec\\x8a\\xa4\\xed\\x83\\x80\\xed\\x8a\\xb8\\xec\\x97\\x85': 2, '\\xec\\x98\\x88\\xec\\x88\\xa0\\xec\\x97\\x90\\xec\\x84\\x9c': 1, '\\xec\\x98\\xa5\\xec\\x85\\x98': 2, '\\xea\\xb3\\xa0\\xed\\x86\\xb5': 1, '\\xec\\x9d\\xb4\\xec\\xa0\\x84': 7, '50390': 1, '\\xeb\\x88\\x88\\xea\\xb8\\xb8': 1}\n"
     ]
    }
   ],
   "source": [
    "import urllib\n",
    "import re #특수문자 제거를 위함\n",
    "\n",
    "source = urllib.urlopen(\"http://www.daum.net\").read()\n",
    "len_source = len(source)\n",
    "\n",
    "dic={} #각 단어들의 출현빈도를 사전형태로 저장\n",
    "\n",
    "source_new = None\n",
    "i = 0\n",
    "while (i < len_source):\n",
    "\tfound = False\n",
    "\tif (found != True and source[i] == \"<\" and source[i+1 : i+7].lower() == \"script\"):\n",
    "\t\tfound = True;\n",
    "\t\tj = i + 7;\n",
    "\t\twhile (True):\n",
    "\t\t\tif (source[j] == \"<\" and source[j+1] == \"/\" and source[j+2 : j+8].lower() == \"script\"):\n",
    "\t\t\t\t#print \"found - script\"\n",
    "\t\t\t\tsource = source[:i] + ' ' + source[j+9:]\n",
    "\t\t\t\tbreak\n",
    "\t\t\tj = j + 1\n",
    "\t\t\tif (j > len_source):\n",
    "\t\t\t\tbreak\n",
    "\t\tlen_source = len(source)\n",
    "\ti = i + 1\n",
    "\n",
    "len_source = len(source)\n",
    "\n",
    "i = 0\n",
    "while (i < len_source):\n",
    "\tfound = False\n",
    "\tif (found != True and source[i] == \"<\" and source[i+1 : i+6].lower() == \"style\"):\n",
    "\t\tfound = True;\n",
    "\t\tj = i + 6;\n",
    "\t\twhile (True):\n",
    "\t\t\tif (source[j] == \"<\" and source[j+1] == \"/\" and source[j+2 : j+7].lower() == \"style\"):\n",
    "\t\t\t\t#print \"found - style\"\n",
    "\t\t\t\tsource = source[:i] + ' ' + source[j+8:]\n",
    "\t\t\t\tbreak\n",
    "\t\t\tj = j + 1\n",
    "\t\t\tif (j > len_source):\n",
    "\t\t\t\tbreak\n",
    "\t\tlen_source = len(source)\n",
    "\ti = i + 1\n",
    "\n",
    "len_source = len(source)\n",
    "\n",
    "i = 0\n",
    "while (i < len_source):\n",
    "\tfound = False\n",
    "\tif (found != True and source[i] == \"<\"):\n",
    "\t\tfound = True;\n",
    "\t\tj = i + 1;\n",
    "\t\twhile (True):\n",
    "\t\t\tif (source[j] == \">\"):\n",
    "\t\t\t\t#print \"found - HTML tag\"\n",
    "\t\t\t\tsource = source[:i] + ' ' + source[j+1:]\n",
    "\t\t\t\tbreak\n",
    "\t\t\tj = j + 1\n",
    "\t\t\tif (j > len_source):\n",
    "\t\t\t\tbreak\n",
    "\t\tlen_source = len(source)\n",
    "\ti = i + 1\n",
    "\n",
    "words = source.split()\n",
    "\n",
    "print '<순수 텍스트 단어들>'\n",
    "for word in words:\n",
    "    word=re.sub('[^가-힝0-9a-zA-Z\\\\s]', '', word) #특수문자 제거\n",
    "    if word!='':\n",
    "        if(dic.get(word) == None):\n",
    "            dic[word] = 1\n",
    "        else:\n",
    "            dic[word] += 1\n",
    "        print '\"' + word + '\" ',\n",
    "        \n",
    "print '\\n'*5\n",
    "\n",
    "print '<각 단어별 출현빈도>'\n",
    "print dic"
   ]
  },
  {
   "cell_type": "code",
   "execution_count": 21,
   "metadata": {
    "collapsed": false
   },
   "outputs": [
    {
     "name": "stdout",
     "output_type": "stream",
     "text": [
      "<순수 텍스트 단어들>\n",
      "\"The\"  \"New\"  \"York\"  \"Times\"  \"Breaking\"  \"News\"  \"World\"  \"News\"  \"Multimedia\"  \"NYTimescom\"  \"no\"  \"longer\"  \"supports\"  \"Internet\"  \"Explorer\"  \"9\"  \"or\"  \"earlier\"  \"Please\"  \"upgrade\"  \"your\"  \"browser\"  \"LEARN\"  \"MORE\"  \"»\"  \"Sections\"  \"Search\"  \"Skip\"  \"to\"  \"content\"  \"Skip\"  \"to\"  \"navigation\"  \"Log\"  \"In\"  \"0\"  \"Settings\"  \"US\"  \"International\"  \"中文\"  \"Wednesday\"  \"October\"  \"21\"  \"2015\"  \"Today’s\"  \"Paper\"  \"Video\"  \"Sections\"  \"Search\"  \"World\"  \"US\"  \"Politics\"  \"NY\"  \"Business\"  \"Business\"  \"Opinion\"  \"Opinion\"  \"Tech\"  \"Science\"  \"Health\"  \"Sports\"  \"Sports\"  \"Arts\"  \"Arts\"  \"Style\"  \"Style\"  \"Food\"  \"Food\"  \"Travel\"  \"Magazine\"  \"T\"  \"Magazine\"  \"Real\"  \"Estate\"  \"all\"  \"Close\"  \"search\"  \"search\"  \"sponsored\"  \"by\"  \"Search\"  \"NYTimescom\"  \"Clear\"  \"this\"  \"text\"  \"input\"  \"Go\"  \"Top\"  \"News\"  \"Assad\"  \"Travels\"  \"to\"  \"Moscow\"  \"to\"  \"Discuss\"  \"Syrian\"  \"War\"  \"With\"  \"Putin\"  \"By\"  \"NEIL\"  \"MacFARQUHAR\"  \"348\"  \"AM\"  \"ET\"  \"President\"  \"Bashar\"  \"alAssad\"  \"of\"  \"Syria\"  \"and\"  \"President\"  \"Vladimir\"  \"V\"  \"Putin\"  \"of\"  \"Russia\"  \"talked\"  \"about\"  \"their\"  \"joint\"  \"military\"  \"campaign\"  \"and\"  \"a\"  \"future\"  \"political\"  \"transition\"  \"in\"  \"Syria\"  \"during\"  \"an\"  \"unannounced\"  \"visit\"  \"to\"  \"Moscow\"  \"a\"  \"Kremlin\"  \"spokesman\"  \"said\"  \"President\"  \"Bashar\"  \"alAssad\"  \"of\"  \"Syria\"  \"left\"  \"met\"  \"with\"  \"President\"  \"Vladimir\"  \"V\"  \"Putin\"  \"of\"  \"Russia\"  \"in\"  \"Moscow\"  \"Credit\"  \"Pool\"  \"photo\"  \"by\"  \"Alexey\"  \"Druzhinin\"  \"New\"  \"York\"  \"Officer\"  \"Dies\"  \"After\"  \"Being\"  \"Shot\"  \"in\"  \"East\"  \"Harlem\"  \"By\"  \"ASHLEY\"  \"SOUTHALL\"  \"and\"  \"J\"  \"DAVID\"  \"GOODMAN\"  \"150\"  \"AM\"  \"ET\"  \"The\"  \"officer\"  \"Randolph\"  \"Holder\"  \"was\"  \"shot\"  \"in\"  \"the\"  \"head\"  \"around\"  \"830\"  \"pm\"  \"Tuesday\"  \"near\"  \"Franklin\"  \"D\"  \"Roosevelt\"  \"Drive\"  \"and\"  \"120th\"  \"Street\"  \"and\"  \"a\"  \"suspect\"  \"was\"  \"in\"  \"custody\"  \"the\"  \"police\"  \"commissioner\"  \"said\"  \"Ryan\"  \"Says\"  \"He\"  \"Would\"  \"Run\"  \"for\"  \"Speaker\"  \"if\"  \"GOP\"  \"Unites\"  \"By\"  \"JENNIFER\"  \"STEINHAUER\"  \"and\"  \"EMMARIE\"  \"HUETTEMAN\"  \"Representative\"  \"Paul\"  \"D\"  \"Ryan’s\"  \"decision\"  \"changes\"  \"the\"  \"dynamic\"  \"in\"  \"the\"  \"race\"  \"for\"  \"House\"  \"speaker\"  \"and\"  \"could\"  \"give\"  \"Republicans\"  \"clarity\"  \"after\"  \"weeks\"  \"of\"  \"turmoil\"  \"Son\"  \"of\"  \"a\"  \"Canadian\"  \"Leader\"  \"Follows\"  \"His\"  \"Own\"  \"Path\"  \"to\"  \"Power\"  \"By\"  \"IAN\"  \"AUSTEN\"  \"Justin\"  \"Trudeau\"  \"chose\"  \"more\"  \"difficult\"  \"roads\"  \"during\"  \"his\"  \"career\"  \"—\"  \"partly\"  \"it\"  \"seems\"  \"to\"  \"show\"  \"he\"  \"had\"  \"not\"  \"been\"  \"handed\"  \"a\"  \"life\"  \"in\"  \"politics\"  \"on\"  \"a\"  \"platter\"  \"Trudeau\"  \"Offers\"  \"Canada\"  \"New\"  \"Tone\"  \"and\"  \"Liberal\"  \"Agenda\"  \"Key\"  \"Moments\"  \"in\"  \"Justin\"  \"Trudeaus\"  \"Life\"  \"US\"  \"Hospital\"  \"Attack\"  \"Fueled\"  \"by\"  \"Units\"  \"New\"  \"to\"  \"Kunduz\"  \"By\"  \"ERIC\"  \"SCHMITT\"  \"and\"  \"MATTHEW\"  \"ROSENBERG\"  \"The\"  \"US\"  \"airstrike\"  \"against\"  \"a\"  \"Doctors\"  \"Without\"  \"Borders\"  \"hospital\"  \"in\"  \"Afghanistan\"  \"that\"  \"killed\"  \"at\"  \"least\"  \"22\"  \"staff\"  \"members\"  \"was\"  \"approved\"  \"by\"  \"forces\"  \"normally\"  \"assigned\"  \"to\"  \"other\"  \"parts\"  \"of\"  \"Asia\"  \"Cashless\"  \"and\"  \"Furious\"  \"After\"  \"RushCard\"  \"Glitch\"  \"By\"  \"LIZ\"  \"MOYER\"  \"and\"  \"JESSICA\"  \"SILVERGREENBERG\"  \"For\"  \"days\"  \"thousands\"  \"of\"  \"people\"  \"who\"  \"use\"  \"the\"  \"prepaid\"  \"debit\"  \"cards\"  \"founded\"  \"by\"  \"the\"  \"hiphop\"  \"impresario\"  \"Russell\"  \"Simmons\"  \"have\"  \"had\"  \"no\"  \"access\"  \"to\"  \"money\"  \"nbspComments\"  \"Questions\"  \"for\"  \"Clinton\"  \"and\"  \"for\"  \"Leader\"  \"of\"  \"Benghazi\"  \"Panel\"  \"By\"  \"JENNIFER\"  \"STEINHAUER\"  \"and\"  \"MICHAEL\"  \"S\"  \"SCHMIDT\"  \"500\"  \"AM\"  \"ET\"  \"Trey\"  \"Gowdy\"  \"head\"  \"of\"  \"the\"  \"House\"  \"committee\"  \"looking\"  \"into\"  \"the\"  \"2012\"  \"attack\"  \"in\"  \"Libya\"  \"when\"  \"Hillary\"  \"Rodham\"  \"Clinton\"  \"was\"  \"secretary\"  \"of\"  \"state\"  \"is\"  \"struggling\"  \"to\"  \"uphold\"  \"his\"  \"panel’s\"  \"credibility\"  \"Mets\"  \"5\"  \"Cubs\"  \"2\"  \"Mets\"  \"Take\"  \"Commanding\"  \"30\"  \"Series\"  \"Lead\"  \"Over\"  \"Cubs\"  \"By\"  \"TIM\"  \"ROHAN\"  \"157\"  \"AM\"  \"ET\"  \"The\"  \"veterans\"  \"Daniel\"  \"Murphy\"  \"and\"  \"Yoenis\"  \"Cespedes\"  \"carried\"  \"the\"  \"offense\"  \"while\"  \"Jacob\"  \"deGrom\"  \"pitched\"  \"seven\"  \"masterful\"  \"innings\"  \"to\"  \"put\"  \"the\"  \"Mets\"  \"one\"  \"win\"  \"from\"  \"their\"  \"first\"  \"pennant\"  \"since\"  \"2000\"  \"nbspComments\"  \"Over\"  \"130\"  \"Police\"  \"Leaders\"  \"Join\"  \"Push\"  \"to\"  \"Cut\"  \"Prison\"  \"Rosters\"  \"By\"  \"TIMOTHY\"  \"WILLIAMS\"  \"Asserting\"  \"that\"  \"“too\"  \"many\"  \"people\"  \"are\"  \"behind\"  \"bars\"  \"that\"  \"don’t\"  \"belong\"  \"there”\"  \"the\"  \"officials\"  \"plan\"  \"to\"  \"push\"  \"for\"  \"reforms\"  \"including\"  \"ending\"  \"mandatory\"  \"minimum\"  \"prison\"  \"sentences\"  \"nbspComments\"  \"More\"  \"News\"  \"Starbucks\"  \"and\"  \"Fiat\"  \"at\"  \"Center\"  \"of\"  \"EU\"  \"Tax\"  \"Crackdown\"  \"508\"  \"AM\"  \"ET\"  \"Takata\"  \"and\"  \"Honda\"  \"Kept\"  \"Quiet\"  \"on\"  \"Airbag\"  \"Study\"  \"459\"  \"AM\"  \"ET\"  \"San\"  \"Francisco\"  \"Votes\"  \"to\"  \"Keep\"  \"Shielding\"  \"Immigrants\"  \"137\"  \"AM\"  \"ET\"  \"Consumer\"  \"Reports\"  \"Stops\"  \"Recommending\"  \"the\"  \"Tesla\"  \"Affair\"  \"at\"  \"Stanford\"  \"Reveals\"  \"Discrimination\"  \"Claims\"  \"A\"  \"romantic\"  \"triangle\"  \"and\"  \"the\"  \"dean’s\"  \"resignation\"  \"from\"  \"the\"  \"Graduate\"  \"School\"  \"of\"  \"Business\"  \"stir\"  \"up\"  \"old\"  \"and\"  \"new\"  \"charges\"  \"in\"  \"Silicon\"  \"Valley\"  \"about\"  \"abuses\"  \"of\"  \"power\"  \"San\"  \"Francisco\"  \"Cyclists\"  \"May\"  \"Get\"  \"a\"  \"Break\"  \"at\"  \"Stop\"  \"Signs\"  \"A\"  \"proposed\"  \"ordinance\"  \"to\"  \"legalize\"  \"the\"  \"common\"  \"practice\"  \"of\"  \"allowing\"  \"cyclists\"  \"to\"  \"treat\"  \"stop\"  \"signs\"  \"as\"  \"yield\"  \"signs\"  \"has\"  \"raised\"  \"longsimmering\"  \"tensions\"  \"with\"  \"drivers\"  \"Inside\"  \"Look\"  \"at\"  \"the\"  \"Heist\"  \"‘Goodfellas’\"  \"Dramatized\"  \"A\"  \"cousin\"  \"of\"  \"Vincent\"  \"Asaro\"  \"the\"  \"man\"  \"on\"  \"trial\"  \"for\"  \"a\"  \"crime\"  \"that\"  \"is\"  \"at\"  \"the\"  \"heart\"  \"of\"  \"the\"  \"movie\"  \"“Goodfellas”\"  \"began\"  \"his\"  \"testimony\"  \"in\"  \"Federal\"  \"District\"  \"Court\"  \"in\"  \"Brooklyn\"  \"on\"  \"Tuesday\"  \"The\"  \"Opinion\"  \"Pages\"  \"Paying\"  \"for\"  \"Egg\"  \"Donations\"  \"By\"  \"THE\"  \"EDITORIAL\"  \"BOARD\"  \"The\"  \"current\"  \"payment\"  \"system\"  \"favors\"  \"the\"  \"fertility\"  \"clinics\"  \"and\"  \"shortchanges\"  \"the\"  \"donors\"  \"Bruni\"  \"The\"  \"Scary\"  \"Specter\"  \"of\"  \"Ted\"  \"Cruz\"  \"321\"  \"AM\"  \"ET\"  \"Friedman\"  \"Are\"  \"You\"  \"Sure\"  \"You\"  \"Want\"  \"the\"  \"Job\"  \"321\"  \"AM\"  \"ET\"  \"OpEd\"  \"Contributors\"  \"Are\"  \"We\"  \"Losing\"  \"Afghanistan\"  \"Again\"  \"By\"  \"THOMAS\"  \"JOSCELYN\"  \"and\"  \"BILL\"  \"ROGGIO\"  \"321\"  \"AM\"  \"ET\"  \"As\"  \"American\"  \"troops\"  \"are\"  \"leaving\"  \"Al\"  \"Qaeda\"  \"is\"  \"returning\"  \"nbspComments\"  \"Edsall\"  \"Crimes\"  \"Without\"  \"Punishment\"  \"321\"  \"AM\"  \"ET\"  \"Join\"  \"us\"  \"on\"  \"Facebook\"  \"»\"  \"User\"  \"Subscriptions\"  \"How\"  \"Do\"  \"the\"  \"Leading\"  \"Presidential\"  \"Campaigns\"  \"Spend\"  \"Money\"  \"Differently\"  \"1871\"  \"The\"  \"NRA\"  \"and\"  \"a\"  \"‘Well\"  \"Regulated\"  \"Militia’\"  \"What\"  \"Happens\"  \"to\"  \"People\"  \"Who\"  \"Die\"  \"Alone\"  \"Times\"  \"Insider\"  \"raquo\"  \"How\"  \"Do\"  \"the\"  \"Leading\"  \"Presidential\"  \"Campaigns\"  \"Spend\"  \"Money\"  \"Differently\"  \"The\"  \"Crossword\"  \"raquo\"  \"Play\"  \"Todayrsquos\"  \"Puzzle\"  \"The\"  \"Crossword\"  \"raquo\"  \"Play\"  \"Todayrsquos\"  \"Puzzle\"  \"Wordplay\"  \"raquo\"  \"Excellent\"  \"Advice\"  \"Watching\"  \"Stories\"  \"from\"  \"our\"  \"Advertisers\"  \"Loading\"  \"times\"  \"video\"  \"explore\"  \"all\"  \"videos\"  \"raquo\"  \"Video\"  \"Player\"  \"Inside\"  \"Nytimescom\"  \"Go\"  \"to\"  \"the\"  \"previous\"  \"story\"  \"Go\"  \"to\"  \"the\"  \"next\"  \"story\"  \"Magazine\"  \"The\"  \"Ethics\"  \"Professor\"  \"and\"  \"the\"  \"Disabled\"  \"Man\"  \"Business\"  \"Day\"  \"23andMe\"  \"Will\"  \"Resume\"  \"Giving\"  \"Users\"  \"Health\"  \"Data\"  \"Opinion\"  \"OpEd\"  \"Turkey’s\"  \"SelfInflicted\"  \"Disaster\"  \"Opinion\"  \"Ibish\"  \"Putin’s\"  \"Partition\"  \"Plan\"  \"for\"  \"Syria\"  \"Russia\"  \"has\"  \"comprehensively\"  \"usurped\"  \"America’s\"  \"role\"  \"as\"  \"regional\"  \"superpower\"  \"in\"  \"the\"  \"Middle\"  \"East\"  \"Movies\"  \"Review\"  \"‘Heart\"  \"of\"  \"a\"  \"Dog’\"  \"a\"  \"Meditation\"  \"on\"  \"Loss\"  \"Television\"  \"How\"  \"Political\"  \"Correctness\"  \"Is\"  \"Helping\"  \"Comedy\"  \"Television\"  \"A\"  \"Specialist\"  \"in\"  \"TV\"  \"Images\"  \"of\"  \"Black\"  \"Women\"  \"Food\"  \"Now\"  \"Not\"  \"Enough\"  \"Cooks\"  \"in\"  \"the\"  \"Restaurant\"  \"Kitchen\"  \"Opinion\"  \"OpEd\"  \"Sexism\"  \"in\"  \"the\"  \"Kitchen\"  \"Opinion\"  \"Couch\"  \"A\"  \"Conversation\"  \"on\"  \"the\"  \"Edge\"  \"of\"  \"Human\"  \"Perception\"  \"Psychoanalyzing\"  \"a\"  \"schizophrenic\"  \"is\"  \"like\"  \"treating\"  \"anyone\"  \"else\"  \"—\"  \"only\"  \"more\"  \"so\"  \"Food\"  \"New\"  \"and\"  \"Healthier\"  \"Food\"  \"Pushed\"  \"by\"  \"Old\"  \"Hands\"  \"Technology\"  \"How\"  \"Emojis\"  \"Find\"  \"Their\"  \"Way\"  \"to\"  \"Phones\"  \"Sections\"  \"World\"  \"raquo\"  \"Man\"  \"in\"  \"the\"  \"News\"  \"Justin\"  \"Trudeau\"  \"Son\"  \"of\"  \"a\"  \"Canadian\"  \"Leader\"  \"Follows\"  \"His\"  \"Own\"  \"Path\"  \"to\"  \"Power\"  \"US\"  \"Agrees\"  \"With\"  \"Russia\"  \"on\"  \"Rules\"  \"in\"  \"Syrian\"  \"Sky\"  \"Arab\"  \"Proposal\"  \"to\"  \"UN\"  \"Over\"  \"Western\"  \"Wall\"  \"Stirs\"  \"New\"  \"Concern\"  \"Business\"  \"Day\"  \"raquo\"  \"98\"  \"Billion\"  \"Valuation\"  \"for\"  \"Ferrari\"  \"How\"  \"Emojis\"  \"Find\"  \"Their\"  \"Way\"  \"to\"  \"Phones\"  \"Takata\"  \"and\"  \"Honda\"  \"Kept\"  \"Quiet\"  \"on\"  \"Study\"  \"That\"  \"Questioned\"  \"Airbag\"  \"Propellant\"  \"Opinion\"  \"raquo\"  \"David\"  \"Brooks\"  \"Enter\"  \"the\"  \"Age\"  \"of\"  \"the\"  \"Outsiders\"  \"Editorial\"  \"A\"  \"New\"  \"Attack\"  \"on\"  \"Health\"  \"Care\"  \"Reform\"  \"Joe\"  \"Nocera\"  \"Osama\"  \"Bin\"  \"Laden’s\"  \"First\"  \"Draft\"  \"US\"  \"raquo\"  \"A\"  \"Plan\"  \"to\"  \"Honor\"  \"Martin\"  \"Luther\"  \"King\"  \"at\"  \"a\"  \"Southern\"  \"Civil\"  \"War\"  \"Symbol\"  \"Marco\"  \"Rubio’s\"  \"Ambition\"  \"and\"  \"Sharp\"  \"Elbows\"  \"Fueled\"  \"His\"  \"Rise\"  \"in\"  \"Tallahassee\"  \"Questions\"  \"for\"  \"Hillary\"  \"Clinton\"  \"and\"  \"for\"  \"Benghazi\"  \"Panel’s\"  \"Leader\"  \"Technology\"  \"raquo\"  \"After\"  \"Disappointing\"  \"Results\"  \"Yahoo\"  \"Promises\"  \"More\"  \"Focused\"  \"Strategy\"  \"Palo\"  \"Alto\"  \"Journal\"  \"At\"  \"Stanford\"  \"Relationship\"  \"Reveals\"  \"Accusations\"  \"of\"  \"Discrimination\"  \"Gadgetwise\"  \"Listening\"  \"for\"  \"the\"  \"Headphones\"  \"You\"  \"Want\"  \"Arts\"  \"raquo\"  \"Review\"  \"‘Ripcord’\"  \"a\"  \"Comic\"  \"Tale\"  \"of\"  \"Adversaries\"  \"Review\"  \"‘Heart\"  \"of\"  \"a\"  \"Dog’\"  \"Laurie\"  \"Anderson’s\"  \"Meditation\"  \"on\"  \"Loss\"  \"Museum\"  \"of\"  \"Food\"  \"and\"  \"Drink\"  \"Takes\"  \"a\"  \"Look\"  \"at\"  \"Flavor\"  \"Politics\"  \"raquo\"  \"Marco\"  \"Rubio’s\"  \"Ambition\"  \"and\"  \"Sharp\"  \"Elbows\"  \"Fueled\"  \"His\"  \"Rise\"  \"in\"  \"Tallahassee\"  \"Questions\"  \"for\"  \"Hillary\"  \"Clinton\"  \"and\"  \"for\"  \"Benghazi\"  \"Panel’s\"  \"Leader\"  \"Thomas\"  \"L\"  \"Friedman\"  \"Are\"  \"You\"  \"Sure\"  \"You\"  \"Want\"  \"the\"  \"Job\"  \"Fashion\"  \"Style\"  \"raquo\"  \"Unbuttoned\"  \"Justin\"  \"Trudeau\"  \"Takes\"  \"an\"  \"Image\"  \"and\"  \"Wins\"  \"With\"  \"It\"  \"Kaufmann\"  \"Mercantile\"  \"a Store\"  \"That’s\"  \"Strictly\"  \"One\"  \"to\"  \"a\"  \"Customer\"  \"Gamers\"  \"Have\"  \"a\"  \"Little\"  \"League\"  \"of\"  \"Their\"  \"Own\"  \"Movies\"  \"raquo\"  \"Review\"  \"‘Heart\"  \"of\"  \"a\"  \"Dog’\"  \"Laurie\"  \"Anderson’s\"  \"Meditation\"  \"on\"  \"Loss\"  \"‘Star\"  \"Wars\"  \"The\"  \"Force\"  \"Awakens’\"  \"Is\"  \"a\"  \"Hit\"  \"at\"  \"the\"  \"Presale\"  \"Box\"  \"Office\"  \"2015\"  \"When\"  \"the\"  \"Future\"  \"Was\"  \"Bright\"  \"in\"  \"‘Back\"  \"to\"  \"the\"  \"Future’\"  \"New\"  \"York\"  \"raquo\"  \"New\"  \"York\"  \"Says\"  \"Farewell\"  \"to\"  \"American\"  \"Bible\"  \"Society\"  \"and\"  \"Its\"  \"Building\"  \"New\"  \"York\"  \"State\"  \"Hires\"  \"Monitor\"  \"for\"  \"City’s\"  \"Foster\"  \"Care\"  \"System\"  \"Test\"  \"Scores\"  \"Decline\"  \"as\"  \"New\"  \"Jersey\"  \"Aligns\"  \"Exams\"  \"With\"  \"Common\"  \"Core\"  \"Sports\"  \"raquo\"  \"Mets\"  \"5\"  \"Cubs\"  \"2\"  \"A\"  \"Cubs\"  \"Wild\"  \"Pitch\"  \"Has\"  \"the\"  \"Mets\"  \"Ready\"  \"to\"  \"Cut\"  \"Loose\"  \"Best\"  \"of\"  \"Times\"  \"in\"  \"Wrigleyville\"  \"for\"  \"a\"  \"Moment\"  \"On\"  \"Baseball\"  \"Needing\"  \"Help\"  \"Cubs\"  \"Instead\"  \"Revive\"  \"HardLuck\"  \"Past\"  \"Theater\"  \"raquo\"  \"Review\"  \"‘Ripcord’\"  \"a\"  \"Comic\"  \"Tale\"  \"of\"  \"Adversaries\"  \"New\"  \"York\"  \"Theater\"  \"Workshop\"  \"Rides\"  \"a\"  \"Wave\"  \"With\"  \"Care\"  \"Review\"  \"‘Futurity’\"  \"in\"  \"a\"  \"Civil\"  \"War\"  \"Setting\"  \"Wishes\"  \"for\"  \"Today’s\"  \"Technology\"  \"Science\"  \"raquo\"  \"George\"  \"Mueller\"  \"Engineer\"  \"Who\"  \"Helped\"  \"Put\"  \"Man\"  \"on\"  \"Moon\"  \"Dies\"  \"at\"  \"97\"  \"Raw\"  \"Data\"  \"Struggling\"  \"to\"  \"Get\"  \"a\"  \"Handle\"  \"on\"  \"the\"  \"Flavorful\"  \"Neutrino\"  \"Matter\"  \"Editing\"  \"of\"  \"Pig\"  \"DNA\"  \"May\"  \"Lead\"  \"to\"  \"More\"  \"Organs\"  \"for\"  \"People\"  \"Obituaries\"  \"raquo\"  \"Gamal\"  \"alGhitani\"  \"Egyptian\"  \"Novelist\"  \"Dies\"  \"at\"  \"70\"  \"Vera\"  \"B\"  \"Williams\"  \"Who\"  \"Brought\"  \"the\"  \"Working\"  \"Class\"  \"to\"  \"Children8217s\"  \"Books\"  \"Dies\"  \"at\"  \"88\"  \"Pat\"  \"Woodell\"  \"‘Petticoat\"  \"Junction’\"  \"Actress\"  \"Dies\"  \"at\"  \"71\"  \"Television\"  \"raquo\"  \"On\"  \"Comedy\"  \"Political\"  \"Correctness\"  \"Isn’t\"  \"Ruining\"  \"Comedy\"  \"It’s\"  \"Helping\"  \"Cosby\"  \"Replaces\"  \"His\"  \"Longtime\"  \"Lawyer\"  \"With\"  \"‘Being\"  \"Mary\"  \"Jane’\"  \"Mara\"  \"Brock\"  \"Akil\"  \"Specializes\"  \"in\"  \"Portraits\"  \"of\"  \"Black\"  \"Women\"  \"Health\"  \"raquo\"  \"American\"  \"Cancer\"  \"Society\"  \"in\"  \"a\"  \"Shift\"  \"Recommends\"  \"Fewer\"  \"Mammograms\"  \"New\"  \"Mammogram\"  \"Recommendations\"  \"A\"  \"Guide\"  \"23andMe\"  \"Will\"  \"Resume\"  \"Giving\"  \"Users\"  \"Health\"  \"Data\"  \"Travel\"  \"raquo\"  \"QA\"  \"Taking\"  \"a\"  \"Path\"  \"of\"  \"Conservation\"  \"to\"  \"Tourism\"  \"The\"  \"Getaway\"  \"Want\"  \"to\"  \"Visit\"  \"South\"  \"Africa\"  \"How\"  \"to\"  \"Survive\"  \"a\"  \"Long\"  \"Flight\"  \"In\"  \"Transit\"  \"An\"  \"App\"  \"for\"  \"Gay\"  \"Travelers\"  \"That\"  \"Focuses\"  \"on\"  \"the\"  \"Social\"  \"Books\"  \"raquo\"  \"Books\"  \"of\"  \"The\"  \"Times\"  \"Review\"  \"Orhan\"  \"Pamuk’s\"  \"‘A\"  \"Strangeness\"  \"in\"  \"My\"  \"Mind’\"  \"Books\"  \"of\"  \"The\"  \"Times\"  \"Review\"  \"‘Career\"  \"of\"  \"Evil’\"  \"JK\"  \"Rowling’s\"  \"Grisly\"  \"Crime\"  \"Novel\"  \"From\"  \"the\"  \"Ear\"  \"to\"  \"the\"  \"Page\"  \"the\"  \"‘Night\"  \"Vale’\"  \"Podcast\"  \"Becomes\"  \"a\"  \"Novel\"  \"Education\"  \"raquo\"  \"Palo\"  \"Alto\"  \"Journal\"  \"At\"  \"Stanford\"  \"Relationship\"  \"Reveals\"  \"Accusations\"  \"of\"  \"Discrimination\"  \"Feature\"  \"The\"  \"Strange\"  \"Case\"  \"of\"  \"Anna\"  \"Stubblefield\"  \"Family\"  \"of\"  \"Ahmed\"  \"Mohamed\"  \"Student\"  \"Clockmaker\"  \"to\"  \"Move\"  \"to\"  \"Qatar\"  \"Food\"  \"raquo\"  \"Restaurant\"  \"Review\"  \"Bruno\"  \"in\"  \"the\"  \"East\"  \"Village\"  \"Not\"  \"Enough\"  \"Cooks\"  \"in\"  \"the\"  \"Restaurant\"  \"Kitchen\"  \"Setting\"  \"the\"  \"Oven\"  \"to\"  \"‘Broil’\"  \"Sunday\"  \"Review\"  \"raquo\"  \"Opinion\"  \"Overselling\"  \"BreastFeeding\"  \"Editorial\"  \"Ending\"  \"the\"  \"Cycle\"  \"of\"  \"Racial\"  \"Isolation\"  \"Frank\"  \"Bruni\"  \"An\"  \"Admissions\"  \"Surprise\"  \"From\"  \"the\"  \"Ivy\"  \"League\"  \"Real\"  \"Estate\"  \"raquo\"  \"Living\"  \"In\"  \"Woodhaven\"  \"Queens\"  \"Subway\"  \"Stops\"  \"and\"  \"Hiking\"  \"Trails\"  \"Block\"  \"by\"  \"Block\"  \"Fort\"  \"Greene\"  \"Living\"  \"In\"  \"Fort\"  \"Greene\"  \"Brooklyn\"  \"A\"  \"Neighborhood\"  \"With\"  \"Many\"  \"Faces\"  \"The\"  \"Upshot\"  \"raquo\"  \"The\"  \"Road\"  \"to\"  \"2016\"  \"Bernie\"  \"Sanders\"  \"Democratic\"  \"Socialist\"  \"Capitalist\"  \"Tuesday\"  \"Morning\"  \"Quarterback\"  \"More\"  \"Safety\"  \"and\"  \"More\"  \"Points\"  \"in\"  \"Football\"  \"Go\"  \"Figure\"  \"Numbers\"  \"Take\"  \"a\"  \"Star\"  \"Turn\"  \"on\"  \"World\"  \"Statistics\"  \"Day\"  \"Magazine\"  \"raquo\"  \"First\"  \"Words\"  \"The\"  \"Soft\"  \"Evidence\"  \"Behind\"  \"the\"  \"Hard\"  \"Rhetoric\"  \"of\"  \"‘Deterrence’\"  \"On\"  \"Money\"  \"You’re\"  \"Not\"  \"Supposed\"  \"to\"  \"Understand\"  \"the\"  \"Federal\"  \"Reserve\"  \"Feature\"  \"The\"  \"Strange\"  \"Case\"  \"of\"  \"Anna\"  \"Stubblefield\"  \"Automobiles\"  \"raquo\"  \"Takata\"  \"and\"  \"Honda\"  \"Kept\"  \"Quiet\"  \"on\"  \"Study\"  \"That\"  \"Questioned\"  \"Airbag\"  \"Propellant\"  \"Consumer\"  \"Reports\"  \"Stops\"  \"Recommending\"  \"the\"  \"Tesla\"  \"Volkswagen\"  \"Suspends\"  \"5th\"  \"Executive\"  \"in\"  \"Emissions\"  \"Scandal\"  \"T\"  \"Magazine\"  \"raquo\"  \"In\"  \"the\"  \"Air\"  \"Designers\"  \"Delight\"  \"in\"  \"the\"  \"Look\"  \"of\"  \"the\"  \"Ottoman\"  \"Era\"  \"Drinks\"  \"Four\"  \"New\"  \"Luxury\"  \"Spirits\"  \"Take\"  \"a\"  \"Page\"  \"From\"  \"the\"  \"Whisky\"  \"Playbook\"  \"By\"  \"the\"  \"Numbers\"  \"The\"  \"Serious\"  \"Business\"  \"of\"  \"Animated\"  \"Films\"  \"by\"  \"the\"  \"Numbers\"  \"Times\"  \"Insider\"  \"raquo\"  \"Ask\"  \"The\"  \"Times\"  \"How\"  \"Do\"  \"the\"  \"Leading\"  \"Presidential\"  \"Campaigns\"  \"Spend\"  \"Money\"  \"Differently\"  \"First\"  \"Glimpses\"  \"1871\"  \"The\"  \"NRA\"  \"and\"  \"a\"  \"‘Well\"  \"Regulated\"  \"Militia’\"  \"What\"  \"Happens\"  \"to\"  \"People\"  \"Who\"  \"Die\"  \"Alone\"  \"Real\"  \"Estate\"  \"raquo\"  \"Mortgages\"  \"Need\"  \"a\"  \"Mortgage\"  \"Keep\"  \"Debt\"  \"Levels\"  \"in\"  \"Check\"  \"By\"  \"LISA\"  \"PREVOST\"  \"A\"  \"borrower’s\"  \"debttoincome\"  \"ratio\"  \"is\"  \"one\"  \"of\"  \"the\"  \"most\"  \"critical\"  \"factors\"  \"in\"  \"the\"  \"loan\"  \"review\"  \"process\"  \"because\"  \"it\"  \"helps\"  \"determine\"  \"an\"  \"individual’s\"  \"ability\"  \"to\"  \"repay\"  \"More\"  \"Articles\"  \"in\"  \"the\"  \"Series\"  \"Search\"  \"for\"  \"Homes\"  \"for\"  \"Sale\"  \"or\"  \"Rent\"  \"Sell\"  \"Your\"  \"Home\"  \"nbsp\"  \"What\"  \"I\"  \"Love\"  \"Living\"  \"With\"  \"Friends\"  \"aka\"  \"Artwork\"  \"By\"  \"DAN\"  \"SHAW\"  \"Amanda\"  \"Benchley\"  \"an\"  \"author\"  \"of\"  \"8220Artists\"  \"Living\"  \"with\"  \"Art8221\"  \"lives\"  \"with\"  \"art\"  \"herself\"  \"More\"  \"Articles\"  \"in\"  \"the\"  \"Series\"  \"Most\"  \"Emailed\"  \"Most\"  \"Viewed\"  \"Recommended\"  \"for\"  \"you\"  \"Loading\"  \"Go\"  \"to\"  \"Home\"  \"Page\"  \"raquo\"  \"Site\"  \"Index\"  \"The\"  \"New\"  \"York\"  \"Times\"  \"News\"  \"World\"  \"US\"  \"Politics\"  \"NY\"  \"Business\"  \"Tech\"  \"Science\"  \"Health\"  \"Sports\"  \"Education\"  \"Obituaries\"  \"Todays\"  \"Paper\"  \"Corrections\"  \"Opinion\"  \"Todays\"  \"Opinion\"  \"OpEd\"  \"Columnists\"  \"Editorials\"  \"Contributing\"  \"Writers\"  \"OpEd\"  \"Contributors\"  \"Opinionator\"  \"Letters\"  \"Sunday\"  \"Review\"  \"Taking\"  \"Note\"  \"Room\"  \"for\"  \"Debate\"  \"Public\"  \"Editor\"  \"Video\"  \"Opinion\"  \"Arts\"  \"Todays\"  \"Arts\"  \"Art\"  \"Design\"  \"ArtsBeat\"  \"Books\"  \"Dance\"  \"Movies\"  \"Music\"  \"NYC\"  \"Events\"  \"Guide\"  \"Television\"  \"Theater\"  \"Video\"  \"Games\"  \"Video\"  \"Arts\"  \"Living\"  \"Automobiles\"  \"Crossword\"  \"Food\"  \"Education\"  \"Fashion\"  \"Style\"  \"Health\"  \"Jobs\"  \"Magazine\"  \"NYC\"  \"Events\"  \"Guide\"  \"Real\"  \"Estate\"  \"T\"  \"Magazine\"  \"Travel\"  \"Weddings\"  \"Celebrations\"  \"Listings\"  \"More\"  \"Classifieds\"  \"Tools\"  \"Services\"  \"Times\"  \"Topics\"  \"Public\"  \"Editor\"  \"NYC\"  \"Events\"  \"Guide\"  \"TV\"  \"Listings\"  \"Blogs\"  \"Multimedia\"  \"Photography\"  \"Video\"  \"NYT\"  \"Store\"  \"Times\"  \"Journeys\"  \"Subscribe\"  \"Manage\"  \"My\"  \"Account\"  \"Subscribe\"  \"Subscribe\"  \"Times\"  \"Insider\"  \"Home\"  \"Delivery\"  \"Digital\"  \"Subscriptions\"  \"NYT\"  \"Opinion\"  \"Crossword\"  \"Email\"  \"Newsletters\"  \"Alerts\"  \"Gift\"  \"Subscriptions\"  \"Corporate\"  \"Subscriptions\"  \"Education\"  \"Rate\"  \"Mobile\"  \"Applications\"  \"Replica\"  \"Edition\"  \"International\"  \"New\"  \"York\"  \"Times\"  \"copy\"  \"2015\"  \"The\"  \"New\"  \"York\"  \"Times\"  \"Company\"  \"Contact\"  \"Us\"  \"Work\"  \"With\"  \"Us\"  \"Advertise\"  \"Your\"  \"Ad\"  \"Choices\"  \"Privacy\"  \"Terms\"  \"of\"  \"Service\"  \"Terms\"  \"of\"  \"Sale\"  \"Site\"  \"Map\"  \"Help\"  \"Site\"  \"Feedback\"  \"Subscriptions\"  \"View\"  \"Mobile\"  \"Version\"  \n",
      "\n",
      "\n",
      "\n",
      "\n",
      "\n",
      "<각 단어별 출현빈도>\n",
      "{'Canada': 1, 'Sell': 1, 'all': 2, 'Lead': 2, 'copy': 1, 'Yoenis': 1, 'dynamic': 1, 'NYT': 2, 'Moon': 1, 'founded': 1, 'Take': 3, 'Films': 1, 'NYC': 3, 'ERIC': 1, 'superpower': 1, 'looking': 1, 'Cashless': 1, 'JESSICA': 1, 'Business': 7, 'Honda': 3, '0': 1, 'critical': 1, 'Nytimescom': 1, 'Western': 1, 'Words': 1, 'Commanding': 1, 'Not': 3, 'Now': 1, '348': 1, 'Day': 3, 'League': 2, 'JOSCELYN': 1, 'prepaid': 1, 'Canadian': 2, 'Sky': 1, 'regional': 1, 'Bruni': 2, 'Billion': 1, 'Hit': 1, 'Conversation': 1, 'Celebrations': 1, 'Tech': 2, 'reforms': 1, 'AUSTEN': 1, 'Force': 1, 'Pat': 1, 'Graduate': 1, 'Punishment': 1, 'Jersey': 1, 'treating': 1, 'Reveals': 3, 'Thomas': 1, 'Unbuttoned': 1, 'Hiking': 1, 'Tax': 1, 'Tesla': 2, 'race': 1, 'Go': 5, 'Paul': 1, 'George': 1, 'Index': 1, 'talked': 1, 'Discrimination': 3, 'Terms': 2, 'Recommending': 2, 'State': 1, 'Strange': 2, 'video': 1, 'Questioned': 2, 'Theater': 3, 'East': 3, 'Sections': 3, 'Campaigns': 3, 'Has': 1, 'SHAW': 1, 'Subscriptions': 5, 'Capitalist': 1, 'near': 1, 'spokesman': 1, 'Wrigleyville': 1, 'Cruz': 1, 'suspect': 1, 'Ambition': 2, 'Alone': 2, 'new': 1, 'deGrom': 1, 'Presidential': 3, 'Fort': 2, 'BreastFeeding': 1, 'turmoil': 1, 'Rhetoric': 1, 'Work': 1, 'chose': 1, 'Libya': 1, 'Care': 3, 'Professor': 1, 'Quiet': 3, 'Alexey': 1, 'met': 1, 'explore': 1, 'Contact': 1, 'Ferrari': 1, 'Supposed': 1, 'Rosters': 1, 'ratio': 1, 'SCHMIDT': 1, 'My': 2, 'search': 2, 'Clockmaker': 1, 'uphold': 1, 'Ibish': 1, 'Moments': 1, 'Tuesday': 3, '30': 1, 'Greene': 2, 'leaving': 1, 'trial': 1, 'Qaeda': 1, 'Regulated': 2, 'Palo': 2, 'Services': 1, 'military': 1, 'Air': 1, 'Concern': 1, 'changes': 1, 'helps': 1, 'Style': 4, 'campaign': 1, 'Reform': 1, 'Giving': 2, 'win': 1, 'Top': 1, 'Multimedia': 2, 'When': 1, 'Qatar': 1, 'Todays': 3, 'Contributing': 1, 'EU': 1, 'Enough': 2, 'Health': 7, 'ET': 11, 'Writers': 1, 'Specialist': 1, 'use': 1, 'from': 3, 'Explorer': 1, 'to': 44, 'Benchley': 1, 'Dies': 5, 'hospital': 1, 'visit': 1, 'Russia': 4, 'Automobiles': 2, 'Moment': 1, 'Levels': 1, 'Baseball': 1, 'Applications': 1, 'Rowling\\xe2\\x80\\x99s': 1, 'First': 3, 'more': 2, 'commissioner': 1, 'October': 1, '2016': 1, 'Frank': 1, 'Isolation': 1, 'Wednesday': 1, 'Feature': 2, '98': 1, 'American': 3, 'Listening': 1, 'Donations': 1, 'Editorial': 2, 'V': 2, 'Push': 1, 'Strategy': 1, '97': 1, 'City\\xe2\\x80\\x99s': 1, 'Affair': 1, 'Ear': 1, 'Feedback': 1, 'Family': 1, 'this': 1, 'veterans': 1, 'Cespedes': 1, 'Cyclists': 1, 'Ending': 1, 'Glitch': 1, 'minimum': 1, 'Video': 6, 'Numbers': 3, 'Travelers': 1, 'Advertisers': 1, 'Meditation': 3, 'Technology': 3, 'Image': 1, 'heart': 1, 'Police': 1, 'give': 1, 'Federal': 2, 'LEARN': 1, 'Revive': 1, 'DAVID': 1, 'IAN': 1, 'Speaker': 1, 'Bruno': 1, 'Accusations': 2, 'Digital': 1, 'offense': 1, 'times': 1, 'Proposal': 1, 'Benghazi': 3, 'Helped': 1, 'Putin': 3, 'Editorials': 1, 'Watching': 1, 'ordinance': 1, 'Journal': 2, 'returning': 1, 'Wave': 1, 'Admissions': 1, 'UN': 1, '\\xe2\\x80\\x98Futurity\\xe2\\x80\\x99': 1, 'if': 1, 'resignation': 1, 'A': 11, 'Television': 4, 'Asserting': 1, 'after': 1, 'Ryan': 1, 'Getaway': 1, 'Will': 2, 'Matter': 1, 'Healthier': 1, 'Version': 1, 'Whisky': 1, 'Martin': 1, 'Furious': 1, 'Syria': 4, 'Animated': 1, 'Corporate': 1, 'man': 1, 'a': 35, 'Subscribe': 3, 'Tallahassee': 2, 'Disaster': 1, 'Turn': 1, 'Civil': 2, 'Series': 3, '\\xe2\\x80\\x98Deterrence\\xe2\\x80\\x99': 1, 'Delight': 1, 'Topics': 1, 'Results': 1, 'One': 1, 'Player': 1, 'so': 1, 'a\\xc2\\xa0Store': 1, 'Signs': 1, 'Politics': 3, 'Gamal': 1, 'Anderson\\xe2\\x80\\x99s': 2, 'Racial': 1, 'What': 3, 'Who': 4, 'Stubblefield': 2, 'Transit': 1, 'Breaking': 1, 'cyclists': 1, '130': 1, 'including': 1, 'nbsp': 1, 'committee': 1, 'signs': 2, 'Common': 1, 'LIZ': 1, 'HardLuck': 1, 'Elbows': 2, 'His': 5, 'police': 1, '21': 1, 'ROSENBERG': 1, 'Resume': 2, 'Rules': 1, 'Friedman': 2, 'Brooks': 1, 'Ryan\\xe2\\x80\\x99s': 1, '2015': 3, 'Path': 3, 'weeks': 1, 'Adversaries': 2, 'Valuation': 1, '2012': 1, 'donors': 1, 'Alerts': 1, 'Debate': 1, 'Mobile': 2, 'Socialist': 1, 'practice': 1, 'L': 1, 'Choices': 1, 'Travels': 1, 'process': 1, 'Trudeau': 4, 'Cosby': 1, 'Era': 1, 'Agenda': 1, 'Southern': 1, 'not': 1, 'killed': 1, 'Help': 2, 'impresario': 1, 'Liberal': 1, 'San': 2, 'Their': 3, 'Skip': 2, 'World': 5, 'Children8217s': 1, 'Four': 1, 'Raw': 1, 'You\\xe2\\x80\\x99re': 1, 'Playbook': 1, 'Rubio\\xe2\\x80\\x99s': 2, 'debttoincome': 1, 'Flavor': 1, 'difficult': 1, 'Specter': 1, 'WILLIAMS': 1, 'Luxury': 1, 'Paying': 1, 'Arts': 6, 'Statistics': 1, 'From': 3, 'alAssad': 2, 'MacFARQUHAR': 1, 'Neutrino': 1, 'Stops': 3, 'Sports': 4, '88': 1, 'Setting': 2, 'our': 1, 'Ad': 1, 'More': 8, 'App': 1, 'Disappointing': 1, 'Dramatized': 1, 'tensions': 1, 'since': 1, 'alGhitani': 1, 'Wars': 1, 'content': 1, 'Job': 2, 'Joe': 1, 'Key': 1, 'debit': 1, 'current': 1, 'supports': 1, 'Class': 1, 'Scary': 1, 'earlier': 1, 'Join': 2, 'Strictly': 1, 'Sale': 2, 'Needing': 1, 'Delivery': 1, 'Future\\xe2\\x80\\x99': 1, 'members': 1, 'put': 1, 'Opinion': 13, 'Weddings': 1, 'Egg': 1, 'Spend': 3, 'Block': 2, '\\xe2\\x80\\x98Goodfellas\\xe2\\x80\\x99': 1, 'Evil\\xe2\\x80\\x99': 1, 'Education': 4, 'Clinton': 4, 'Contributors': 2, 'People': 3, 'Being': 1, 'Money': 4, 'could': 1, 'transition': 1, 'days': 1, 'NYTimescom': 2, 'Past': 1, 'ROHAN': 1, 'Email': 1, 'Human': 1, 'Comic': 2, 'Site': 3, 'Bin': 1, 'David': 1, 'first': 1, 'Brock': 1, '459': 1, 'Votes': 1, 'Working': 1, 'Review': 11, 'Please': 1, 'Asia': 1, 'one': 2, 'Aligns': 1, 'Black': 2, 'Longtime': 1, '1871': 2, 'art': 1, 'clarity': 1, 'Putin\\xe2\\x80\\x99s': 1, 'story': 2, 'District': 1, 'Conservation': 1, 'Prison': 1, 'Becomes': 1, 'Symbol': 1, 'system': 1, 'least': 1, 'Volkswagen': 1, 'anyone': 1, 'their': 2, 'attack': 1, '2': 2, 'Mind\\xe2\\x80\\x99': 1, '\\xe2\\x80\\x98Ripcord\\xe2\\x80\\x99': 2, 'Queens': 1, 'View': 1, 'Data': 3, '\\xe2\\x80\\x98Petticoat': 1, 'Drink': 1, 'Search': 4, 'B': 1, 'Case': 2, 'Justin': 4, 'that': 4, 'Artwork': 1, 'Roosevelt': 1, 'GOODMAN': 1, 'Edge': 1, 'Long': 1, '\\xe2\\x80\\x9ctoo': 1, 'Letters': 1, 'Democratic': 1, 'herself': 1, 'Todayrsquos': 2, 'Road': 1, 'Love': 1, 'Cancer': 1, 'favors': 1, 'Puzzle': 2, 'legalize': 1, '\\xe2\\x80\\x98Broil\\xe2\\x80\\x99': 1, 'there\\xe2\\x80\\x9d': 1, 'don\\xe2\\x80\\x99t': 1, 'Store': 1, 'future': 1, 'Sexism': 1, 'cards': 1, 'LISA': 1, 'Advertise': 1, 'browser': 1, 'and': 35, 'Court': 1, 'Trudeaus': 1, 'Propellant': 2, 'Grisly': 1, 'THOMAS': 1, '\\xe2\\x80\\x98Being': 1, 'airstrike': 1, 'have': 1, 'sentences': 1, 'Instead': 1, 'Valley': 1, 'It\\xe2\\x80\\x99s': 1, 'Kremlin': 1, 'Williams': 1, 'EMMARIE': 1, 'RushCard': 1, 'Do': 3, 'Focuses': 1, 'Flight': 1, 'Users': 2, 'Power': 2, 'Middle': 1, 'Food': 8, 'Rides': 1, 'Murphy': 1, 'Understand': 1, 'Arab': 1, '321': 4, 'Focused': 1, 'forces': 1, 'Ask': 1, 'Farewell': 1, 'With': 9, 'Psychoanalyzing': 1, 'Presale': 1, '\\xe2\\x80\\x98Well': 2, 'Blogs': 1, 'who': 1, 'Check': 1, 'Reports': 2, 'most': 1, 'hiphop': 1, 'Without': 2, 'sponsored': 1, 'plan': 1, '71': 1, 'Enter': 1, 'Your': 2, 'The': 25, 'Akil': 1, 'approved': 1, 'Bernie': 1, 'repay': 1, 'Promises': 1, 'Account': 1, '8220Artists': 1, 'Tools': 1, 'NRA': 2, 'Actress': 1, 'Are': 3, 'QA': 1, 'raquo': 34, 'Want': 4, 'pennant': 1, 'left': 1, 'normally': 1, 'Its': 1, 'Viewed': 1, 'Emissions': 1, 'Foster': 1, 'Turkey\\xe2\\x80\\x99s': 1, 'Loose': 1, 'shot': 1, 'Monitor': 1, 'show': 1, 'text': 1, 'SCHMITT': 1, 'Political': 2, 'ending': 1, 'Loading': 2, 'Differently': 3, 'JK': 1, 'Test': 1, 'Simmons': 1, 'longer': 1, 'Public': 2, 'Anna': 2, 'staff': 1, 'Militia\\xe2\\x80\\x99': 2, 'access': 1, 'We': 1, 'upgrade': 1, 'Mercantile': 1, 'Service': 1, 'Safety': 1, 'loan': 1, 'Consumer': 2, 'Photography': 1, 'Republicans': 1, 'behind': 1, 'crime': 1, 'only': 1, 'York': 9, 'money': 1, 'Jacob': 1, 'thousands': 1, 'Pool': 1, 'Fiat': 1, 'Homes': 1, 'Luther': 1, 'his': 3, 'triangle': 1, 'Overselling': 1, 'Heist': 1, 'stop': 1, 'Fewer': 1, 'Keep': 2, 'joint': 1, 'Magazine': 7, 'Stories': 1, 'Recommendations': 1, 'Isn\\xe2\\x80\\x99t': 1, 'during': 2, 'THE': 1, 'Upshot': 1, 'Wild': 1, 'Leaders': 1, 'Editor': 2, 'Over': 3, 'Move': 1, 'yield': 1, 'Disabled': 1, 'Gowdy': 1, 'Bright': 1, 'common': 1, 'Oven': 1, 'Portraits': 1, '137': 1, 'fertility': 1, '23andMe': 2, 'secretary': 1, 'Afghanistan': 2, 'bars': 1, 'mandatory': 1, 'For': 1, 'Flavorful': 1, 'Hospital': 1, 'schizophrenic': 1, 'Art8221': 1, 'Recommended': 1, 'officials': 1, 'are': 2, 'Classifieds': 1, 'Units': 1, 'Quarterback': 1, '830': 1, 'said': 2, 'Run': 1, 'Gift': 1, 'That': 3, 'movie': 1, 'review': 1, 'Rise': 2, 'Relationship': 2, 'state': 1, 'Representative': 1, 'author': 1, '120th': 1, 'Kitchen': 3, 'King': 1, 'Kaufmann': 1, 'Bible': 1, 'ability': 1, 'Settings': 1, 'Scores': 1, 'masterful': 1, 'Today\\xe2\\x80\\x99s': 2, 'Trey': 1, 'S': 1, 'Marco': 2, 'Subway': 1, 'OpEd': 5, 'Mammogram': 1, 'Shielding': 1, 'Friends': 1, 'Honor': 1, 'Privacy': 1, 'Mets': 5, 'Neighborhood': 1, '22': 1, 'Replica': 1, 'career': 1, 'many': 1, 'Hard': 1, 'against': 1, 'Osama': 1, 'Design': 1, 'Lawyer': 1, 'Jane\\xe2\\x80\\x99': 1, 'Novelist': 1, 'Engineer': 1, 'Syrian': 2, 'Company': 1, 'Mohamed': 1, 'Drinks': 1, 'Decline': 1, 'Junction\\xe2\\x80\\x99': 1, 'Log': 1, 'Would': 1, 'had': 2, 'Travel': 3, 'Faces': 1, 'ArtsBeat': 1, 'Note': 1, 'Crackdown': 1, 'Music': 1, 'Way': 2, 'cousin': 1, 'SILVERGREENBERG': 1, 'Borders': 1, 'Was': 1, 'War': 3, 'custody': 1, 'Mammograms': 1, 'Play': 2, 'Sure': 2, 'videos': 1, 'Get': 2, 'Amanda': 1, 'political': 1, 'Yahoo': 1, 'been': 1, 'Fueled': 3, 'Hillary': 3, 'Obituaries': 2, 'treat': 1, '508': 1, 'Doctors': 1, 'Glimpses': 1, 'Editing': 1, 'Articles': 2, '500': 1, 'pm': 1, 'life': 1, 'partly': 1, 'panel\\xe2\\x80\\x99s': 1, 'Hands': 1, 'else': 1, 'Credit': 1, 'Listings': 2, 'Points': 1, 'lives': 1, 'Soft': 1, 'Map': 1, 'News': 6, 'usurped': 1, 'Claims': 1, 'Vincent': 1, 'America\\xe2\\x80\\x99s': 1, 'Events': 3, 'Podcast': 1, 'Old': 1, 'Journeys': 1, 'Druzhinin': 1, 'Museum': 1, 'BILL': 1, 'as': 3, 'Dance': 1, 'while': 1, 'Workshop': 1, 'Phones': 2, 'Vera': 1, 'Sanders': 1, 'MORE': 1, 'Building': 1, 'seven': 1, 'Crimes': 1, 'individual\\xe2\\x80\\x99s': 1, 'Takata': 3, 'On': 3, 'is': 5, '5th': 1, 'it': 2, 'Couch': 1, 'MATTHEW': 1, 'longsimmering': 1, 'in': 36, 'You': 5, 'PREVOST': 1, 'Outsiders': 1, 'D': 2, 'Pushed': 1, 'shortchanges': 1, 'began': 1, 'belong': 1, 'Stop': 1, 'parts': 1, 'speaker': 1, 'Kunduz': 1, 'Die': 2, '9': 1, 'President': 4, 'struggling': 1, 'Panel': 1, 'Dog\\xe2\\x80\\x99': 3, 'Specializes': 1, 'Room': 1, 'Wins': 1, 'Mueller': 1, 'I': 1, 'Asaro': 1, 'Clear': 1, 'Immigrants': 1, 'JENNIFER': 2, 'Movies': 3, 'Recommends': 1, 'Home': 3, 'Handle': 1, 'Morning': 1, 'borrower\\xe2\\x80\\x99s': 1, 'aka': 1, 'HUETTEMAN': 1, 'Own': 3, 'Says': 2, 'Figure': 1, 'charges': 1, 'navigation': 1, 'Is': 2, 'Egyptian': 1, 'It': 1, 'Son': 2, 'TV': 2, 'Rate': 1, 'unannounced': 1, 'Rent': 1, 'Have': 1, 'In': 5, 'Need': 1, 'the': 65, 'Randolph': 1, 'DAN': 1, 'Officer': 1, 'Living': 5, 'After': 3, 'Russell': 1, 'proposed': 1, 'photo': 1, 'Serious': 1, 'Social': 1, 'Crime': 1, 'assigned': 1, 'TIM': 1, 'Sunday': 2, 'Daniel': 1, 'Unites': 1, 'comprehensively': 1, 'Internet': 1, '\\xe2\\x80\\x98Night': 1, 'Surprise': 1, 'Comedy': 3, 'previous': 1, 'Laurie': 2, 'Debt': 1, 'Jobs': 1, 'Mortgage': 1, 'Gay': 1, 'Losing': 1, 'Advice': 1, 'Football': 1, 'seems': 1, 'Edsall': 1, 'Cooks': 2, 'Starbucks': 1, '\\xe2\\x80\\x98Heart': 3, 'prison': 1, '\\xe2\\x80\\x98Back': 1, 'input': 1, 'Ethics': 1, 'has': 2, 'By': 14, 'Evidence': 1, 'Alto': 2, 'Rodham': 1, 'NEIL': 1, 'around': 1, 'Restaurant': 3, 'Follows': 2, 'Taking': 2, 'Headphones': 1, 'Cycle': 1, 'That\\xe2\\x80\\x99s': 1, 'Tale': 2, 'T': 3, 'Art': 1, 'Harlem': 1, 'you': 1, 'Fashion': 2, 'Shot': 1, 'like': 1, 'Newsletters': 1, 'EDITORIAL': 1, 'Behind': 1, 'Pig': 1, 'SOUTHALL': 1, 'officer': 1, 'Columnists': 1, 'Airbag': 3, 'Sharp': 2, '\\xe4\\xb8\\xad\\xe6\\x96\\x87': 1, '\\xe2\\x80\\x98A': 1, 'Find': 2, 'Happens': 2, 'Again': 1, 'Little': 1, 'because': 1, 'old': 1, 'Mara': 1, 'people': 2, 'DNA': 1, 'System': 1, 'Crossword': 4, 'Offers': 1, 'Nocera': 1, 'factors': 1, 'Study': 3, 'New': 17, 'stir': 1, 'Struggling': 1, 'Pamuk\\xe2\\x80\\x99s': 1, 'Life': 1, 'ASHLEY': 1, 'for': 23, 'SelfInflicted': 1, 'Moscow': 3, 'Leader': 5, 'Wishes': 1, 'Facebook': 1, 'Cubs': 5, 'Visit': 1, 'Put': 1, 'Holder': 1, 'He': 1, 'Box': 1, 'TIMOTHY': 1, 'School': 1, 'Replaces': 1, 'Look': 3, 'power': 1, 'Core': 1, 'Correctness': 2, 'Inside': 2, 'Partition': 1, 'MICHAEL': 1, 'Us': 2, 'Times': 13, 'Mortgages': 1, 'Ready': 1, 'Perception': 1, '\\xe2\\x80\\x98Career': 1, 'Suspends': 1, 'Star': 1, 'Ahmed': 1, 'by': 8, 'troops': 1, 'on': 17, 'about': 2, 'carried': 1, 'Strangeness': 1, 'of': 49, 'Emojis': 2, 'Laden\\xe2\\x80\\x99s': 1, 'US': 7, 'Agrees': 1, 'Paper': 2, 'Africa': 1, 'Questions': 3, 'testimony': 1, 'Images': 1, 'Ottoman': 1, 'Trails': 1, 'or': 2, 'Best': 1, 'Exams': 1, 'raised': 1, 'Cut': 2, 'Gamers': 1, 'payment': 1, 'into': 1, '70': 1, 'Woodell': 1, 'Insider': 3, 'Draft': 1, 'Ruining': 1, 'determine': 1, 'roads': 1, 'Survive': 1, 'next': 1, 'your': 1, 'Awakens\\xe2\\x80\\x99': 1, 'Edition': 1, 'MOYER': 1, 'Most': 2, 'Woodhaven': 1, 'Corrections': 1, 'Brooklyn': 2, 'GOP': 1, 'Break': 1, 'NY': 2, 'User': 1, 'BOARD': 1, 'Excellent': 1, 'Panel\\xe2\\x80\\x99s': 2, 'Assad': 1, 'Reserve': 1, 'was': 4, 'Discuss': 1, 'Stirs': 1, 'Plan': 2, 'head': 2, 'Kept': 3, 'Gadgetwise': 1, 'clinics': 1, 'Science': 3, 'J': 1, 'Silicon': 1, 'Vale\\xe2\\x80\\x99': 1, 'Tourism': 1, 'Orhan': 1, 'Age': 1, 'Franklin': 1, 'Games': 1, 'Emailed': 1, 'Opinionator': 1, 'pitched': 1, 'role': 1, 'with': 4, 'Guide': 4, 'he': 1, 'Designers': 1, 'Tone': 1, 'romantic': 1, 'Office': 1, 'Wall': 1, 'House': 2, 'Ted': 1, 'up': 1, 'us': 1, 'Society': 2, 'Books': 5, 'abuses': 1, 'Close': 1, 'dean\\xe2\\x80\\x99s': 1, 'Women': 2, 'Ivy': 1, '\\xc2\\xbb': 2, '150': 1, 'STEINHAUER': 2, 'Executive': 1, 'Spirits': 1, '157': 1, 'Wordplay': 1, 'an': 4, 'How': 7, 'Attack': 2, 'Novel': 2, 'at': 13, 'International': 2, 'politics': 1, '\\xe2\\x80\\x98Star': 1, 'Center': 1, 'Real': 4, 'innings': 1, 'Francisco': 2, 'Hires': 1, 'no': 2, 'May': 2, 'credibility': 1, 'drivers': 1, 'when': 1, 'As': 1, 'handed': 1, 'Mary': 1, 'Helping': 2, 'Takes': 2, 'other': 1, '5': 2, '\\xe2\\x80\\x9cGoodfellas\\xe2\\x80\\x9d': 1, 'Student': 1, 'Many': 1, 'Manage': 1, 'Pages': 1, 'Man': 3, 'Customer': 1, 'Loss': 3, 'Vladimir': 2, 'Stanford': 3, 'Shift': 1, 'Village': 1, 'AM': 11, 'Drive': 1, 'Future': 1, 'allowing': 1, 'Bashar': 2, 'Leading': 3, 'Page': 3, 'South': 1, 'ROGGIO': 1, '\\xe2\\x80\\x94': 2, 'Estate': 4, 'nbspComments': 4, 'Al': 1, 'An': 2, 'Brought': 1, '2000': 1, 'Street': 1, 'At': 2, 'Pitch': 1, 'push': 1, 'Scandal': 1, 'platter': 1, 'Organs': 1, 'decision': 1}\n"
     ]
    }
   ],
   "source": [
    "import urllib\n",
    "import re #특수문자 제거를 위함\n",
    "\n",
    "source = urllib.urlopen(\"http://www.nytimes.com\").read()\n",
    "len_source = len(source)\n",
    "\n",
    "dic={} #각 단어들의 출현빈도를 사전형태로 저장\n",
    "\n",
    "source_new = None\n",
    "i = 0\n",
    "while (i < len_source):\n",
    "\tfound = False\n",
    "\tif (found != True and source[i] == \"<\" and source[i+1 : i+7].lower() == \"script\"):\n",
    "\t\tfound = True;\n",
    "\t\tj = i + 7;\n",
    "\t\twhile (True):\n",
    "\t\t\tif (source[j] == \"<\" and source[j+1] == \"/\" and source[j+2 : j+8].lower() == \"script\"):\n",
    "\t\t\t\t#print \"found - script\"\n",
    "\t\t\t\tsource = source[:i] + ' ' + source[j+9:]\n",
    "\t\t\t\tbreak\n",
    "\t\t\tj = j + 1\n",
    "\t\t\tif (j > len_source):\n",
    "\t\t\t\tbreak\n",
    "\t\tlen_source = len(source)\n",
    "\ti = i + 1\n",
    "\n",
    "len_source = len(source)\n",
    "\n",
    "i = 0\n",
    "while (i < len_source):\n",
    "\tfound = False\n",
    "\tif (found != True and source[i] == \"<\" and source[i+1 : i+6].lower() == \"style\"):\n",
    "\t\tfound = True;\n",
    "\t\tj = i + 6;\n",
    "\t\twhile (True):\n",
    "\t\t\tif (source[j] == \"<\" and source[j+1] == \"/\" and source[j+2 : j+7].lower() == \"style\"):\n",
    "\t\t\t\t#print \"found - style\"\n",
    "\t\t\t\tsource = source[:i] + ' ' + source[j+8:]\n",
    "\t\t\t\tbreak\n",
    "\t\t\tj = j + 1\n",
    "\t\t\tif (j > len_source):\n",
    "\t\t\t\tbreak\n",
    "\t\tlen_source = len(source)\n",
    "\ti = i + 1\n",
    "\n",
    "len_source = len(source)\n",
    "\n",
    "i = 0\n",
    "while (i < len_source):\n",
    "\tfound = False\n",
    "\tif (found != True and source[i] == \"<\"):\n",
    "\t\tfound = True;\n",
    "\t\tj = i + 1;\n",
    "\t\twhile (True):\n",
    "\t\t\tif (source[j] == \">\"):\n",
    "\t\t\t\t#print \"found - HTML tag\"\n",
    "\t\t\t\tsource = source[:i] + ' ' + source[j+1:]\n",
    "\t\t\t\tbreak\n",
    "\t\t\tj = j + 1\n",
    "\t\t\tif (j > len_source):\n",
    "\t\t\t\tbreak\n",
    "\t\tlen_source = len(source)\n",
    "\ti = i + 1\n",
    "\n",
    "words = source.split()\n",
    "\n",
    "print '<순수 텍스트 단어들>'\n",
    "for word in words:\n",
    "    word=re.sub('[^가-힝0-9a-zA-Z\\\\s]', '', word) #특수문자 제거\n",
    "    if word!='':\n",
    "        if(dic.get(word) == None):\n",
    "            dic[word] = 1\n",
    "        else:\n",
    "            dic[word] += 1\n",
    "        print '\"' + word + '\" ',\n",
    "        \n",
    "print '\\n'*5\n",
    "\n",
    "print '<각 단어별 출현빈도>'\n",
    "print dic"
   ]
  },
  {
   "cell_type": "markdown",
   "metadata": {},
   "source": [
    "##프로젝트 오일러 7, 8, 9"
   ]
  },
  {
   "cell_type": "markdown",
   "metadata": {},
   "source": [
    "7) 소수 중 처음 6개를 나열하면 2, 3, 5, 7, 11, 13 이다. 이 때 6번째 소수는 13이다. 10001번째 소수는 무엇인가?"
   ]
  },
  {
   "cell_type": "code",
   "execution_count": 30,
   "metadata": {
    "collapsed": false
   },
   "outputs": [
    {
     "name": "stdout",
     "output_type": "stream",
     "text": [
      "104743\n"
     ]
    }
   ],
   "source": [
    "def isprime(n):\n",
    "    n = abs(int(n))\n",
    "    if n < 2:\n",
    "        return False\n",
    "    if n == 2:\n",
    "        return True\n",
    "    if not n & 1:\n",
    "        return False\n",
    "    for x in range(3, int(n ** 0.5) + 1, 2):\n",
    "        if n % x == 0:\n",
    "            return False\n",
    "    return True\n",
    " \n",
    "def main():\n",
    "   \n",
    "    Switch = 1\n",
    "    number = 1\n",
    "    primes = 1 \n",
    "    while Switch == 1:\n",
    "        if isprime(number):\n",
    "            primes += 1\n",
    "        if primes == 10001: \n",
    "            print number\n",
    "            Switch = 0\n",
    "        number += 2\n",
    "if __name__ == '__main__':\n",
    "    main()\n",
    " "
   ]
  },
  {
   "cell_type": "markdown",
   "metadata": {},
   "source": [
    "8) 다음은 연속된 1000자리 숫자입니다 (읽기 좋게 50자리씩 잘라놓음). 여기서 붉게 표시된 71112의 경우 7, 1, 1, 1, 2 각 숫자를 모두 곱하면 14가 됩니다.이런 식으로 맨 처음 (7 × 3 × 1 × 6 × 7 = 882) 부터 맨 끝 (6 × 3 × 4 × 5 × 0 = 0) 까지 5자리 숫자들의 곱을 구할 수 있습니다. 이렇게 구할 수 있는 5자리 숫자의 곱 중에서 가장 큰 값은 얼마입니까?"
   ]
  },
  {
   "cell_type": "code",
   "execution_count": 34,
   "metadata": {
    "collapsed": false
   },
   "outputs": [
    {
     "name": "stdout",
     "output_type": "stream",
     "text": [
      "23514624000\n"
     ]
    }
   ],
   "source": [
    "def produit(nbs):\n",
    "    prod = 1\n",
    "    for i in nbs:\n",
    "        prod *= int(i)\n",
    "    return prod\n",
    "chiffres = \"73167176531330624919225119674426574742355349194934\\\n",
    "96983520312774506326239578318016984801869478851843\\\n",
    "85861560789112949495459501737958331952853208805511\\\n",
    "12540698747158523863050715693290963295227443043557\\\n",
    "66896648950445244523161731856403098711121722383113\\\n",
    "62229893423380308135336276614282806444486645238749\\\n",
    "30358907296290491560440772390713810515859307960866\\\n",
    "70172427121883998797908792274921901699720888093776\\\n",
    "65727333001053367881220235421809751254540594752243\\\n",
    "52584907711670556013604839586446706324415722155397\\\n",
    "53697817977846174064955149290862569321978468622482\\\n",
    "83972241375657056057490261407972968652414535100474\\\n",
    "82166370484403199890008895243450658541227588666881\\\n",
    "16427171479924442928230863465674813919123162824586\\\n",
    "17866458359124566529476545682848912883142607690042\\\n",
    "24219022671055626321111109370544217506941658960408\\\n",
    "07198403850962455444362981230987879927244284909188\\\n",
    "84580156166097919133875499200524063689912560717606\\\n",
    "05886116467109405077541002256983155200055935729725\\\n",
    "71636269561882670428252483600823257530420752963450\"\n",
    "resultat = 0\n",
    "for i in range(len(chiffres)-13):\n",
    "    prod = produit(chiffres[i:i+13])\n",
    "    if prod > resultat:\n",
    "        resultat = prod\n",
    "print(resultat)"
   ]
  },
  {
   "cell_type": "markdown",
   "metadata": {},
   "source": [
    "9) 세 자연수 a, b, c 가 피타고라스 정리 a2 + b2 = c2 를 만족하면 피타고라스 수라고 부릅니다 (여기서 a < b < c ).\n",
    "예를 들면 32 + 42 = 9 + 16 = 25 = 52이므로 3, 4, 5는 피타고라스 수입니다. a + b + c = 1000 인 피타고라스 수 a, b, c는 한 가지 뿐입니다. 이 때, a × b × c 는 얼마입니까?"
   ]
  },
  {
   "cell_type": "code",
   "execution_count": 35,
   "metadata": {
    "collapsed": false
   },
   "outputs": [
    {
     "name": "stdout",
     "output_type": "stream",
     "text": [
      "31875000\n"
     ]
    }
   ],
   "source": [
    "c = 335\n",
    "b = 334\n",
    "a = 1000 - c - b\n",
    "while a + b + c != 1000 or a**2 + b**2 != c**2:\n",
    "    if a > b or b == 2:\n",
    "        c += 1\n",
    "        b = c - 1\n",
    "    b -= 1\n",
    "    a = 1000 - c - b\n",
    "print(a*b*c)"
   ]
  },
  {
   "cell_type": "markdown",
   "metadata": {},
   "source": [
    " python 학습에 도움이 많이 된 과제였습니다. "
   ]
  }
 ],
 "metadata": {
  "kernelspec": {
   "display_name": "Python 2",
   "language": "python",
   "name": "python2"
  },
  "language_info": {
   "codemirror_mode": {
    "name": "ipython",
    "version": 2
   },
   "file_extension": ".py",
   "mimetype": "text/x-python",
   "name": "python",
   "nbconvert_exporter": "python",
   "pygments_lexer": "ipython2",
   "version": "2.7.9"
  }
 },
 "nbformat": 4,
 "nbformat_minor": 0
}
