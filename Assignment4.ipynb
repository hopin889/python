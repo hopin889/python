{
 "cells": [
  {
   "cell_type": "markdown",
   "metadata": {},
   "source": [
    "##1. 파일 s.txt 내의 다음 내용과 함께 아래 문제의 코드를 제시하시오."
   ]
  },
  {
   "cell_type": "code",
   "execution_count": 2,
   "metadata": {
    "collapsed": true
   },
   "outputs": [],
   "source": [
    "a=\"\"\"pig ham\n",
    "cat dog\n",
    "ham bird\n",
    "dog pig\"\"\"\n",
    "\n",
    "f = open('s.txt', 'w')\n",
    "f.write(a)\n",
    "f.close()"
   ]
  },
  {
   "cell_type": "markdown",
   "metadata": {},
   "source": [
    "1) 파일 s.txt을 읽어서 각 라인에 있는 첫 번째 단어(문자열) 자체들을 기준으로 라인별 정렬후 파일 s1.txt에 그 결과를 기록하는 코드를 작성"
   ]
  },
  {
   "cell_type": "code",
   "execution_count": 3,
   "metadata": {
    "collapsed": false
   },
   "outputs": [
    {
     "name": "stdout",
     "output_type": "stream",
     "text": [
      "cat dog\n",
      "dog pig\n",
      "ham bird\n",
      "pig ham\n",
      "\n"
     ]
    }
   ],
   "source": [
    "aa=[] #라인별로 문자열을 쪼개고 그것을 저장하는 리스트 변수\n",
    "f = open('s.txt', 'r')\n",
    "for line in f.readlines(): #line수만큼 실행\n",
    "    temp = line.split() #라인의 문자열을 쪼갠다.\n",
    "    aa.append(temp) #쪼개진 문자열 리스트들을 리스트에 저장\n",
    "aa.sort(key=lambda item:item[0]) #각 라인의 첫 번째 단어를 \n",
    "f.close()                        #기준으로 정렬\n",
    "\n",
    "f= open('s1.txt', 'w') #s1에 입력\n",
    "for ele in aa:\n",
    "    temp = ' '.join(ele)+'\\n' #쪼개진 문자열을 다시 합쳐서 라인을 만듬\n",
    "    f.write(temp) #합쳐진 각 라인들을 입력한다.\n",
    "f.close()\n",
    "\n",
    "f = open('s1.txt', 'r') #s1 읽기\n",
    "contents = f.read()\n",
    "print contents\n",
    "f.close()"
   ]
  },
  {
   "cell_type": "markdown",
   "metadata": {},
   "source": [
    "2) 파일 s.txt을 읽어서 각 라인들에 있는 두 번째 단어(문자열)들을 기준으로 라인별 정렬후 파일 s2.txt에 그 결과를 기록하는 코드를 작성하시오."
   ]
  },
  {
   "cell_type": "code",
   "execution_count": 4,
   "metadata": {
    "collapsed": false
   },
   "outputs": [
    {
     "name": "stdout",
     "output_type": "stream",
     "text": [
      "ham bird\n",
      "cat dog\n",
      "pig ham\n",
      "dog pig\n",
      "\n"
     ]
    }
   ],
   "source": [
    "aa=[] #라인별로 문자열을 쪼개고 그것을 저장하는 리스트 변수\n",
    "f = open('s.txt', 'r')\n",
    "for line in f.readlines(): #line수만큼 실행\n",
    "    temp = line.split() #라인의 문자열을 쪼갠다.\n",
    "    aa.append(temp) #쪼개진 문자열 리스트들을 리스트에 저장\n",
    "aa.sort(key=lambda item:item[1]) #각 라인의 두 번째 단어를 \n",
    "f.close()                        #기준으로 정렬\n",
    "\n",
    "f= open('s2.txt', 'w') #s1에 입력\n",
    "for ele in aa:\n",
    "    temp = ' '.join(ele)+'\\n' #쪼개진 문자열을 다시 합쳐서 라인을 만듬\n",
    "    f.write(temp) #합쳐진 각 라인들을 입력한다.\n",
    "f.close()\n",
    "\n",
    "f = open('s2.txt', 'r') #s1 읽기\n",
    "contents = f.read()\n",
    "print contents\n",
    "f.close()"
   ]
  },
  {
   "cell_type": "markdown",
   "metadata": {},
   "source": [
    "3) 파일 s.txt을 읽어서 각 라인들에 있는 모든 단어들을 순차적으로 다시 나열하되 각 라인에 세 개의 단어들이 오도록 하여 s3.txt에 기록하는 코드를 작성하시오."
   ]
  },
  {
   "cell_type": "code",
   "execution_count": 6,
   "metadata": {
    "collapsed": false
   },
   "outputs": [
    {
     "name": "stdout",
     "output_type": "stream",
     "text": [
      "pig ham cat \n",
      "dog ham bird \n",
      "dog pig \n"
     ]
    }
   ],
   "source": [
    "aa=[] #라인별로 문자열을 쪼개고 그것을 저장하는 리스트 변수\n",
    "f = open('s.txt', 'r')\n",
    "for line in f.readlines(): #line수만큼 실행\n",
    "    temp = line.split() #라인의 문자열을 쪼갠다.\n",
    "    for ele in temp: #쪼개진 문자열들을 aa에 삽입\n",
    "        aa.append(ele)\n",
    "f.close()\n",
    "\n",
    "f = open('s3.txt', 'w')\n",
    "i=0 #문자열의 순서(각 라인별로 3개씨의 문자열을 배치하기 위함)\n",
    "for ele in aa:\n",
    "    if i%3==0 and i!=0: #각 라인에 3개의 문자열을 집어넣는다.\n",
    "        f.write('\\n'+ele+' ')\n",
    "    else:\n",
    "        f.write(ele+' ')\n",
    "    i += 1\n",
    "f.close()\n",
    "\n",
    "f = open('s3.txt', 'r') #s3 읽기\n",
    "contents = f.read()\n",
    "print contents\n",
    "f.close()"
   ]
  },
  {
   "cell_type": "markdown",
   "metadata": {},
   "source": [
    "##2. 다음과 같은 조건들을 참고하여 회원 가입 및 로그인 프로그램을 작성하시오."
   ]
  },
  {
   "cell_type": "code",
   "execution_count": 1,
   "metadata": {
    "collapsed": false
   },
   "outputs": [
    {
     "name": "stdout",
     "output_type": "stream",
     "text": [
      "Welcome to Our Service\n",
      " 1. Sign Up\n",
      " 2. Sign In\n",
      " 3. Quit\n",
      "1\n",
      "id: hgb\n",
      "Password: 123\n",
      "name: hwang\n",
      "school: kut\n",
      "Welcome to Our Service\n",
      " 1. Sign Up\n",
      " 2. Sign In\n",
      " 3. Quit\n",
      "2\n",
      "id: ko\n",
      "Sorry, you are not a registered member.\n",
      "id: hgb\n",
      "Password: 123\n",
      "Hello hwang !\n",
      "Welcome to Our Service\n",
      " 1. Sign Up\n",
      " 2. Sign In\n",
      " 3. Quit\n",
      "3\n"
     ]
    }
   ],
   "source": [
    "import os #파일의 존재 유무를 확인하기 위함\n",
    "import sha #password 암호화를 위함\n",
    "#1)프로그램 시작 후 다음과 같은 메시지가 \n",
    "#출력되어 1, 2, 3 중 하나의 값을 입력 받도록 한다.\n",
    "s = '''Welcome to Our Service\n",
    " 1. Sign Up\n",
    " 2. Sign In\n",
    " 3. Quit\n",
    "'''\n",
    "while 1: #무한루프화 한다.\n",
    "    menu = input(s)\n",
    "    ID=[] #ID를 저장하는 리스트\n",
    "    pw=[] #Password를 저장하는 리스트\n",
    "    name=[] #Name을 저장하는 리스트\n",
    "    school=[] #School을 저장하는 리스트\n",
    "    #'access.txt'로부터 ID, password, name, school에 관한 정보를 추출한다.\n",
    "    #이부분은 주로 2.Sign In에서 다루지만 1.Sign Up에서도 ID에 관한 중복여부를 확인할\n",
    "    #필요가 있고, 또 이 프로그램의 사용자가 1번만 쓰고 2번은 안쓸 경우가 드물기 때문에\n",
    "    #이렇게 앞쪽에 미리 코딩하였다.\n",
    "    if (os.path.isfile('access.txt')): #'access.txt'가 있는 경우 / 없다면 1.Sign In에서 새로 만들면 된다.\n",
    "        f = open('access.txt', 'r')\n",
    "        for line in f.readlines():\n",
    "            temp=[] #라인의 각 정보를 임시저장하는 변수\n",
    "            for ele in line.split(): #라인 내부의 문자열을 공백문자 단위로 쪼갬\n",
    "                temp.append(ele.strip(':,')) #쪼개진 문자열에서 \"':', ','\" 문자 제거\n",
    "                #각 문자열은 id-pw-name-school 순으로 배치되었으므로 순서대로 리스트에 저장\n",
    "            ID.append(temp[0])\n",
    "            pw.append(temp[1])\n",
    "            name.append(temp[2])\n",
    "            school.append(temp[3])\n",
    "        f.close()       \n",
    "    #2)1을 선택하면 ID, Password, Name, School의 4가지 정보를\n",
    "    #입력받아 파일에 저장하는 프로그램을 작성한다.\n",
    "    if menu==1:\n",
    "        #2-5) 회원 정보를 입력 받을 때 id를 입력 받은 직후 access를 확인하여 \n",
    "        #이미 존재하는 id가 입력되었다면 다음 메시지를 출력하고 id 정보를\n",
    "        #다시 입력받는다.\n",
    "        while 1:\n",
    "            input_id = raw_input('id: ')\n",
    "            if input_id in ID:\n",
    "                print 'Sorry, the entered ID is already used.'\n",
    "            else:\n",
    "                ID.append(input_id)\n",
    "                break\n",
    "        #2-4)sha모듈을 활용하여 password 를 암호화한다.\n",
    "        input_pw=sha.new(raw_input('Password: ')).hexdigest()\n",
    "        input_name = raw_input('name: ')\n",
    "        input_school = raw_input('school: ')\n",
    "        #2-1)입력된 내용은 access 라는 이름의 파일 내에 저장된다.\n",
    "        f = open('access.txt', 'a')\n",
    "        #2-2)access 파일의 각 라인에는 가입된 회원 각각의 정보가\n",
    "        #\"id: Password, name, school\" 형태로 저장된다.\n",
    "        f.write(input_id+': '+input_pw+', '+input_name+', '+input_school+'\\n')\n",
    "        f.close()\n",
    "    #3)2를 선택하면 ID, Password의 2가지 정보를 입력받는 프로그램을 작성한다.\n",
    "    elif menu==2:        \n",
    "        line_index=0 #현재 입력된 ID와 Password의 라인 번호\n",
    "        #3-1) 입력된 ID 정보가 access에 존재하지 않으면 다음과 같은 메시지를 출력하고 \n",
    "        #다시 입력받는다.\n",
    "        while 1:\n",
    "            input_id = raw_input('id: ')\n",
    "            if input_id not in ID:\n",
    "                print 'Sorry, you are not a registered member.'\n",
    "            else:\n",
    "                line_index = ID.index(input_id) #ID가 입력된 순서가 곧 라인번호\n",
    "                break\n",
    "        #3-2) 입력된 ID가 올바르게 존재하지만 Password 정보가 access 파일에 있는 \n",
    "        #정보와 불일치 하면 다음과 같은 메시지를 출력하고 다시 입력받는다.\n",
    "        while 1:\n",
    "            input_pw=sha.new(raw_input('Password: ')).hexdigest()\n",
    "            if input_pw != pw[line_index]:\n",
    "                print 'Sorry, the entered password is not correct.'\n",
    "            else:\n",
    "                break\n",
    "        #3-3) 입력된 ID와 Password가 모두 올바르면 다음과 같은 메시지를 출력한다.\n",
    "        print 'Hello', name[line_index],'!'\n",
    "    #4) 3을 선택하면 프로그램이 끝난다.\n",
    "    else: #3번을 선택\n",
    "        break; #프로그램 종료"
   ]
  },
  {
   "cell_type": "markdown",
   "metadata": {},
   "source": [
    "##3. range() 함수와 유사한 frange() 함수를 다음 조건을 참고하여 만드시오."
   ]
  },
  {
   "cell_type": "code",
   "execution_count": 2,
   "metadata": {
    "collapsed": false
   },
   "outputs": [
    {
     "name": "stdout",
     "output_type": "stream",
     "text": [
      "[0.0, 0.1, 0.2, 0.3, 0.4]\n",
      "[1.0, 1.1, 1.2, 1.3, 1.4, 1.5, 1.6, 1.7, 1.8, 1.9]\n",
      "[2.2, 2.7, 3.2, 3.7]\n"
     ]
    }
   ],
   "source": [
    "from decimal import * #본 함수에서 정확한 실수값으로 계산하기 위함\n",
    "#모든 인자의 기본 인수는 None으로 하였고, 들어오는 인수의 갯수에 따라\n",
    "#문제에서 주어진 기본값을 적용하였습니다.\n",
    "def frange(start=None, stop=None, step=None):\n",
    "    if start==None and stop==None and step==None: #인수가 하나도 없는 경우\n",
    "        print '하나 이상의 양의 인수를 사용하시오.'\n",
    "        return\n",
    "    elif start!=None and stop==None and step==None: #인수가 하나인 경우\n",
    "        if start<0: #인수가 음수인 경우\n",
    "            print '각 인수들은 음수를 받을 수 없습니다.'\n",
    "            return\n",
    "        else:\n",
    "            stop=Decimal(start)\n",
    "            start=Decimal('0.0')\n",
    "            step=Decimal('0.1')\n",
    "    elif start!=None and stop!=None and step==None: #인수가 둘인 경우\n",
    "        if start<0 or stop<0: #인수가 음수인 경우\n",
    "            print '각 인수들은 음수를 받을 수 없습니다.'\n",
    "            return\n",
    "        else:\n",
    "            start=Decimal(start)\n",
    "            stop=Decimal(stop)\n",
    "            step=Decimal('0.1')\n",
    "    else: #인수가 셋인 경우\n",
    "        if start<0 or stop<0 or step<0: #인수가 음수인 경우\n",
    "            print '각 인수들은 음수를 받을 수 없습니다.'\n",
    "            return\n",
    "        else:\n",
    "            start=Decimal(start)\n",
    "            stop=Decimal(stop)\n",
    "            step=Decimal(step)\n",
    "    results=[] #결과 저장\n",
    "    value=start\n",
    "    while(value<stop):\n",
    "        results.append(float(value))\n",
    "        value+=step\n",
    "    return results\n",
    "\n",
    "print frange(0.5)\n",
    "print frange(1.0, 2.0)\n",
    "print frange(2.2, 4.0, 0.5)"
   ]
  },
  {
   "cell_type": "markdown",
   "metadata": {},
   "source": [
    "##4. 가변인수를 받는 함수 sum()을 다음과 같은 조건을 참고하여 구현하시오"
   ]
  },
  {
   "cell_type": "code",
   "execution_count": 3,
   "metadata": {
    "collapsed": false
   },
   "outputs": [
    {
     "name": "stdout",
     "output_type": "stream",
     "text": [
      "0\n",
      "3\n",
      "15\n",
      "5\n"
     ]
    }
   ],
   "source": [
    "def sum(*args): #아무 인수도 없다면 None\n",
    "    result=0 #인수를 모두 합친 결과값\n",
    "    for ele in args:\n",
    "        result+=ele\n",
    "    return result\n",
    "\n",
    "print sum()    \n",
    "print sum(1,2)\n",
    "print sum(1,2,3,4,5)\n",
    "print sum(1,5,7,2,-10)"
   ]
  },
  {
   "cell_type": "markdown",
   "metadata": {},
   "source": [
    "##5. 여러 단어로 이루어진 문자열을 입력받아 각 단어의 첫글자로 이루어진 단어를 대문자로 출력하는 myinitial() 함수를 다음 조건을 참고하여 작성하시오."
   ]
  },
  {
   "cell_type": "code",
   "execution_count": 4,
   "metadata": {
    "collapsed": false
   },
   "outputs": [
    {
     "name": "stdout",
     "output_type": "stream",
     "text": [
      "ASAP\n"
     ]
    }
   ],
   "source": [
    "def myinitial(contents): #contents: 입력받을 문자열\n",
    "    words = contents.split() #공백문자 기준으로 문자열 쪼개기\n",
    "    chars=[] #문자열의 머리문자를 저장하는 리스트\n",
    "    for word in words:\n",
    "        chars.append(word[:1]) #문자열의 머리문자를 저장\n",
    "    results = map(lambda ch: ch.title(), chars)\n",
    "    result = ''.join(results)\n",
    "    return result\n",
    "\n",
    "print myinitial(\"as soon as possible\") "
   ]
  },
  {
   "cell_type": "markdown",
   "metadata": {},
   "source": [
    "##6. 음이 아닌 정수 n를 입력받으면 n! (factorial)을 계산하는 myfact() 함수를 재귀적 함수로 구현하시오."
   ]
  },
  {
   "cell_type": "code",
   "execution_count": 5,
   "metadata": {
    "collapsed": false
   },
   "outputs": [
    {
     "name": "stdout",
     "output_type": "stream",
     "text": [
      "120\n",
      "3628800\n"
     ]
    }
   ],
   "source": [
    "def myfact(n): #정수 n\n",
    "    if n<0: #음수를 입력받았을 때 \n",
    "        print '양수를 입력해주세요.'\n",
    "        return\n",
    "    elif n==0 or n==1: #0 혹은 1을 입력받았을 때 \n",
    "        return 1 #0!=1이다.\n",
    "    else: #n>1\n",
    "        return n*myfact(n-1)\n",
    "\n",
    "print myfact(5)\n",
    "print myfact(10)"
   ]
  },
  {
   "cell_type": "markdown",
   "metadata": {},
   "source": [
    "##7. import string 과 from string import * 의 차이점을 설명하시오."
   ]
  },
  {
   "cell_type": "markdown",
   "metadata": {},
   "source": [
    "improt string 과 from string import * 모두 string(모듈) namespace의 모든 함수, 클래스 및 변수를 사용하겠다는 의미입니다. 차이점은 import stirng 은 사용하려는 것 앞에 모듈의 이름을 붙여야 합니다."
   ]
  },
  {
   "cell_type": "code",
   "execution_count": 6,
   "metadata": {
    "collapsed": false
   },
   "outputs": [
    {
     "name": "stdout",
     "output_type": "stream",
     "text": [
      "3.0\n"
     ]
    }
   ],
   "source": [
    "#ex)\n",
    "import math\n",
    "print math.ceil(2.1)\n",
    "#print ceil(2.1) #에러 발생!"
   ]
  },
  {
   "cell_type": "markdown",
   "metadata": {},
   "source": [
    "import string from *은 모듈의 이름을 붙일 필요가 없습니다."
   ]
  },
  {
   "cell_type": "code",
   "execution_count": 7,
   "metadata": {
    "collapsed": false
   },
   "outputs": [
    {
     "name": "stdout",
     "output_type": "stream",
     "text": [
      "3.0\n",
      "3.0\n"
     ]
    }
   ],
   "source": [
    "#ex)\n",
    "from math import *\n",
    "print math.ceil(2.1)\n",
    "print ceil(2.1) #에러가 발생하지 않음"
   ]
  },
  {
   "cell_type": "markdown",
   "metadata": {},
   "source": [
    "##8. 이전 Assignment 3의 마지막 문제는 웹 URL로 지정된 웹페이지를 문자열로 가져와 모든 HTML 태그 및 CSS와 Javascript를 제외한 순수 텍스트를 얻어내고 그 안에 존재하는 단어를 추출하여 각 단어들에 대해 출현빈도를 사전형태({'world': 2, 'hello': 1, 'python': 1})로 저장하여 출력하는 것이었다. 이번에는 Assignment 3를 확장하여 다음과 같은 조건을 만족하도록 구현하시오."
   ]
  },
  {
   "cell_type": "code",
   "execution_count": 3,
   "metadata": {
    "collapsed": true
   },
   "outputs": [],
   "source": [
    "#로딩이 좀 오래걸릴 수 있습니다.\n",
    "import urllib\n",
    "import re #특수문자 제거를 위함\n",
    "import pickle #pickling을 위함\n",
    "\n",
    "class dic_class: #사전을 담는 클래스\n",
    "    def __init__(self): #생성자\n",
    "        self.dic={}\n",
    "    def get_dic(self): #이 클래스의 dic을 반환\n",
    "        return self.dic\n",
    "#6개의 웹 사이트(최소 5개 이상의 웹 사이트에 대한 파일 조건에 충족)\n",
    "sites = [\"http://www.naver.com\", \"http://www.amazon.com\", \"http://www.apple.com\",\\\n",
    "         \"http://www.bbc.com\", \"http://www.fcc.gov\", \"http://www.nfl.com\"]\n",
    "for site in sites:\n",
    "    f_name = site[7:] #해당 사이트의 이름 / 맨앞의 http://를 제거해야하므로 index 7부터 시작\n",
    "    source = urllib.urlopen(site).read()\n",
    "    len_source = len(source)\n",
    "    #1) 각 URL로 지정된 웹페이지의 HTML 소스를 파일로 저장하시오.\n",
    "    f = open(f_name+'.html', 'w')\n",
    "    f.write(source)\n",
    "    dic=dic_class() #각 단어들의 출현빈도를 사전형태 클래스로 저장\n",
    "\n",
    "    source_new = None\n",
    "    i = 0\n",
    "    while (i < len_source):\n",
    "        found = False\n",
    "        if (found != True and source[i] == \"<\" and source[i+1 : i+7].lower() == \"script\"):\n",
    "            found = True;\n",
    "            j = i + 7;\n",
    "            while (True):\n",
    "                if (source[j] == \"<\" and source[j+1] == \"/\" and source[j+2 : j+8].lower() == \"script\"):\n",
    "                    #print \"found - script\"\n",
    "                    source = source[:i] + ' ' + source[j+9:]\n",
    "                    break\n",
    "                j = j + 1\n",
    "                if (j > len_source):\n",
    "                    break\n",
    "            len_source = len(source)\n",
    "        i = i + 1\n",
    "\n",
    "    len_source = len(source)\n",
    "\n",
    "    i = 0\n",
    "    while (i < len_source):\n",
    "        found = False\n",
    "        if (found != True and source[i] == \"<\" and source[i+1 : i+6].lower() == \"style\"):\n",
    "            found = True;\n",
    "            j = i + 6;\n",
    "            while (True):\n",
    "                if (source[j] == \"<\" and source[j+1] == \"/\" and source[j+2 : j+7].lower() == \"style\"):\n",
    "                    #print \"found - style\"\n",
    "                    source = source[:i] + ' ' + source[j+8:]\n",
    "                    break\n",
    "                j = j + 1\n",
    "                if (j > len_source):\n",
    "                    break\n",
    "            len_source = len(source)\n",
    "        i = i + 1\n",
    "\n",
    "    len_source = len(source)\n",
    "\n",
    "    i = 0\n",
    "    while (i < len_source):\n",
    "        found = False\n",
    "        if (found != True and source[i] == \"<\"):\n",
    "            found = True;\n",
    "            j = i + 1;\n",
    "            while (True):\n",
    "                if (source[j] == \">\"):\n",
    "                    #print \"found - HTML tag\"\n",
    "                    source = source[:i] + ' ' + source[j+1:]\n",
    "                    break\n",
    "                j = j + 1\n",
    "                if (j > len_source):\n",
    "                    break\n",
    "            len_source = len(source)\n",
    "        i = i + 1\n",
    "\n",
    "    words = source.split()\n",
    "\n",
    "    for word in words:\n",
    "        word=re.sub('[^가-힝0-9a-zA-Z\\\\s]', '', word) #특수문자 제거\n",
    "        if word!='':\n",
    "            #해당 문자에 대한 사전값(key값)이 정의되어 있지 않다면 신규로 정의함\n",
    "            if(dic.get_dic().get(word) == None):\n",
    "                dic.get_dic()[word]=1\n",
    "            else: #신규가 아니라면 빈도수(value값)에 1을 더함 \n",
    "                dic.get_dic()[word]+=1\n",
    "    #2)단어의 출현빈도가 담긴 사전 객체를 위 HTML 소스 파일과 동일한 폴더에 \n",
    "    #파일로 저장하시오.\n",
    "    f = open(f_name+'.words.frequency', 'w')\n",
    "    pickle.dump(dic, f) #인스턴스 저장\n",
    "    f.close()\n"
   ]
  },
  {
   "cell_type": "markdown",
   "metadata": {},
   "source": [
    "위 문제에서 저장한 모든 words.frequency 파일들을 로드 하여 본인이 저장하여 분석한 사이트들에서 가장 많이 출현한 단어를 뽑아 제시하시오."
   ]
  },
  {
   "cell_type": "code",
   "execution_count": 4,
   "metadata": {
    "collapsed": false
   },
   "outputs": [
    {
     "name": "stdout",
     "output_type": "stream",
     "text": [
      "<www.naver.com 웹 사이트에서 가장 많이 출현한 단어>\n",
      "네이버 : 16\n",
      "\n",
      "<www.amazon.com 웹 사이트에서 가장 많이 출현한 단어>\n",
      "Amazon : 17\n",
      "\n",
      "<www.apple.com 웹 사이트에서 가장 많이 출현한 단어>\n",
      "Apple : 18\n",
      "\n",
      "<www.bbc.com 웹 사이트에서 가장 많이 출현한 단어>\n",
      "the : 39\n",
      "\n",
      "<www.fcc.gov 웹 사이트에서 가장 많이 출현한 단어>\n",
      "FCC : 22\n",
      "\n",
      "<www.nfl.com 웹 사이트에서 가장 많이 출현한 단어>\n",
      "the : 84\n",
      "\n",
      "위 6 개의 웹 사이트에서 가장 많이 등장한 단어는 www.nfl.com 웹 사이트의\n",
      "the : 84 입니다.\n"
     ]
    }
   ],
   "source": [
    "import pickle #pickling을 위함\n",
    "\n",
    "max_words=[] #웹 사이트별로 가장 많이 쓰인 단어와 빈도수를 저장\n",
    "sites = [\"http://www.naver.com\", \"http://www.amazon.com\", \"http://www.apple.com\",\\\n",
    "         \"http://www.bbc.com\", \"http://www.fcc.gov\", \"http://www.nfl.com\"]\n",
    "#sites = [\"http://www.nbviewer.org\"]\n",
    "for site in sites:\n",
    "    f_name = site[7:] #해당 사이트의 이름 / 맨앞의 http://를 제거해야하므로 index 7부터 시작\n",
    "    f = open(f_name+'.words.frequency')\n",
    "    p = pickle.load(f) #해당 파일 피클링\n",
    "    \n",
    "    L=p.get_dic().items() #사전의 items 저장\n",
    "    L.sort(reverse=True, key=lambda item:item[1]) #value값에 따라 오름차순으로 정렬\n",
    "    max_item=L[0] #내림차순 정렬을 하였으므로 첫 번째 인자가 가장 크다. / max_item[0]:key, max_item[1]:value\n",
    "    max_word=(f_name,max_item) #웹 사이트 이름, 최다 빈도 단어명, 빈도수 기록 기록\n",
    "    max_words.append(max_word)                  \n",
    "    print '<'+f_name+' 웹 사이트에서 가장 많이 출현한 단어'+'>'\n",
    "    print max_item[0],':',max_item[1]\n",
    "    print #개행\n",
    "#주어진 웹 사이트 중 가장 많은 빈도수를 가진 단어를 찾기위해 sorting한다.\n",
    "max_words.sort(reverse=True, key=lambda item:item[1][1]) #max_words[1][1]에 빈도수가 저장되어 있음.\n",
    "#max_words[0]: 최다 빈도 단어를 가진 웹 사이트의 정보\n",
    "#max_words[][0]: 웹사이트 이름, max_words[][1][0]: 단어 이름, max_words[][1][1]: 빈도 수\n",
    "print '위',len(sites),'개의 웹 사이트에서 가장 많이 등장한 단어는',max_words[0][0],'웹 사이트의'\n",
    "print max_words[0][1][0],':',max_words[0][1][1],'입니다.' "
   ]
  },
  {
   "cell_type": "markdown",
   "metadata": {},
   "source": [
    "##9. 프로젝트 오일러 문제 10\n",
    "이백만(2,000,000) 이하 소수의 합은 얼마입니까?"
   ]
  },
  {
   "cell_type": "code",
   "execution_count": 3,
   "metadata": {
    "collapsed": false
   },
   "outputs": [
    {
     "name": "stdout",
     "output_type": "stream",
     "text": [
      "142913828922\n"
     ]
    }
   ],
   "source": [
    "def sumPrimes(n):\n",
    "    sum, sieve = 0, [True] * n\n",
    "    for p in range(2, n):\n",
    "        if sieve[p]:\n",
    "            sum += p\n",
    "            for i in range(p*p, n, p):\n",
    "                sieve[i] = False\n",
    "    return sum\n",
    "\n",
    "print sumPrimes(2000000)"
   ]
  },
  {
   "cell_type": "markdown",
   "metadata": {},
   "source": [
    "##10. 프로젝트 오일러 문제 11\n",
    "아래와 같은 20×20 격자가 있습니다.\n",
    "위에서 대각선 방향으로 연속된 붉은 숫자 네 개의 곱은 26 × 63 × 78 × 14 = 1788696 입니다.\n",
    "그러면 수평, 수직, 또는 대각선 방향으로 연속된 숫자 네 개의 곱 중 최대값은 얼마입니까?"
   ]
  },
  {
   "cell_type": "code",
   "execution_count": 3,
   "metadata": {
    "collapsed": false
   },
   "outputs": [
    {
     "name": "stdout",
     "output_type": "stream",
     "text": [
      "70600674\n"
     ]
    }
   ],
   "source": [
    "import time\n",
    "start = time.time()\n",
    " \n",
    "grid = [\\\n",
    "[8,02,22,97,38,15,00,40,00,75,04,05,07,78,52,12,50,77,91,8],\\\n",
    "[49,49,99,40,17,81,18,57,60,87,17,40,98,43,69,48,04,56,62,00],\\\n",
    "[81,49,31,73,55,79,14,29,93,71,40,67,53,88,30,03,49,13,36,65],\\\n",
    "[52,70,95,23,04,60,11,42,69,24,68,56,01,32,56,71,37,02,36,91],\\\n",
    "[22,31,16,71,51,67,63,89,41,92,36,54,22,40,40,28,66,33,13,80],\\\n",
    "[24,47,32,60,99,03,45,02,44,75,33,53,78,36,84,20,35,17,12,50],\\\n",
    "[32,98,81,28,64,23,67,10,26,38,40,67,59,54,70,66,18,38,64,70],\\\n",
    "[67,26,20,68,02,62,12,20,95,63,94,39,63,8,40,91,66,49,94,21],\\\n",
    "[24,55,58,05,66,73,99,26,97,17,78,78,96,83,14,88,34,89,63,72],\\\n",
    "[21,36,23,9,75,00,76,44,20,45,35,14,00,61,33,97,34,31,33,95],\\\n",
    "[78,17,53,28,22,75,31,67,15,94,03,80,04,62,16,14,9,53,56,92],\\\n",
    "[16,39,05,42,96,35,31,47,55,58,88,24,00,17,54,24,36,29,85,57],\\\n",
    "[86,56,00,48,35,71,89,07,05,44,44,37,44,60,21,58,51,54,17,58],\\\n",
    "[19,80,81,68,05,94,47,69,28,73,92,13,86,52,17,77,04,89,55,40],\\\n",
    "[04,52,8,83,97,35,99,16,07,97,57,32,16,26,26,79,33,27,98,66],\\\n",
    "[88,36,68,87,57,62,20,72,03,46,33,67,46,55,12,32,63,93,53,69],\\\n",
    "[04,42,16,73,38,25,39,11,24,94,72,18,8,46,29,32,40,62,76,36],\\\n",
    "[20,69,36,41,72,30,23,88,34,62,99,69,82,67,59,85,74,04,36,16],\\\n",
    "[20,73,35,29,78,31,90,01,74,31,49,71,48,86,81,16,23,57,05,54],\\\n",
    "[01,70,54,71,83,51,54,69,16,92,33,48,61,43,52,01,89,19,67,48]]\n",
    "     \n",
    "# left and right\n",
    "max, product = 0, 0\n",
    "for x in range(0,17):\n",
    "    for y in xrange(0,20):\n",
    "        product = grid[y][x] * grid[y][x+1] * \\\n",
    "          grid[y][x+2] * grid[y][x+3]\n",
    "        if product > max : max = product \n",
    " \n",
    "# up and down\n",
    "for x in range(0,20):\n",
    "    for y in xrange(0,17):\n",
    "        product = grid[y][x] * grid[y+1][x] * \\\n",
    "          grid[y+2][x] * grid[y+3][x]\n",
    "        if product > max : max = product\n",
    "   \n",
    "# diagonal right\n",
    "for x in range(0,17):\n",
    "    for y in xrange(0,17):\n",
    "        product = grid[y][x] * grid[y+1][x+1] * \\\n",
    "          grid[y+2][x+2] * grid[y+3][x+3]\n",
    "        if product > max: max = product \n",
    " \n",
    "# diagonal left\n",
    "for x in range(0,17):\n",
    "    for y in xrange(0,17):\n",
    "        product = grid[y][x+3] * grid[y+1][x+2] * \\\n",
    "          grid[y+2][x+1] * grid[y+3][x]\n",
    "        if product > max : max = product  \n",
    "   \n",
    "print max"
   ]
  },
  {
   "cell_type": "markdown",
   "metadata": {},
   "source": [
    "##11. 프로젝트 오일러 문제 12\n",
    "500개 이상의 약수를 갖는 가장 작은 삼각수는 얼마입니까?"
   ]
  },
  {
   "cell_type": "code",
   "execution_count": 2,
   "metadata": {
    "collapsed": false
   },
   "outputs": [
    {
     "name": "stdout",
     "output_type": "stream",
     "text": [
      "num: 76576500\n",
      "count: 576\n"
     ]
    }
   ],
   "source": [
    "import math\n",
    " \n",
    "def get_divisors(number):\n",
    "    tlist = []\n",
    "    for x in xrange(2, int(math.sqrt(number))):\n",
    "        d,r = divmod(number,x)\n",
    "        if r == 0:\n",
    "            tlist.append(x)\n",
    "            tlist.append(d)\n",
    " \n",
    "    return len([1, number] + tlist)\n",
    " \n",
    "def triangle_nums():\n",
    "    iterator = 7\n",
    "    num = 28\n",
    " \n",
    "    while True:\n",
    "        yield num\n",
    "        iterator += 1\n",
    "        num += iterator\n",
    " \n",
    "if __name__ == \"__main__\":\n",
    "    tn = triangle_nums()\n",
    "    for t in tn:\n",
    "        tl = get_divisors(t)\n",
    "        if tl > 500:\n",
    "            print \"num: %d\\ncount: %d\" % (t,tl)\n",
    "            break"
   ]
  },
  {
   "cell_type": "markdown",
   "metadata": {},
   "source": [
    "##12. 프로젝트 오일러 문제 13\n",
    "아래에 50자리 숫자가 100개 있습니다. 이것을 모두 더한 값의 첫 10자리는 얼마입니까?"
   ]
  },
  {
   "cell_type": "code",
   "execution_count": 4,
   "metadata": {
    "collapsed": false
   },
   "outputs": [
    {
     "name": "stdout",
     "output_type": "stream",
     "text": [
      "5537376230\n"
     ]
    }
   ],
   "source": [
    "bigArray = []\n",
    "\n",
    "bigArray.append(37107287533902102798797998220837590246510135740250)\n",
    "bigArray.append(46376937677490009712648124896970078050417018260538)\n",
    "bigArray.append(74324986199524741059474233309513058123726617309629)\n",
    "bigArray.append(91942213363574161572522430563301811072406154908250)\n",
    "bigArray.append(23067588207539346171171980310421047513778063246676)\n",
    "bigArray.append(89261670696623633820136378418383684178734361726757)\n",
    "bigArray.append(28112879812849979408065481931592621691275889832738)\n",
    "bigArray.append(44274228917432520321923589422876796487670272189318)\n",
    "bigArray.append(47451445736001306439091167216856844588711603153276)\n",
    "bigArray.append(70386486105843025439939619828917593665686757934951)\n",
    "bigArray.append(62176457141856560629502157223196586755079324193331)\n",
    "bigArray.append(64906352462741904929101432445813822663347944758178)\n",
    "bigArray.append(92575867718337217661963751590579239728245598838407)\n",
    "bigArray.append(58203565325359399008402633568948830189458628227828)\n",
    "bigArray.append(80181199384826282014278194139940567587151170094390)\n",
    "bigArray.append(35398664372827112653829987240784473053190104293586)\n",
    "bigArray.append(86515506006295864861532075273371959191420517255829)\n",
    "bigArray.append(71693888707715466499115593487603532921714970056938)\n",
    "bigArray.append(54370070576826684624621495650076471787294438377604)\n",
    "bigArray.append(53282654108756828443191190634694037855217779295145)\n",
    "bigArray.append(36123272525000296071075082563815656710885258350721)\n",
    "bigArray.append(45876576172410976447339110607218265236877223636045)\n",
    "bigArray.append(17423706905851860660448207621209813287860733969412)\n",
    "bigArray.append(81142660418086830619328460811191061556940512689692)\n",
    "bigArray.append(51934325451728388641918047049293215058642563049483)\n",
    "bigArray.append(62467221648435076201727918039944693004732956340691)\n",
    "bigArray.append(15732444386908125794514089057706229429197107928209)\n",
    "bigArray.append(55037687525678773091862540744969844508330393682126)\n",
    "bigArray.append(18336384825330154686196124348767681297534375946515)\n",
    "bigArray.append(80386287592878490201521685554828717201219257766954)\n",
    "bigArray.append(78182833757993103614740356856449095527097864797581)\n",
    "bigArray.append(16726320100436897842553539920931837441497806860984)\n",
    "bigArray.append(48403098129077791799088218795327364475675590848030)\n",
    "bigArray.append(87086987551392711854517078544161852424320693150332)\n",
    "bigArray.append(59959406895756536782107074926966537676326235447210)\n",
    "bigArray.append(69793950679652694742597709739166693763042633987085)\n",
    "bigArray.append(41052684708299085211399427365734116182760315001271)\n",
    "bigArray.append(65378607361501080857009149939512557028198746004375)\n",
    "bigArray.append(35829035317434717326932123578154982629742552737307)\n",
    "bigArray.append(94953759765105305946966067683156574377167401875275)\n",
    "bigArray.append(88902802571733229619176668713819931811048770190271)\n",
    "bigArray.append(25267680276078003013678680992525463401061632866526)\n",
    "bigArray.append(36270218540497705585629946580636237993140746255962)\n",
    "bigArray.append(24074486908231174977792365466257246923322810917141)\n",
    "bigArray.append(91430288197103288597806669760892938638285025333403)\n",
    "bigArray.append(34413065578016127815921815005561868836468420090470)\n",
    "bigArray.append(23053081172816430487623791969842487255036638784583)\n",
    "bigArray.append(11487696932154902810424020138335124462181441773470)\n",
    "bigArray.append(63783299490636259666498587618221225225512486764533)\n",
    "bigArray.append(67720186971698544312419572409913959008952310058822)\n",
    "bigArray.append(95548255300263520781532296796249481641953868218774)\n",
    "bigArray.append(76085327132285723110424803456124867697064507995236)\n",
    "bigArray.append(37774242535411291684276865538926205024910326572967)\n",
    "bigArray.append(23701913275725675285653248258265463092207058596522)\n",
    "bigArray.append(29798860272258331913126375147341994889534765745501)\n",
    "bigArray.append(18495701454879288984856827726077713721403798879715)\n",
    "bigArray.append(38298203783031473527721580348144513491373226651381)\n",
    "bigArray.append(34829543829199918180278916522431027392251122869539)\n",
    "bigArray.append(40957953066405232632538044100059654939159879593635)\n",
    "bigArray.append(29746152185502371307642255121183693803580388584903)\n",
    "bigArray.append(41698116222072977186158236678424689157993532961922)\n",
    "bigArray.append(62467957194401269043877107275048102390895523597457)\n",
    "bigArray.append(23189706772547915061505504953922979530901129967519)\n",
    "bigArray.append(86188088225875314529584099251203829009407770775672)\n",
    "bigArray.append(11306739708304724483816533873502340845647058077308)\n",
    "bigArray.append(82959174767140363198008187129011875491310547126581)\n",
    "bigArray.append(97623331044818386269515456334926366572897563400500)\n",
    "bigArray.append(42846280183517070527831839425882145521227251250327)\n",
    "bigArray.append(55121603546981200581762165212827652751691296897789)\n",
    "bigArray.append(32238195734329339946437501907836945765883352399886)\n",
    "bigArray.append(75506164965184775180738168837861091527357929701337)\n",
    "bigArray.append(62177842752192623401942399639168044983993173312731)\n",
    "bigArray.append(32924185707147349566916674687634660915035914677504)\n",
    "bigArray.append(99518671430235219628894890102423325116913619626622)\n",
    "bigArray.append(73267460800591547471830798392868535206946944540724)\n",
    "bigArray.append(76841822524674417161514036427982273348055556214818)\n",
    "bigArray.append(97142617910342598647204516893989422179826088076852)\n",
    "bigArray.append(87783646182799346313767754307809363333018982642090)\n",
    "bigArray.append(10848802521674670883215120185883543223812876952786)\n",
    "bigArray.append(71329612474782464538636993009049310363619763878039)\n",
    "bigArray.append(62184073572399794223406235393808339651327408011116)\n",
    "bigArray.append(66627891981488087797941876876144230030984490851411)\n",
    "bigArray.append(60661826293682836764744779239180335110989069790714)\n",
    "bigArray.append(85786944089552990653640447425576083659976645795096)\n",
    "bigArray.append(66024396409905389607120198219976047599490197230297)\n",
    "bigArray.append(64913982680032973156037120041377903785566085089252)\n",
    "bigArray.append(16730939319872750275468906903707539413042652315011)\n",
    "bigArray.append(94809377245048795150954100921645863754710598436791)\n",
    "bigArray.append(78639167021187492431995700641917969777599028300699)\n",
    "bigArray.append(15368713711936614952811305876380278410754449733078)\n",
    "bigArray.append(40789923115535562561142322423255033685442488917353)\n",
    "bigArray.append(44889911501440648020369068063960672322193204149535)\n",
    "bigArray.append(41503128880339536053299340368006977710650566631954)\n",
    "bigArray.append(81234880673210146739058568557934581403627822703280)\n",
    "bigArray.append(82616570773948327592232845941706525094512325230608)\n",
    "bigArray.append(22918802058777319719839450180888072429661980811197)\n",
    "bigArray.append(77158542502016545090413245809786882778948721859617)\n",
    "bigArray.append(72107838435069186155435662884062257473692284509516)\n",
    "bigArray.append(20849603980134001723930671666823555245252804609722)\n",
    "bigArray.append(53503534226472524250874054075591789781264330331690)\n",
    "\n",
    "sum = 0\n",
    "\n",
    "for i in range (0, len(bigArray)):\n",
    "    sum += bigArray[i]\n",
    "    \n",
    "print (str(sum)[0:10])"
   ]
  },
  {
   "cell_type": "markdown",
   "metadata": {},
   "source": [
    "##13. 프로젝트 오일러 문제 14\n",
    "백만(1,000,000) 이하의 수로 시작했을 때 1까지 도달하는데 가장 긴 과정을 거치는 숫자는 얼마입니까?"
   ]
  },
  {
   "cell_type": "code",
   "execution_count": 6,
   "metadata": {
    "collapsed": false
   },
   "outputs": [
    {
     "name": "stdout",
     "output_type": "stream",
     "text": [
      "837799\n"
     ]
    }
   ],
   "source": [
    "import time\n",
    "start = time.time()\n",
    " \n",
    "def collatz_length(n):\n",
    "    # 0 and 1 return self as length\n",
    "    if n <= 1: return n\n",
    " \n",
    "    length = 1\n",
    "    while (n != 1):\n",
    "      if (n % 2 == 0):\n",
    "        n /= 2\n",
    "      else:\n",
    "        n = 3*n + 1\n",
    "       \n",
    "      length += 1\n",
    "     \n",
    "    return length\n",
    "     \n",
    "starting_number, longest_chain = 1, 0\n",
    " \n",
    "for x in xrange(1, 1000001):\n",
    "    l = collatz_length(x)\n",
    "    if l > longest_chain: starting_number, longest_chain = x, l \n",
    "         \n",
    "print starting_number "
   ]
  },
  {
   "cell_type": "markdown",
   "metadata": {},
   "source": [
    "##14. 프로젝트 오일러 문제 15\n",
    "20 × 20 격자에는 모두 몇 개의 경로가 있습니까?"
   ]
  },
  {
   "cell_type": "code",
   "execution_count": 8,
   "metadata": {
    "collapsed": false
   },
   "outputs": [
    {
     "name": "stdout",
     "output_type": "stream",
     "text": [
      "137846528820\n"
     ]
    }
   ],
   "source": [
    "from math import factorial\n",
    "import time\n",
    " \n",
    "def main():\n",
    "    \"\"\"Main Program\"\"\"\n",
    "    start_time = time.time()\n",
    " \n",
    "    n = 40      # The total number of moves for any one path (right + down)\n",
    "    r = 20      # The total number of right moves for any one path\n",
    " \n",
    "    print factorial(n) / (factorial(r) * factorial(n - r))\n",
    " \n",
    "if __name__ == '__main__':\n",
    "    main()"
   ]
  }
 ],
 "metadata": {
  "kernelspec": {
   "display_name": "Python 2",
   "language": "python",
   "name": "python2"
  },
  "language_info": {
   "codemirror_mode": {
    "name": "ipython",
    "version": 2
   },
   "file_extension": ".py",
   "mimetype": "text/x-python",
   "name": "python",
   "nbconvert_exporter": "python",
   "pygments_lexer": "ipython2",
   "version": "2.7.9"
  }
 },
 "nbformat": 4,
 "nbformat_minor": 0
}
